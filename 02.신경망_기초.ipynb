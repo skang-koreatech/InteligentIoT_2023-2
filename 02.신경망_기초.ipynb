{
 "cells": [
  {
   "cell_type": "markdown",
   "metadata": {
    "id": "QrCFFTwy7Vje"
   },
   "source": [
    "# **지능형 IoT 응용**\n",
    "#### 한국기술교육대학교 컴퓨터공학부 스마트 IoT 트랙\n",
    "\n",
    "\n",
    "---\n"
   ]
  },
  {
   "cell_type": "markdown",
   "metadata": {
    "id": "jHowFN2uBzSo"
   },
   "source": [
    "# 02. 신경망 기초 - 퍼셉트론(Perceptron) 및 다층 퍼셉트론 (Multi-Layer Perceptron)"
   ]
  },
  {
   "cell_type": "markdown",
   "metadata": {
    "id": "C8E_Xsya7Vjf"
   },
   "source": [
    "---\n",
    "\n",
    "### Acknowledgement\n",
    "\n",
    "\n",
    "이 자료는 다음 서적의 내용을 바탕으로 작성되었음\n",
    "- 밑바닥부터 시작하는 딥러닝 (Deep Learning from Scratch), 사이토 고키 지음, 개잎맵시 옮김, 한빛미디어\n",
    "- 모두의 딥러닝 (개정2판), 조태호 지음, 길벗\n",
    "\n",
    "---"
   ]
  },
  {
   "cell_type": "markdown",
   "metadata": {
    "id": "5F9IrgOJ7Vjg"
   },
   "source": [
    "### 2.1 퍼셉트론 (Perceptron)\n",
    "\n",
    "- 신경망(인공 신경망, Artificial Neural Network, ANN)의 기원이되는 알고리즘\n",
    "  - 프랑크 로젠블라트가 1957년 고안한 알고리즘\n",
    "- 다수의 신호를 입력으로 받아 하나의 신호를 출력\n",
    "\n",
    "<img src=\"./02.신경망_기초/02-1.perceptron.png\" width=\"20%\" height=\"20%\">\n",
    "\n",
    "- 입력으로 2개의 신호를 받는 퍼셉트론의 예\n",
    "  - x1, x2: 입력 신호\n",
    "  - y:      출력 신호\n",
    "  - w1, w2: 가중치 (weight)\n",
    "  - 그림의 원: 뉴런(노드)"
   ]
  },
  {
   "cell_type": "markdown",
   "metadata": {
    "id": "M43iRaYK7Vjh"
   },
   "source": [
    "- 퍼셉트론 동작 원리\n",
    "  - 입력 신호가 뉴런에 입력될 때 각각 가중치가 곱해짐\n",
    "  - 가중치는 각 신호가 결과에 주는 영향력을 조절하는 요소로 작용 (가중치가 클수록 해당 신호가 그만큼 더 중요함을 의미)\n",
    "  - 뉴런에서 보내온 신호의 총합이 정해진 임계값(theta)을 넘을 때만 1을 출력 ('뉴런이 활성화한다'라고 표현하기도 함)\n",
    " \n",
    " \n",
    " <img src=\"./02.신경망_기초/02-2.perceptron-equation.png\" width=\"30%\" height=\"30%\">\n",
    " "
   ]
  },
  {
   "cell_type": "markdown",
   "metadata": {
    "id": "qqpL-8yF7Vji"
   },
   "source": [
    "### 2.2 퍼셉트론을 이용한 논리 회로 표현\n",
    "\n"
   ]
  },
  {
   "cell_type": "markdown",
   "metadata": {
    "id": "W_MrsN9oAgZp"
   },
   "source": [
    "#### 2.2.1 AND 게이트\n",
    "\n",
    "| x1 | x2 | y |\n",
    "|----|----|---|\n",
    "| 0 | 0 | 0 |\n",
    "| 1 | 0 | 0 |\n",
    "| 0 | 1 | 0 |\n",
    "| 1 | 1 | 1 |"
   ]
  },
  {
   "cell_type": "markdown",
   "metadata": {
    "id": "LQHNf11b7Vji"
   },
   "source": [
    "- AND 게이트를 퍼셉트론으로 표현하려면?\n",
    "  - AND 게이트의 진리표대로 작동하도록 하는 w1, w2, theta의 값을 정하는 것이 필요\n",
    "  - (0.5, 0.5, 0.7) 혹은 (0.5, 0.5, 0.8) 혹은 (0.4, 0.6, 0.9)\n",
    "  - 매개변수를 위와 같이 설정하면 x1과 x2 모두 1일 때만 가중 신호의 총합이 주어진 임계값을 넘게 됨\n",
    "  - 가능한 다른 값은?? 가능한 매개변수 값 조합은 얼마나 있을까?"
   ]
  },
  {
   "cell_type": "markdown",
   "metadata": {
    "id": "swRIGbK47Vjj"
   },
   "source": [
    "#### 2.2.2 NAND 게이트\n",
    "\n",
    "| x1 | x2 | y |\n",
    "|----|----|---|\n",
    "| 0 | 0 | 1 |\n",
    "| 1 | 0 | 1 |\n",
    "| 0 | 1 | 1 |\n",
    "| 1 | 1 | 0 |"
   ]
  },
  {
   "cell_type": "markdown",
   "metadata": {
    "id": "XtWkXjqE7Vjk"
   },
   "source": [
    "- NAND는 Not AND를 의미\n",
    "- AND 게이트의 출력을 뒤집은 것\n",
    "- NAND 게이트를 표현할 수 있는 매개변수 값은?\n",
    "  - (-0.5, -0.5, -0.7)\n",
    "  - 다른 가능한 조합은?"
   ]
  },
  {
   "cell_type": "markdown",
   "metadata": {
    "id": "3X964AkI7Vjl"
   },
   "source": [
    "#### 2.2.3 OR 게이트\n",
    "\n",
    "| x1 | x2 | y |\n",
    "|----|----|---|\n",
    "| 0 | 0 | 0 |\n",
    "| 1 | 0 | 1 |\n",
    "| 0 | 1 | 1 |\n",
    "| 1 | 1 | 1 |"
   ]
  },
  {
   "cell_type": "markdown",
   "metadata": {
    "id": "gzhbA-y97Vjm"
   },
   "source": [
    "- OR 게이트를 표현할 수 있는 매개변수 값은?\n",
    "  - (0.5, 0.5, 0.2)\n",
    "  - 다른 가능한 조합은?"
   ]
  },
  {
   "cell_type": "markdown",
   "metadata": {
    "id": "7KwSmPjy7Vjm"
   },
   "source": [
    "- 요약\n",
    "  - 퍼셉트론으로 AND, NAND, OR 논리 회로를 표현할 수 있음\n",
    "  - 퍼셉트론의 구조는 어느 논리 회로이든 동일함\n",
    "  - 다른 것은 매개변수(가중치와 임계값)의 값\n"
   ]
  },
  {
   "cell_type": "markdown",
   "metadata": {
    "id": "8Yy424vz7Vjn"
   },
   "source": [
    "### 2.3 퍼셉트론 구현\n",
    "\n",
    "- 파이썬을 이용한 AND 게이트 구현"
   ]
  },
  {
   "cell_type": "code",
   "execution_count": 1,
   "metadata": {
    "id": "MjX19_2I7Vjn"
   },
   "outputs": [],
   "source": [
    "def AND(x1, x2):\n",
    "    # 매개변수(가중치 및 theta) 초기화\n",
    "    # 위에서 설정 가능한 매개변수 값 중 하나로 얘기했던 것\n",
    "    w1, w2, theta = 0.5, 0.5, 0.7 \n",
    "    \n",
    "    tmp = x1*w1 + x2*w2\n",
    "    \n",
    "    if tmp <= theta:\n",
    "        return 0\n",
    "    elif tmp > theta:\n",
    "        return 1\n"
   ]
  },
  {
   "cell_type": "code",
   "execution_count": 2,
   "metadata": {
    "id": "l0l3E4zn7Vjo",
    "outputId": "eaf29c85-741d-4951-aba5-71be8e85841c"
   },
   "outputs": [
    {
     "name": "stdout",
     "output_type": "stream",
     "text": [
      "0\n",
      "0\n",
      "0\n",
      "1\n"
     ]
    }
   ],
   "source": [
    "# AND 게이트 결과 확인\n",
    "\n",
    "print(AND(0, 0))\n",
    "print(AND(1, 0))\n",
    "print(AND(0, 1))\n",
    "print(AND(1, 1))\n"
   ]
  },
  {
   "cell_type": "markdown",
   "metadata": {
    "id": "ZOHUOVNr7Vjp"
   },
   "source": [
    "- 편향 도입\n",
    "  - 이전 수식에서 theta를 -b로 치환\n",
    "  - b: 편향(bias)라고 함\n",
    " \n",
    "<img src=\"./02.신경망_기초/02-3.perceptron-equation-2.png\" width=\"30%\" height=\"30%\">\n",
    "\n",
    "\n",
    "- 새로운 수식의 관점에서, 퍼셉트론은 입력 신호에 가중치를 곱한 값과 편향을 합하여 그 값이 0을 넘으면 1을 출력하고 그렇지 않으면 0을 출력하는 것으로 볼 수 있음"
   ]
  },
  {
   "cell_type": "markdown",
   "metadata": {
    "id": "xHjvRtJu7Vjp"
   },
   "source": [
    "- AND 게이트 구현 변경"
   ]
  },
  {
   "cell_type": "code",
   "execution_count": 3,
   "metadata": {
    "id": "83CqDr2W7Vjp"
   },
   "outputs": [],
   "source": [
    "import numpy as np\n",
    "\n",
    "def AND(x1, x2):\n",
    "    x = np.array([x1, x2]) # 입력\n",
    "    w = np.array([0.5, 0.5]) # 가중치\n",
    "    b = -0.7 # 편향\n",
    "    \n",
    "    tmp = np.sum(w*x) + b # 입력 신호의 가중합에 편향을 더함\n",
    "    \n",
    "    if tmp <= 0:\n",
    "        return 0\n",
    "    else:\n",
    "        return 1"
   ]
  },
  {
   "cell_type": "code",
   "execution_count": 4,
   "metadata": {
    "id": "z3vaRV-U7Vjp",
    "outputId": "3805fbd2-7e87-4ae2-b303-4e97c85e7131"
   },
   "outputs": [
    {
     "name": "stdout",
     "output_type": "stream",
     "text": [
      "0\n",
      "0\n",
      "0\n",
      "1\n"
     ]
    }
   ],
   "source": [
    "# AND 게이트 결과 확인\n",
    "\n",
    "print(AND(0, 0))\n",
    "print(AND(1, 0))\n",
    "print(AND(0, 1))\n",
    "print(AND(1, 1))"
   ]
  },
  {
   "cell_type": "markdown",
   "metadata": {
    "id": "s3aig_kJ7Vjq"
   },
   "source": [
    "- 편향은 뉴런이 얼마나 쉽게 활성화(결과로 1을 출력)하느냐를 조정하는 매개변수로 볼 수 있음\n",
    "  - 만약 b가 -0.1이면 각 입력 신호에 가중치를 곱한 값들의 합이 0.1을 초과할 때만 뉴런이 활성화함\n",
    "  - 반면 b가 -20.0이면 각 입력 신호에 가중치를 곱한 값들의 합이 20.0을 넘지 않으면 뉴런은 활성화하지 않음\n",
    " \n",
    " \n",
    "- w1, w2는 가중치, b는 편향으로 서로 구별하기도 하지만, 모두 가중치라고 하기도 함\n"
   ]
  },
  {
   "cell_type": "markdown",
   "metadata": {
    "id": "cfzjqDaF7Vjq"
   },
   "source": [
    "#### 2.3.1 실습 과제\n",
    "\n",
    "- 위의 AND 게이트 구현을 참고하여 NAND 게이트와 OR 게이트를 파이썬 함수로 구현하고 그 결과를 확인해보자"
   ]
  },
  {
   "cell_type": "markdown",
   "metadata": {
    "id": "aUV4iZR_7Vjq"
   },
   "source": [
    "---"
   ]
  },
  {
   "cell_type": "markdown",
   "metadata": {
    "id": "P0EGOzkg7Vjq"
   },
   "source": [
    "### 2.4 퍼셉트론의 한계\n",
    "\n",
    "\n",
    "- 퍼셉트론을 이용하여 AND, NAND, OR 게이트를 표현할 수 있었는데 XOR 게이트도 가능할까?"
   ]
  },
  {
   "cell_type": "markdown",
   "metadata": {
    "id": "3prdJx257Vjq"
   },
   "source": [
    "#### 2.4.1 XOR 게이트\n",
    "\n",
    "| x1 | x2 | y |\n",
    "|----|----|---|\n",
    "| 0 | 0 | 0 |\n",
    "| 1 | 0 | 1 |\n",
    "| 0 | 1 | 1 |\n",
    "| 1 | 1 | 0 |"
   ]
  },
  {
   "cell_type": "markdown",
   "metadata": {
    "id": "xSLBCV6r7Vjr"
   },
   "source": [
    "- XOR\n",
    "  - 배타적 논리합\n",
    "  - 입력 중 한쪽이 1일 때만 1을 출력\n",
    " \n",
    " \n",
    "#### 생각해보기\n",
    "- XOR 게이트를 퍼셉트론으로 구현하기 위해 가중치 매개변수 값을 어떻게 설정할 수 있을까?"
   ]
  },
  {
   "cell_type": "markdown",
   "metadata": {
    "id": "qsy1n_-T7Vjr"
   },
   "source": [
    "- OR 게이트 퍼셉트론의 시각화\n",
    "  - (b, w1, w2) = (-0.5, 1.0, 1.0)일 때 퍼셉트론은 아래 그래프에서 직선으로 나뉜 두 영역을 만듦\n",
    "  - 그래프에서 원은 출력 0, 삼각형은 출력 1을 나타냄\n",
    "  - OR 게이트를 만들려면 원과 삼각형을 직선으로 나눠야 하는데 직선은 제대로 구분하고 있음\n",
    "\n",
    "\n",
    "<img src=\"./02.신경망_기초/02-4.or.png\" width=\"30%\" height=\"30%\">\n",
    "\n",
    "\n",
    "- XOR 게이트\n",
    "\n",
    "<img src=\"./02.신경망_기초/02-5.xor.png\" width=\"30%\" height=\"30%\">\n",
    "\n",
    "- 위 그림에서 직선 하나로 원과 삼각형을 나누는 영역을 만들어낼 수 있을까?"
   ]
  },
  {
   "cell_type": "markdown",
   "metadata": {
    "id": "-pJT9HcM7Vjr"
   },
   "source": [
    "- 퍼셉트론의 한계\n",
    "  - 직선 하나로 나눈 영역(선형 영역)만 표현할 수 있음\n",
    "  - 곡선(비선형 영역)은 표현할 수 없음 "
   ]
  },
  {
   "cell_type": "markdown",
   "metadata": {
    "id": "XzBjH65N7Vjr"
   },
   "source": [
    "### 2.5 다층 퍼셉트론 (Multi-Layer Perceptron)\n",
    "\n",
    "- 층이 여러 개인 퍼셉트론을 다층 퍼셉트론이라고 함\n",
    "\n",
    "\n",
    "- AND, OR, NAND는 단층 퍼셉트론으로 표현되었으나, XOR 게이트는 단층 퍼셉트론으로는 표현 불가\n",
    "  - XOR 게이트를 다층 퍼셉트론으로 표현할 수 있음"
   ]
  },
  {
   "cell_type": "markdown",
   "metadata": {
    "id": "aFtiUfbR7Vjr"
   },
   "source": [
    "- 기존 게이트를 조합하여 XOR 게이트를 만드는 방법\n",
    "\n",
    "\n",
    "<img src=\"https://user-images.githubusercontent.com/44635266/75086794-6611c380-557b-11ea-92f1-1b6d90e11cc0.png\" height=\"40%\" width=\"40%\">\n",
    "\n"
   ]
  },
  {
   "cell_type": "markdown",
   "metadata": {
    "id": "OM5lVuDsBHx7"
   },
   "source": [
    "\n",
    "#### 2.5.1 XOR 게이트 진리표\n",
    "\n",
    "| x1 | x2 | s1 | s2 | y |\n",
    "|----|----|----|----|---|\n",
    "| 0 | 0 | 1 | 0 | 0 |\n",
    "| 1 | 0 | 1 | 1 | 1 |\n",
    "| 0 | 1 | 1 | 1 | 1 |\n",
    "| 1 | 1 | 0 | 1 | 0 |"
   ]
  },
  {
   "cell_type": "markdown",
   "metadata": {
    "id": "MzemZ8nx7Vjs"
   },
   "source": [
    "#### 2.5.2 XOR 게이트 구현\n",
    "\n",
    "- NAND, OR, AND 게이트의 조합으로 구현 가능"
   ]
  },
  {
   "cell_type": "code",
   "execution_count": 5,
   "metadata": {
    "id": "B8oaencf7Vjs",
    "outputId": "5ddacf04-2210-47c5-b471-502f39762939"
   },
   "outputs": [
    {
     "name": "stdout",
     "output_type": "stream",
     "text": [
      "0\n",
      "1\n",
      "1\n",
      "1\n",
      "1\n",
      "1\n",
      "1\n",
      "0\n"
     ]
    }
   ],
   "source": [
    "import numpy as np\n",
    "\n",
    "def OR(x1, x2):\n",
    "    x = np.array([x1, x2]) # 입력\n",
    "    w = np.array([0.5, 0.5]) # 가중치\n",
    "    b = -0.2 # 편향\n",
    "    \n",
    "    tmp = np.sum(w*x) + b # 입력 신호의 가중합에 편향을 더함\n",
    "    \n",
    "    if tmp <= 0:\n",
    "        return 0\n",
    "    else:\n",
    "        return 1\n",
    "    \n",
    "    \n",
    "def NAND(x1, x2):\n",
    "    x = np.array([x1, x2]) # 입력\n",
    "    w = np.array([-0.5, -0.5]) # 가중치\n",
    "    b = 0.7 # 편향\n",
    "    \n",
    "    tmp = np.sum(w*x) + b # 입력 신호의 가중합에 편향을 더함\n",
    "    \n",
    "    if tmp <= 0:\n",
    "        return 0\n",
    "    else:\n",
    "        return 1\n",
    "    \n",
    "print(OR(0,0)) # 0\n",
    "print(OR(0,1)) # 1\n",
    "print(OR(1,0)) # 1\n",
    "print(OR(1,1)) # 1\n",
    "\n",
    "print(NAND(0,0)) # 1\n",
    "print(NAND(1,0)) # 1\n",
    "print(NAND(0,1)) # 1\n",
    "print(NAND(1,1)) # 0"
   ]
  },
  {
   "cell_type": "code",
   "execution_count": 6,
   "metadata": {
    "id": "2ANv05LN7Vjs",
    "outputId": "a2c02687-3d8b-4979-d11a-d5fd52f76695"
   },
   "outputs": [
    {
     "name": "stdout",
     "output_type": "stream",
     "text": [
      "0\n",
      "1\n",
      "1\n",
      "0\n"
     ]
    }
   ],
   "source": [
    "def XOR(x1, x2):\n",
    "    s1 = NAND(x1, x2)\n",
    "    s2 = OR(x1, x2)\n",
    "    y = AND(s1, s2)\n",
    "    return y\n",
    "\n",
    "print(XOR(0,0))\n",
    "print(XOR(1,0))\n",
    "print(XOR(0,1))\n",
    "print(XOR(1,1))"
   ]
  },
  {
   "cell_type": "markdown",
   "metadata": {
    "id": "TwOiZF8c7Vjs"
   },
   "source": [
    "#### 2.5.3 XOR의 퍼셉트론\n",
    "\n",
    "<img src=\"./02.신경망_기초/02-6.xor_mlp.png\" width=\"30%\" height=\"30%\">\n",
    "\n",
    "- XOR 게이트는 위 그림과 같이 다층 구조의 네트워크로 표현됨\n",
    "  - s1: x1과 x2의 NAND\n",
    "  - s2: x1과 x2의 OR\n",
    "  - y: s1과 s2의 AND\n",
    "- 총 3개 층(layer)를 가지고 있음 - 입력층을 제외하여 2층 퍼셉트론으로 보기도 하고 3층 퍼셉트론으로 보기도 함\n",
    "- 다층 퍼셉트론은 비선형 영역을 표현할 수 있음\n",
    "\n"
   ]
  },
  {
   "cell_type": "markdown",
   "metadata": {
    "id": "HUOrH62Y7Vjt"
   },
   "source": [
    "#### 정리\n",
    "\n",
    "- 다층 퍼셉트론으로 XOR 같은 논리 회로뿐만 아니라 더 복잡한 회로를 표현할 수 있음\n",
    "  - 가산기, 2진수를 10진수를 변환하는 인코더, 패리티 검사 회로 등을 표현할 수 있고, 이를 기반으로 산술 논리 연산 장치 (ALU)도 만들 수 있음\n",
    "- 지금까지 퍼셉트론 얘기에서는 데이터로부터 학습하는 것과 관련된 얘기는 없었음\n",
    "  - AND, OR 게이트의 동작을 수행하도록 가중치, 편향의 값을 수동으로 직접 설정했음\n",
    "- 신경망을 학습한다는 것은 신경망을 구성하는 뉴런의 가중치와 편향의 적절한 값을 데이터로부터 학습하여 자동으로 설정한다는 것을 의미\n",
    "\n"
   ]
  },
  {
   "cell_type": "markdown",
   "metadata": {
    "id": "bSRkSrPV7Vjt"
   },
   "source": [
    "### 2.6 신경망 (Neural Network)\n",
    "\n",
    "- 신경망의 예\n",
    "\n",
    "<img src=\"./02.신경망_기초/02-7.nn.png\" width=\"30%\" height=\"30%\">\n",
    "\n",
    "\n",
    "\n",
    " "
   ]
  },
  {
   "cell_type": "markdown",
   "metadata": {
    "id": "aBdeHS5qBVJo"
   },
   "source": [
    "\n",
    "#### 2.6.1 신경망의 구조\n",
    "- 입력층(input layer)\n",
    "  - 입력 데이터를 받아들이는 층\n",
    "- 은닉층(hidden layer)\n",
    "  - 모든 입력 노드로부터 입력 값을 받아 가중합을 계산하고 이 값을 활성화함수에 적용하여 출력층에 전달하는 층\n",
    "  - 은닉층은 1개 이상 존재할 수 있음\n",
    "  - 은닉층의 수가 많은 신경망을 심층신경망(Deep Neural Network)이라고 함 \n",
    "- 출력층(output layer): 신경망의 최종 결과값을 내는 층\n",
    "- 층간의 노드와 노드 사이 연결에는 가중치가 존재\n"
   ]
  },
  {
   "cell_type": "markdown",
   "metadata": {
    "id": "kl0y5BAZ7Vjt"
   },
   "source": [
    "#### 2.6.2 퍼셉트론 복습\n",
    "\n",
    "<img src=\"./02.신경망_기초/02-8.perceptron-bias.png\" width=\"20%\" height=\"20%\">\n",
    "\n",
    "- 퍼셉트론의 수식 표현\n",
    "\n",
    "<img src=\"./02.신경망_기초/02-3.perceptron-equation-2.png\" width=\"25%\" height=\"25%\">\n",
    "\n",
    "위 식을 아래와 같이 표현할 수 있음\n",
    "\n",
    "<img src=\"./02.신경망_기초/02-9.perceptron-equation-3.png\" width=\"25%\" height=\"25%\">\n"
   ]
  },
  {
   "cell_type": "markdown",
   "metadata": {
    "id": "fWHr3Xm87Vjt"
   },
   "source": [
    "#### 2.6.3 활성화 함수(activation function), h(x)\n",
    "\n",
    "- 입력 신호의 총합을 출력 신호로 변환하는 함수\n",
    "  - 입력 신호의 총합이 활성화를 일으키는지를 정하는 역할\n",
    "- 퍼셉트론의 처리과정을 2단계로 나누어 볼 수 있음 \n",
    "  1. 가중치가 달린 입력 신호와 편향의 총합을 계산하고 이를 a라 함 (가중합을 계산하는 것을 전달 함수라고도 함)\n",
    "  2. a를 함수 h( )에 넣어 y를 출력함\n",
    " \n",
    " \n",
    " <img src=\"./02.신경망_기초/02-10.perceptron-h.png\" width=\"25%\" height=\"25%\">\n",
    " \n",
    " \n",
    "- 퍼셉트론의 활성화 함수는 계단 함수 (step function)\n",
    "  - 0을 경계로 입력이 0보다 작거나 같으면 출력은 0, 입력이 0보다 크면 출력은 1\n",
    " "
   ]
  },
  {
   "cell_type": "markdown",
   "metadata": {
    "id": "rqbvs_Qb7Vjt"
   },
   "source": [
    "##### 계단 함수의 구현"
   ]
  },
  {
   "cell_type": "code",
   "execution_count": 7,
   "metadata": {
    "id": "P6p9AH9G7Vju"
   },
   "outputs": [],
   "source": [
    "def step_function(x):\n",
    "    if x > 0:\n",
    "        return 1\n",
    "    else:\n",
    "        return 0"
   ]
  },
  {
   "cell_type": "code",
   "execution_count": 8,
   "metadata": {
    "id": "jtF_sDIQ7Vju",
    "outputId": "d92e0a6c-295d-4e6b-9e8c-fbbe099b5193"
   },
   "outputs": [
    {
     "name": "stdout",
     "output_type": "stream",
     "text": [
      "1\n",
      "0\n"
     ]
    }
   ],
   "source": [
    "print(step_function(1.3))\n",
    "print(step_function(-3))"
   ]
  },
  {
   "cell_type": "code",
   "execution_count": 9,
   "metadata": {
    "id": "wT-mHb8G7Vju"
   },
   "outputs": [],
   "source": [
    "import numpy as np\n",
    "\n",
    "def step_function(x):\n",
    "    y = x > 0\n",
    "    return y.astype(np.int)"
   ]
  },
  {
   "cell_type": "code",
   "execution_count": 10,
   "metadata": {
    "id": "Vmuyk6157Vju",
    "outputId": "d7e360f2-079c-4bfe-ea5d-5e3422b8e4ea"
   },
   "outputs": [
    {
     "name": "stdout",
     "output_type": "stream",
     "text": [
      "[False  True  True]\n",
      "[0 1 1]\n"
     ]
    }
   ],
   "source": [
    "x = np.array([-1.0, 1.0, 2.0])\n",
    "y = x > 0\n",
    "print(y)\n",
    "print(y.astype(np.int)) # astype - 넘파이 배열의 자료형을 변환하는 메서드. 원하는 자료형을 인수로 지정함"
   ]
  },
  {
   "cell_type": "markdown",
   "metadata": {
    "id": "_OIQLKBA7Vju"
   },
   "source": [
    "##### 계단 함수의 그래프"
   ]
  },
  {
   "cell_type": "code",
   "execution_count": 11,
   "metadata": {
    "id": "e0cX-t6G7Vjv",
    "outputId": "d404f289-0482-489c-8370-bf5d538f2082"
   },
   "outputs": [
    {
     "data": {
      "image/png": "[encoded data removed]",
      "text/plain": [
       "<Figure size 432x288 with 1 Axes>"
      ]
     },
     "metadata": {
      "needs_background": "light"
     },
     "output_type": "display_data"
    }
   ],
   "source": [
    "import numpy as np\n",
    "import matplotlib.pylab as plt\n",
    "\n",
    "x = np.arange(-5.0, 5.0, 0.1)\n",
    "y = step_function(x)\n",
    "plt.plot(x, y)\n",
    "plt.ylim(-0.1, 1.1) # y축 범위 지정\n",
    "plt.show()"
   ]
  },
  {
   "cell_type": "markdown",
   "metadata": {
    "id": "dbcDeWuJ7Vjv"
   },
   "source": [
    "#### 2.6.4 신경망의 활성화 함수\n",
    "계단 함수가 아닌 다른 비선형 함수를 사용\n",
    "\n",
    "\n",
    "- 신경망 활성화 함수의 예\n",
    "  - 시그모이드(Sigmoid) 함수\n",
    "  - 하이퍼볼릭 탄젠트(Hyperbolic tangent) 함수\n",
    "  - 렐루(ReLU) 함수\n",
    "  - 리키 렐루(Leaky ReLU) 함수\n",
    "  - 소프트맥스(Softmax) 함수"
   ]
  },
  {
   "cell_type": "markdown",
   "metadata": {
    "id": "FlPi3tkO7Vjv"
   },
   "source": [
    "- 시그모이드(Sigmoid) 함수\n",
    "  - 입력값을 0~1 사이에서 비선형 형태로 변형해줌\n",
    "  - 과거에는 많이 사용했으나 심층신경망에서 모델의 깊이가 깊어지면서 '기울기 소실 문제(vanishing gradient problem)'가 발생하여 현재는 잘 사용하지 않음\n",
    "  - 시그모이드 함수의 수식\n",
    "\n",
    " <img src=\"./02.신경망_기초/02-11.sigmoid.png\" width=\"15%\" height=\"15%\">"
   ]
  },
  {
   "cell_type": "markdown",
   "metadata": {
    "id": "6wR2fk6y7Vjv"
   },
   "source": [
    "- 렐루(ReLU) 함수\n",
    "  - ReLU: Rectified Linear Unit\n",
    "  - 입력 x가 음수일 때는 0을 출력, 양수일 때는 x를 그대로 출력\n",
    "  - 학습 속도가 빠르고 기울기 소실 문제가 발생하지 않는 장점이 있음\n",
    "  - 은닉층에서 많이 사용\n",
    "\n",
    " <img src=\"./02.신경망_기초/02-12.relu.png\" width=\"20%\" height=\"20%\">"
   ]
  },
  {
   "cell_type": "markdown",
   "metadata": {
    "id": "iFOvFbfu7Vjv"
   },
   "source": [
    "##### 시그모이드 함수의 구현"
   ]
  },
  {
   "cell_type": "code",
   "execution_count": 12,
   "metadata": {
    "id": "MkIu0akB7Vjw"
   },
   "outputs": [],
   "source": [
    "import numpy as np\n",
    "\n",
    "def sigmoid(x):\n",
    "    return 1 / (1 + np.exp(-x))"
   ]
  },
  {
   "cell_type": "code",
   "execution_count": 13,
   "metadata": {
    "id": "vzP-5vwI7Vjw",
    "outputId": "38790b9b-0cf5-42d3-a318-2fa5ac8ca857"
   },
   "outputs": [
    {
     "name": "stdout",
     "output_type": "stream",
     "text": [
      "[0.26894142 0.73105858 0.88079708]\n"
     ]
    }
   ],
   "source": [
    "x = np.array([-1.0, 1.0, 2.0])\n",
    "\n",
    "print(sigmoid(x))"
   ]
  },
  {
   "cell_type": "code",
   "execution_count": 14,
   "metadata": {
    "id": "STGgA0UI7Vjw",
    "outputId": "5999e5c5-0c04-48e8-840b-56fa0af9d362"
   },
   "outputs": [
    {
     "data": {
      "image/png": "[encoded data removed]",
      "text/plain": [
       "<Figure size 432x288 with 1 Axes>"
      ]
     },
     "metadata": {
      "needs_background": "light"
     },
     "output_type": "display_data"
    }
   ],
   "source": [
    "import matplotlib.pylab as plt\n",
    "\n",
    "x = np.arange(-5.0, 5.0, 0.1)\n",
    "y = sigmoid(x)\n",
    "plt.plot(x, y)\n",
    "plt.ylim(-0.1, 1.1)\n",
    "plt.show()"
   ]
  },
  {
   "cell_type": "markdown",
   "metadata": {
    "id": "MAOTfcrm7Vjx"
   },
   "source": [
    "##### 렐루 함수의 구현"
   ]
  },
  {
   "cell_type": "code",
   "execution_count": 15,
   "metadata": {
    "id": "3lCpuCj-7Vjx"
   },
   "outputs": [],
   "source": [
    "import numpy as np\n",
    "\n",
    "def relu(x):\n",
    "    return np.maximum(0, x)"
   ]
  },
  {
   "cell_type": "code",
   "execution_count": 16,
   "metadata": {
    "id": "Gmc1SKfI7Vjx",
    "outputId": "f47ac50f-105d-419a-a4c0-e9fccb1e93e0"
   },
   "outputs": [
    {
     "data": {
      "image/png": "[encoded data removed]",
      "text/plain": [
       "<Figure size 432x288 with 1 Axes>"
      ]
     },
     "metadata": {
      "needs_background": "light"
     },
     "output_type": "display_data"
    }
   ],
   "source": [
    "import matplotlib.pylab as plt\n",
    "\n",
    "x = np.arange(-5.0, 5.0, 0.1)\n",
    "y = relu(x)\n",
    "plt.plot(x, y)\n",
    "plt.xlim(-6, 6)\n",
    "plt.ylim(-1, 6)\n",
    "plt.show()"
   ]
  },
  {
   "cell_type": "markdown",
   "metadata": {
    "id": "y7BAicE97Vjx"
   },
   "source": [
    "#### 2.6.5 출력층 설계\n",
    "\n",
    "- 신경망은 분류와 회귀 문제 모두에 이용 가능\n",
    "  - 분류: 데이터가 어느 클래스에 속하는지 정하는 문제 (이미지 속 동물이 고양이인지, 개인지)\n",
    "  - 회귀: 수치를 예측하는 문제 (주택 가격 예측)\n",
    "- 단, 출력층의 활성화 함수가 다름\n",
    "  - 회귀: 항등 함수\n",
    "  - 분류: 소프트맥스 함수\n",
    "- 출력층의 뉴런(노드) 수\n",
    "  - 문제에 맞게 적절히 정함\n",
    "  - 분류에서는 분류하고자 하는 클래스 수로 설정\n",
    "  - 입력 이미지를 숫자 0부터 9 중 하나로 분류하는 문제라면 출력층의 뉴런을 10개로 설정\n",
    " "
   ]
  },
  {
   "cell_type": "markdown",
   "metadata": {
    "id": "8GccZZBk7Vjx"
   },
   "source": [
    "- 항등 함수\n",
    "  - 입력을 그대로 출력함\n",
    "  - 입력과 출력이 항상 같다는 의미로 항등이라고 함\n"
   ]
  },
  {
   "cell_type": "markdown",
   "metadata": {
    "id": "gyWcDSPc7Vjy"
   },
   "source": [
    "- 소프트맥스(Softmax) 함수\n",
    "  - 입력 신호의 지수 함수를 모든 입력 신호의 지수 함수의 합으로 나눈 것\n",
    "  - 소프트맥스 함수의 출력은 0에서 1 사이의 실수\n",
    "  - 소프트맥스 함수 출력의 총합은 1 -> 확률로 해석할 수 있음\n",
    " \n",
    "  <img src=\"./02.신경망_기초/02-13.softmax.png\" width=\"15%\" height=\"15%\">\n",
    "  \n",
    "  - n: 출력층의 뉴런 수\n",
    "  - yk: k번째 출력\n",
    " \n",
    "  <img src=\"./02.신경망_기초/02-14.softmax-ex.png\" width=\"15%\" height=\"15%\">\n",
    "   \n",
    "  <img src=\"./02.신경망_기초/02-15.softmax-y1.png\" width=\"20%\" height=\"20%\">\n",
    " "
   ]
  },
  {
   "cell_type": "markdown",
   "metadata": {
    "id": "OuUndttk7Vjy"
   },
   "source": [
    "##### 소프트맥스 함수의 구현"
   ]
  },
  {
   "cell_type": "code",
   "execution_count": 17,
   "metadata": {
    "id": "015fz7BW7Vjy"
   },
   "outputs": [],
   "source": [
    "import numpy as np\n",
    "\n",
    "def softmax(a):\n",
    "    c = np.max(a)\n",
    "    exp_a = np.exp(a-c) # 오버플로우 대책\n",
    "    sum_exp_a = np.sum(exp_a)\n",
    "    y = exp_a / sum_exp_a\n",
    "    \n",
    "    return y"
   ]
  },
  {
   "cell_type": "code",
   "execution_count": 18,
   "metadata": {
    "id": "srKbDMpx7Vjy",
    "outputId": "40e56acf-4544-485f-fa9e-3557ece1ced6"
   },
   "outputs": [
    {
     "name": "stdout",
     "output_type": "stream",
     "text": [
      "[0.01821127 0.24519181 0.73659691]\n",
      "1.0\n"
     ]
    }
   ],
   "source": [
    "a = np.array([0.3, 2.9, 4.0])\n",
    "y = softmax(a)\n",
    "\n",
    "print(y)\n",
    "print(np.sum(y))"
   ]
  },
  {
   "cell_type": "code",
   "execution_count": 19,
   "metadata": {
    "id": "NrChGBrD7Vjz",
    "outputId": "6aea604e-4582-4326-acfa-76b268624b39"
   },
   "outputs": [
    {
     "name": "stdout",
     "output_type": "stream",
     "text": [
      "[nan nan nan]\n"
     ]
    },
    {
     "name": "stderr",
     "output_type": "stream",
     "text": [
      "<ipython-input-19-f422774da38a>:4: RuntimeWarning: overflow encountered in exp\n",
      "  print(np.exp(a) / np.sum(np.exp(a)))\n",
      "<ipython-input-19-f422774da38a>:4: RuntimeWarning: invalid value encountered in true_divide\n",
      "  print(np.exp(a) / np.sum(np.exp(a)))\n"
     ]
    }
   ],
   "source": [
    "# 오버플로우 방지가 필요한 이유\n",
    "\n",
    "a = ([1010, 1000, 900])\n",
    "print(np.exp(a) / np.sum(np.exp(a)))"
   ]
  },
  {
   "cell_type": "markdown",
   "metadata": {
    "id": "9VDkWvOS7Vjz"
   },
   "source": [
    "- 컴퓨터를 이용한 연산 시 a가 큰 수일 경우 지수 함수 결과가 무한대가 나와버림\n",
    "- 입력 값 중 최대값을 일괄적으로 뺀 후 계산하는 방법으로 해결\n",
    "- 이렇게 하더라도 소프트맥스 결과는 동일함\n",
    "\n",
    "\n",
    "#### 생각해보기\n",
    "- 위와 같은 방법으로 하더라도 소프트맥스 결과가 동일한 이유는?\n",
    "- 소프트맥스 함수 식을 이용해서 증명해보자"
   ]
  },
  {
   "cell_type": "code",
   "execution_count": null,
   "metadata": {
    "id": "EVTApddx7Vjz"
   },
   "outputs": [],
   "source": []
  }
 ],
 "metadata": {
  "colab": {
   "collapsed_sections": [
    "3prdJx257Vjq",
    "aFtiUfbR7Vjr",
    "TwOiZF8c7Vjs",
    "HUOrH62Y7Vjt",
    "kl0y5BAZ7Vjt"
   ],
   "name": "02.신경망_기초.ipynb",
   "provenance": [],
   "toc_visible": true
  },
  "kernelspec": {
   "display_name": "Python 3",
   "language": "python",
   "name": "python3"
  },
  "language_info": {
   "codemirror_mode": {
    "name": "ipython",
    "version": 3
   },
   "file_extension": ".py",
   "mimetype": "text/x-python",
   "name": "python",
   "nbconvert_exporter": "python",
   "pygments_lexer": "ipython3",
   "version": "3.6.10"
  }
 },
 "nbformat": 4,
 "nbformat_minor": 1
}
