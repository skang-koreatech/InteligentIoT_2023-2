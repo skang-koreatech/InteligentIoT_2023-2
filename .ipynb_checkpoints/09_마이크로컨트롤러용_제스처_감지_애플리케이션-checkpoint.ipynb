{
 "cells": [
  {
   "cell_type": "markdown",
   "metadata": {
    "id": "_cqa4aiCeVU3"
   },
   "source": [
    "# **지능형 IoT 응용**\n",
    "#### 한국기술교육대학교 컴퓨터공학부 스마트 IoT 트랙\n",
    "\n",
    "\n",
    "---"
   ]
  },
  {
   "cell_type": "markdown",
   "metadata": {
    "id": "ES4zt_nMeXU0"
   },
   "source": [
    "# 09. 마이크로컨트롤러용 제스처 감지 애플리케이션"
   ]
  },
  {
   "cell_type": "markdown",
   "metadata": {
    "id": "pmnN5crYelCz"
   },
   "source": [
    "---\n",
    "\n",
    "### Acknowledgement\n",
    "\n",
    "\n",
    "이 자료는 다음 서적의 내용을 바탕으로 작성되었음\n",
    "- 초소형 머신러닝 TinyML, 피트 워든, 대니얼 시투나야케 지음, 맹윤호, 임지순 옮김, 한빛미디어\n",
    "  - 11장\n",
    "\n",
    "---"
   ]
  },
  {
   "cell_type": "markdown",
   "metadata": {
    "id": "lGZH2lGJeocd"
   },
   "source": [
    "### 복잡한 다차원 센서 데이터를 사용하는 애플리케이션\n",
    "\n",
    "- 이전 예제에서는 사람의 청각과 시각을 기반으로 하는 음성, 영상 데이터를 이용하여 추론을 수행하는 모델과 애플리케이션을 다루었음\n",
    "\n",
    "- 하지만 사람이 쉽게 이해할 수 없는 다양한 종류의 데이터도 존재함\n",
    "  - 기계와 센서는 인간의 감각에 쉽게 대응되지 않는 수많은 정보를 생성함\n",
    "  - 이를 시각적으로 표현하는 것이 가능하다고 해도 데이터 내의 추세와 패턴을 사람이 파악하기 어려울 수 있음\n",
    "\n",
    "- 아래 그래프는 운동하는 사람들의 주머니에 넣은 스마트폰으로 캡처한 센서 데이터를 보여주고 있음\n",
    "  - 가속도 센서로 3차원 가속도를 측정\n",
    "  - MotionSense 데이터셋: https://github.com/mmalekzadeh/motion-sense\n",
    " "
   ]
  },
  {
   "cell_type": "markdown",
   "metadata": {
    "id": "BtZN_W4vmlq6"
   },
   "source": [
    "<img src=\"09.제스처_감지_애플리케이션/09-1.jogging_data.PNG\" width=\"60%\" height=\"60%\">\n",
    "<center>조깅하는 사람의 스마트폰 가속도 데이터 (MotionSense 데이터셋)</center>"
   ]
  },
  {
   "cell_type": "markdown",
   "metadata": {
    "id": "45EnPjcTng9c"
   },
   "source": [
    "<img src=\"09.제스처_감지_애플리케이션/09-2.downstairs_data.PNG\" width=\"60%\" height=\"60%\">\n",
    "<center>계단을 내려가는 사람의 스마트폰 가속도 데이터 (MotionSense 데이터셋)</center>"
   ]
  },
  {
   "cell_type": "markdown",
   "metadata": {
    "id": "mb5_v-N8oNzB"
   },
   "source": [
    "- 위 데이터를 보면 두 개가 좀 다른 패턴을 보이고 있다는 것은 알 수 있지만 데이터만으로 두 활동을 구분하기 쉽지 않음\n",
    "  - 다른 다양한 활동 중에 캡처된 데이터도 같이 있다고 생각하면 구분은 더 어려울 것임\n",
    "\n",
    "- 복잡한 산업용 기계의 작동 상태를 분류할 때는 갖가지 모호한 특성을 측정하는 수백 개의 센서가 있을 수도 있음\n"
   ]
  },
  {
   "cell_type": "markdown",
   "metadata": {
    "id": "6dbwXnpypAzo"
   },
   "source": [
    "- 복잡한 데이터를 이해하고 해석할 수 있는 스마트 센서\n",
    "  - 마이크로컨트롤러에서 실행될 수 있는 딥러닝 모델을 이용하여 복잡한 데이터를 이해하는 스마트 센서를 만들 수 있음\n",
    "  - 스마트 센서는 수많은 분야에 큰 영향을 미칠 수 있음\n",
    "\n",
    "- 대표적인 애플리케이션\n",
    "  - 연결성이 좋지 않는 장소의 원격 환경 모니터링\n",
    "  - 실시간으로 문제에 적응하는 자동화된 산업 공정\n",
    "  - 복잡한 외부 자극에 반응하는 로봇\n",
    "  - 의료 전문가가 필요 없는 질병 진단\n",
    "  - 신체의 움직임을 이해하는 컴퓨터 인터페이스\n",
    " "
   ]
  },
  {
   "cell_type": "markdown",
   "metadata": {
    "id": "V7Nnxfx2r1PJ"
   },
   "source": [
    "## 9.1 제스처 감지 애플리케이션\n",
    "\n",
    "- 제스처 감지 모델을 기반으로 세 가지 제스처를 감지하여 LED를 제어하는 임베디드 애플리케이션 ('마술 지팡이' 프로젝트)\n",
    "  - 감지하는 제스처: 날개, 링, 경사\n",
    "  - 제스처 감지 모델: 날개, 링, 경사, '알 수 없는' 제스처 4개의 클래스로 분류하는 분류 모델\n",
    "\n",
    "\n"
   ]
  },
  {
   "cell_type": "markdown",
   "metadata": {
    "id": "AWexxh_6vGKe"
   },
   "source": [
    "<img src=\"09.제스처_감지_애플리케이션/09-3.gestures.PNG\" width=\"90%\" height=\"90%\">\n",
    "<center>세 가지 제스처</center>"
   ]
  },
  {
   "cell_type": "markdown",
   "metadata": {
    "id": "b2mGFAMzvDGN"
   },
   "source": [
    "- 제스처 감지를 위한 가속도 센서 데이터\n",
    "  - 장치의 가속도계를 사용하여 공간에서의 동작 정보를 수집함\n",
    "  - 아두이노 나노 33 BLE 센스 보드에는 3축 가속도계가 내장되어 있어 3차원 방향 가속도를 측정할 수 있음\n",
    "  - 3D 공간에서 장치의 움직임을 추적하는 데 사용할 수 있음\n",
    "\n",
    "- 마술 지팡이를 만들기 위해 막대기 끝에 마이클로컨트롤러 보드를 부착하여 휘두르고 이때 발생하는 가속도계의 출력을 딥러닝 모델에 제공하면 모델이 분류를 수행하고 알려진 제스처를 취했는지 알려줌\n",
    "\n",
    "- 애플리케이션 예제 코드\n",
    "  - TinyML 번역서의 한글 소스코드 저장소의 예제 코드\n",
    "  - https://github.com/yunho0130/tensorflow-lite/tree/master/tensorflow/lite/micro/examples/magic_wand"
   ]
  },
  {
   "cell_type": "markdown",
   "metadata": {
    "id": "z-GU6yRfuyG7"
   },
   "source": [
    "## 9.2 애플리케이션 아키텍처\n"
   ]
  },
  {
   "cell_type": "markdown",
   "metadata": {
    "id": "FoocZAanu4_r"
   },
   "source": [
    "<img src=\"09.제스처_감지_애플리케이션/09-4.architecture.png\" width=\"90%\" height=\"90%\">\n",
    "<center>제스처 감지 애플리케이션 아키텍처</center>"
   ]
  },
  {
   "cell_type": "markdown",
   "metadata": {
    "id": "RhIt8WpXxDam"
   },
   "source": [
    "### 애플리케이션 구성 요소\n",
    "\n",
    "- 메인 루프\n",
    "  - 제스처 감지 애플리케이션도 연속 루프에서 실행됨\n",
    "  - 모델이 작고 단순하며 데이터 전처리가 필요하지 않으므로 초당 추론을 여러 번 실행할 수 있음\n",
    "\n",
    "- 가속도계 핸들러\n",
    "  - 가속도계에서 데이터를 캡처하여 모델의 입력 텐서에 씀\n",
    "  - 버퍼를 사용하여 데이터를 임시 저장\n",
    "  - 가속도 데이터는 x, y, z 축 가속도를 나타내는 3 개의 값을 가짐\n",
    "\n",
    "- 텐서플로우 라이트 인터프리터\n",
    "  - 텐서플로우 라이트 모델을 실행하여 입력 가속도 데이터를 확률 세트로 변환함\n",
    "\n",
    "- 모델\n",
    "  - 3가지 제스처와 '알 수 없는' 제스처 4개의 클래스로 분류로하도록 학습됨\n",
    "  - 인터프리터에 의해 실행됨\n",
    "  - 모델 크기는 19.5KB 정도\n",
    "\n",
    "- 제스처 예측기\n",
    "  - 모델의 출력 결과를 받아서 각 제스처 클래스의 확률과 연속적인 긍정적 예측의 수에 대한 임계값을 기반으로 제스처가 감지되었는지 여부를 결정함\n",
    "\n",
    "- 출력 핸들러\n",
    "  - 인식된 제스처에 따라 LED를 켜고 시리얼 포트로 결과를 출력함"
   ]
  },
  {
   "cell_type": "markdown",
   "metadata": {
    "id": "CvZfJRpCzK6L"
   },
   "source": [
    "### 예제 모델 소개\n",
    "\n",
    "- 제스처 감지 모델\n",
    "  - CNN 모델\n",
    "  - 모델 크기 약 20KB\n",
    "  - 많은 사람들이 취한 4가지 제스처를 학습함 (날개, 링, 경사, 알 수 없는 제스처)\n",
    "\n",
    "- 모델의 입력\n",
    "  - 25Hz 속도로 샘플링한 128개의 가속도 x, y, z 값 (약 5초 이상의 가속도 데이터)\n",
    "  - 각 값은 해당 방향의 가속도를 나타내는 32비트 부동소수점 값\n",
    "\n",
    "- 모델의 출력\n",
    "  - 총 4개 클래스에 대한 확률 점수를 출력\n",
    "  - 확률 점수 총계는 1\n",
    "  - 0.8 이상의 점수는 확실한 분류로 볼 수 있음\n",
    "\n",
    "- 모델 출력 후처리\n",
    "  - 초당 여러 번의 추론이 실행되기 때문에 제스처가 수행되는 동안 이루어진 한번의 잘못된 추론이 최종 결과를 왜곡하지 않도록 해야 함\n",
    "  - 이를 위해 제스처가 특정 횟수만큼의 추론으로 확인된 후에만 감지되는 방식\n",
    "  - 제스처마다 취하는 데 다른 시간이 걸리면 필요한 추론의 수는 제스처마다 다를 수 있고 실험을 통해 최적의 숫자를 결정해야 함\n",
    "  - 장치마다 추론을 실행하는 속도도 다르므로 이에 대한 임계값도 장치마다 별도로 설정함"
   ]
  },
  {
   "cell_type": "markdown",
   "metadata": {
    "id": "FCRrLve61iXC"
   },
   "source": [
    "## 9.3 테스트 코드"
   ]
  },
  {
   "cell_type": "markdown",
   "metadata": {
    "id": "mt4RHO8S1oIK"
   },
   "source": [
    "#### 주요 코드\n",
    "- magic_wand_test.cc: 가속도 데이터 샘플에서 추론을 실행하는 방법\n",
    "- accelerometer_handler_test.cc: 가속도계 핸들러를 사용하여 새로운 데이터를 얻는 방법\n",
    "- gesture_predictor_test.cc: 제스처 예측기를 사용하여 추론 결과를 해석하는 방법\n",
    "- output_handler_test.cc: 출력 핸들러를 사용하여 추론 결과를 표시하는 방법\n"
   ]
  },
  {
   "cell_type": "markdown",
   "metadata": {
    "id": "jBmcWsaE2Kbo"
   },
   "source": [
    "### 9.3.1 기본 흐름 (magic_wand_test.cc)\n",
    "\n",
    "- 초기화, 모델 로드, 인터프리터 설정, 텐서 할당, 인터프리터 실행 등의 메인 루프 동작\n",
    "  - https://github.com/yunho0130/tensorflow-lite/blob/master/tensorflow/lite/micro/examples/magic_wand/magic_wand_test.cc\n",
    " "
   ]
  },
  {
   "cell_type": "markdown",
   "metadata": {
    "id": "hh4EzNWD2mHA"
   },
   "source": [
    "```cpp\n",
    "#include \"tensorflow/lite/micro/examples/magic_wand/magic_wand_model_data.h\"\n",
    "#include \"tensorflow/lite/micro/examples/magic_wand/ring_micro_features_data.h\"\n",
    "#include \"tensorflow/lite/micro/examples/magic_wand/slope_micro_features_data.h\"\n",
    "#include \"tensorflow/lite/micro/kernels/micro_ops.h\"\n",
    "#include \"tensorflow/lite/micro/micro_error_reporter.h\"\n",
    "#include \"tensorflow/lite/micro/micro_interpreter.h\"\n",
    "#include \"tensorflow/lite/micro/micro_mutable_op_resolver.h\"\n",
    "#include \"tensorflow/lite/micro/testing/micro_test.h\"\n",
    "#include \"tensorflow/lite/schema/schema_generated.h\"\n",
    "#include \"tensorflow/lite/version.h\"\n",
    "```\n",
    "\n",
    "- 테스트 데이터용 헤더 파일\n",
    "  - tensorflow/lite/micro/examples/magic_wand/ring_micro_features_data.h\n",
    "  - tensorflow/lite/micro/examples/magic_wand/slope_micro_features_data.h\n",
    "\n",
    "- ring_micro_features_data.h\n",
    "  - 링 제스처 데이터 배열, 데이터 길이, 데이터 차원 정의\n",
    "  - 실제 데이터: ring_micro_features_data.cc 파일\n",
    "\n",
    "- slope_micro_features_data.h\n",
    "  - 경사 제스처 데이터 배열, 데이터 길이, 데이터 차원 정의\n",
    "  - 실제 데이터: slope_micro_features_data.cc 파일"
   ]
  },
  {
   "cell_type": "markdown",
   "metadata": {
    "id": "alhTVXyPK8kB"
   },
   "source": [
    "```cpp\n",
    "  // Set up logging\n",
    "  tflite::MicroErrorReporter micro_error_reporter;\n",
    "  tflite::ErrorReporter* error_reporter = &micro_error_reporter;\n",
    "\n",
    "  // Map the model into a usable data structure. This doesn't involve any\n",
    "  // copying or parsing, it's a very lightweight operation.\n",
    "  const tflite::Model* model = ::tflite::GetModel(g_magic_wand_model_data);\n",
    "  if (model->version() != TFLITE_SCHEMA_VERSION) {\n",
    "    TF_LITE_REPORT_ERROR(error_reporter,\n",
    "                         \"Model provided is schema version %d not equal \"\n",
    "                         \"to supported version %d.\\n\",\n",
    "                         model->version(), TFLITE_SCHEMA_VERSION);\n",
    "  }\n",
    "```\n",
    "\n",
    "- 로깅을 위한 ErrorReporter 객체 생성\n",
    "- Model 객체 생성\n",
    "  - 모델 데이터로는 magic_wand_model_data.h에 정의된 g_magic_wand_model_data 배열 이용\n",
    "  - 실제 배열 데이터: magic_wand_model_data.cc 파일"
   ]
  },
  {
   "cell_type": "markdown",
   "metadata": {
    "id": "RMy85h7rLMw6"
   },
   "source": [
    "```cpp\n",
    "  // Pull in only the operation implementations we need.\n",
    "  // This relies on a complete list of all the ops needed by this graph.\n",
    "  // An easier approach is to just use the AllOpsResolver, but this will\n",
    "  // incur some penalty in code space for op implementations that are not\n",
    "  // needed by this graph.\n",
    "  static tflite::MicroOpResolver<5> micro_op_resolver;  // NOLINT\n",
    "  micro_op_resolver.AddBuiltin(\n",
    "      tflite::BuiltinOperator_DEPTHWISE_CONV_2D,\n",
    "      tflite::ops::micro::Register_DEPTHWISE_CONV_2D());\n",
    "  micro_op_resolver.AddBuiltin(tflite::BuiltinOperator_MAX_POOL_2D,\n",
    "                               tflite::ops::micro::Register_MAX_POOL_2D());\n",
    "  micro_op_resolver.AddBuiltin(tflite::BuiltinOperator_CONV_2D,\n",
    "                               tflite::ops::micro::Register_CONV_2D());\n",
    "  micro_op_resolver.AddBuiltin(tflite::BuiltinOperator_FULLY_CONNECTED,\n",
    "                               tflite::ops::micro::Register_FULLY_CONNECTED());\n",
    "  micro_op_resolver.AddBuiltin(tflite::BuiltinOperator_SOFTMAX,\n",
    "                               tflite::ops::micro::Register_SOFTMAX());\n",
    "```\n",
    "\n",
    "- MicroOpResolver를 사용하여 모델 실행에 필요한 Op을 추가\n",
    "  - DepthwiseConv2D\n",
    "  - MaxPool2D\n",
    "  - Conv2D\n",
    "  - FullyConnected\n",
    "  - Softmax"
   ]
  },
  {
   "cell_type": "markdown",
   "metadata": {
    "id": "qt21ZN4qLfou"
   },
   "source": [
    "```cpp\n",
    "  // Create an area of memory to use for input, output, and intermediate arrays.\n",
    "  // Finding the minimum value for your model may require some trial and error.\n",
    "  const int tensor_arena_size = 60 * 1024;\n",
    "  uint8_t tensor_arena[tensor_arena_size];\n",
    "```\n",
    "\n",
    "- 모델 실행에 적합한 크기의 텐서 아레나 생성\n",
    "  - 입력, 출력, 중간 데이터 텐서를 저장하는 메모리 공간\n"
   ]
  },
  {
   "cell_type": "markdown",
   "metadata": {
    "id": "M5gqAn-sLp71"
   },
   "source": [
    "```cpp\n",
    "  // Build an interpreter to run the model with\n",
    "  tflite::MicroInterpreter interpreter(model, micro_op_resolver, tensor_arena,\n",
    "                                       tensor_arena_size, error_reporter);\n",
    "```\n",
    "\n",
    "- 모델 실행을 위한 인터프리터 객체 생성\n",
    "  - 위에서 생성한 Model 객체, MicroOpResolver 객체, Tensor Arena, ErrorReporter 객체 이용"
   ]
  },
  {
   "cell_type": "markdown",
   "metadata": {
    "id": "YMFd610nL6AP"
   },
   "source": [
    "```cpp\n",
    "  // Allocate memory from the tensor_arena for the model's tensors\n",
    "  interpreter.AllocateTensors();\n",
    "```\n",
    "\n",
    "- 텐서 할당"
   ]
  },
  {
   "cell_type": "markdown",
   "metadata": {
    "id": "9rDoJhsLMCsA"
   },
   "source": [
    "```cpp\n",
    "  // Obtain a pointer to the model's input tensor\n",
    "  TfLiteTensor* input = interpreter.input(0);\n",
    "\n",
    "  // Make sure the input has the properties we expect\n",
    "  TF_LITE_MICRO_EXPECT_NE(nullptr, input);\n",
    "  TF_LITE_MICRO_EXPECT_EQ(4, input->dims->size);\n",
    "  // The value of each element gives the length of the corresponding tensor.\n",
    "  TF_LITE_MICRO_EXPECT_EQ(1, input->dims->data[0]);\n",
    "  TF_LITE_MICRO_EXPECT_EQ(128, input->dims->data[1]);\n",
    "  TF_LITE_MICRO_EXPECT_EQ(3, input->dims->data[2]);\n",
    "  TF_LITE_MICRO_EXPECT_EQ(1, input->dims->data[3]);\n",
    "  // The input is a 32 bit floating point value\n",
    "  TF_LITE_MICRO_EXPECT_EQ(kTfLiteFloat32, input->type);\n",
    "```\n",
    "\n",
    "- 인터프리터의 입력 텐서에 대한 포인터를 얻음\n",
    "\n",
    "- 입력 텐서가 올바른 형태인지 확인\n",
    "  - null 포인터가 아니어야 함\n",
    "  - 입력 텐서의 차원은 4\n",
    "  - 첫번째 차원(data[0])은 단일 요소를 포함하는 래퍼\n",
    "  - 두번째 차원(data[1])은 가속도 데이터 개수 (128개)\n",
    "  - 세번째 차원(data[2])은 각 가속도 데이터의 축 개수 (x, y, z 3개)\n",
    "  - 네번째 차원(data[3])은 각 x, y, z 축의 원소 개수 (1개)\n",
    "  - 데이터 타입은 32비트 부동소수점 (kTfLiteFloat32)"
   ]
  },
  {
   "cell_type": "markdown",
   "metadata": {
    "id": "yBFcpDA8NVTH"
   },
   "source": [
    "```cpp\n",
    "  // Provide an input value\n",
    "  const float* ring_features_data = g_ring_micro_f9643d42_nohash_4_data;\n",
    "  TF_LITE_REPORT_ERROR(error_reporter, \"%d\", input->bytes);\n",
    "  for (int i = 0; i < (input->bytes / sizeof(float)); ++i) {\n",
    "    input->data.f[i] = ring_features_data[i];\n",
    "  }\n",
    "```\n",
    "\n",
    "- 테스트 추론을 위해 링 제스처 데이터(g_ring_micro_f9643d42_nohash_4_data)를 입력 텐서(input->data)에 복사\n",
    "  - g_ring_micro_f9643d42_nohash_4_data는 ring_micro_features_data.h에 정의된 배열\n",
    " "
   ]
  },
  {
   "cell_type": "markdown",
   "metadata": {
    "id": "Znz1Q9KINxAn"
   },
   "source": [
    "```cpp\n",
    "  // Run the model on this input and check that it succeeds\n",
    "  TfLiteStatus invoke_status = interpreter.Invoke();\n",
    "  if (invoke_status != kTfLiteOk) {\n",
    "    TF_LITE_REPORT_ERROR(error_reporter, \"Invoke failed\\n\");\n",
    "  }\n",
    "  TF_LITE_MICRO_EXPECT_EQ(kTfLiteOk, invoke_status);\n",
    "```\n",
    "\n",
    "- 인터프리터를 실행하고 에러가 없는지 확인"
   ]
  },
  {
   "cell_type": "markdown",
   "metadata": {
    "id": "9hIsESseN3R7"
   },
   "source": [
    "```cpp\n",
    "  // Obtain a pointer to the output tensor and make sure it has the\n",
    "  // properties we expect.\n",
    "  TfLiteTensor* output = interpreter.output(0);\n",
    "  TF_LITE_MICRO_EXPECT_EQ(2, output->dims->size);\n",
    "  TF_LITE_MICRO_EXPECT_EQ(1, output->dims->data[0]);\n",
    "  TF_LITE_MICRO_EXPECT_EQ(4, output->dims->data[1]);\n",
    "  TF_LITE_MICRO_EXPECT_EQ(kTfLiteFloat32, output->type);\n",
    "```\n",
    "\n",
    "- 인터프리터의 출력 텐서에 대한 포인터를 이용해 출력 텐서가 올바른 형태인지 확인\n",
    "  - 출력 텐서의 차원은 2\n",
    "  - 첫번째 차원(data[0])은 단일 요소를 포함하는 래퍼\n",
    "  - 두번째 차원(data[1])은 모델 추론 결과를 저장. 4가지 클래스(Wing, Ring, Slope, Negative) 각각의 확률\n",
    "  - 데이터 타입은 32비트 부동소수점"
   ]
  },
  {
   "cell_type": "markdown",
   "metadata": {
    "id": "T4vl_qLuOTmh"
   },
   "source": [
    "```cpp\n",
    "  // There are four possible classes in the output, each with a score.\n",
    "  const int kWingIndex = 0;\n",
    "  const int kRingIndex = 1;\n",
    "  const int kSlopeIndex = 2;\n",
    "  const int kNegativeIndex = 3;\n",
    "\n",
    "  // Make sure that the expected \"Ring\" score is higher than the other\n",
    "  // classes.\n",
    "  float wing_score = output->data.f[kWingIndex];\n",
    "  float ring_score = output->data.f[kRingIndex];\n",
    "  float slope_score = output->data.f[kSlopeIndex];\n",
    "  float negative_score = output->data.f[kNegativeIndex];\n",
    "  TF_LITE_MICRO_EXPECT_GT(ring_score, wing_score);\n",
    "  TF_LITE_MICRO_EXPECT_GT(ring_score, slope_score);\n",
    "  TF_LITE_MICRO_EXPECT_GT(ring_score, negative_score);\n",
    "```\n",
    "\n",
    "- 출력 텐서에서 각 제스처의 확률 점수를 읽음\n",
    "  - 각 제스처의 인덱스를 이용해 출력 텐서 배열에서 해당 제스처의 점수를 얻을 수 있음\n",
    " \n",
    "- 링 제스처의 점수가 다른 제스처의 점수보다 큰지 확인"
   ]
  },
  {
   "cell_type": "markdown",
   "metadata": {
    "id": "W2ZsMlozPUtf"
   },
   "source": [
    "```cpp\n",
    "  // Now test with a different input, from a recording of \"Slope\".\n",
    "  const float* slope_features_data = g_slope_micro_f2e59fea_nohash_1_data;\n",
    "  for (int i = 0; i < (input->bytes / sizeof(float)); ++i) {\n",
    "    input->data.f[i] = slope_features_data[i];\n",
    "  }\n",
    "```\n",
    "\n",
    "- 경사 제스처에 대한 테스트 추론을 위해 경사 제스처 데이터(g_slope_micro_f2e59fea_nohash_1_data)를 입력 텐서(input->data)에 복사\n",
    "  - g_slope_micro_f2e59fea_nohash_1_data는 slope_micro_features_data.h에 정의된 배열"
   ]
  },
  {
   "cell_type": "markdown",
   "metadata": {
    "id": "fxYjg8FQPsg1"
   },
   "source": [
    "```cpp\n",
    "  // Run the model on this \"Slope\" input.\n",
    "  invoke_status = interpreter.Invoke();\n",
    "  if (invoke_status != kTfLiteOk) {\n",
    "    TF_LITE_REPORT_ERROR(error_reporter, \"Invoke failed\\n\");\n",
    "  }\n",
    "  TF_LITE_MICRO_EXPECT_EQ(kTfLiteOk, invoke_status);\n",
    "```\n",
    "\n",
    "- 인터프리터를 실행하고 에러가 없는지 확인"
   ]
  },
  {
   "cell_type": "markdown",
   "metadata": {
    "id": "z8lBd-dYPzkp"
   },
   "source": [
    "```cpp\n",
    "  // Get the output from the model, and make sure it's the expected size and\n",
    "  // type.\n",
    "  output = interpreter.output(0);\n",
    "  TF_LITE_MICRO_EXPECT_EQ(2, output->dims->size);\n",
    "  TF_LITE_MICRO_EXPECT_EQ(1, output->dims->data[0]);\n",
    "  TF_LITE_MICRO_EXPECT_EQ(4, output->dims->data[1]);\n",
    "  TF_LITE_MICRO_EXPECT_EQ(kTfLiteFloat32, output->type);\n",
    "```\n",
    "\n",
    "- 인터프리터의 출력 텐서에 대한 포인터를 이용해 출력 텐서가 올바른 형태인지 확인"
   ]
  },
  {
   "cell_type": "markdown",
   "metadata": {
    "id": "FRnJfOlLP_Jl"
   },
   "source": [
    "```cpp\n",
    "  // Make sure that the expected \"Slope\" score is higher than the other classes.\n",
    "  wing_score = output->data.f[kWingIndex];\n",
    "  ring_score = output->data.f[kRingIndex];\n",
    "  slope_score = output->data.f[kSlopeIndex];\n",
    "  negative_score = output->data.f[kNegativeIndex];\n",
    "  TF_LITE_MICRO_EXPECT_GT(slope_score, wing_score);\n",
    "  TF_LITE_MICRO_EXPECT_GT(slope_score, ring_score);\n",
    "  TF_LITE_MICRO_EXPECT_GT(slope_score, negative_score);\n",
    "```\n",
    "\n",
    "- 출력 텐서에서 각 제스처의 확률 점수를 읽음\n",
    "  - 각 제스처의 인덱스를 이용해 출력 텐서 배열에서 해당 제스처의 점수를 얻을 수 있음\n",
    " \n",
    "- 경사 제스처의 점수가 다른 제스처의 점수보다 큰지 확인"
   ]
  },
  {
   "cell_type": "markdown",
   "metadata": {
    "id": "uht_hrcSQICl"
   },
   "source": [
    "#### 테스트 실행"
   ]
  },
  {
   "cell_type": "code",
   "execution_count": null,
   "metadata": {
    "colab": {
     "base_uri": "https://localhost:8080/"
    },
    "id": "Triej_RNQN4o",
    "outputId": "1344c98c-41ca-477c-c3b5-f14452898510"
   },
   "outputs": [
    {
     "name": "stdout",
     "output_type": "stream",
     "text": [
      "/content\n",
      "Cloning into 'tflite-micro'...\n",
      "remote: Enumerating objects: 5532, done.\u001b[K\n",
      "remote: Counting objects: 100% (1019/1019), done.\u001b[K\n",
      "remote: Compressing objects: 100% (636/636), done.\u001b[K\n",
      "remote: Total 5532 (delta 606), reused 659 (delta 363), pack-reused 4513\u001b[K\n",
      "Receiving objects: 100% (5532/5532), 8.39 MiB | 15.94 MiB/s, done.\n",
      "Resolving deltas: 100% (3727/3727), done.\n"
     ]
    }
   ],
   "source": [
    "%cd /content\n",
    "%rm -rf tensorflow\n",
    "! git clone https://github.com/yunho0130/tensorflow-lite"
   ]
  },
  {
   "cell_type": "code",
   "execution_count": null,
   "metadata": {
    "colab": {
     "base_uri": "https://localhost:8080/"
    },
    "id": "5cOD8KqNQSHT",
    "outputId": "b5f315db-65dc-476c-9cb3-6001b5587a1d"
   },
   "outputs": [
    {
     "name": "stdout",
     "output_type": "stream",
     "text": [
      "/content/tflite-micro\n",
      "find: ‘../google/’: No such file or directory\n",
      "tensorflow/lite/micro/tools/make/downloads/flatbuffers already exists, skipping the download.\n",
      "tensorflow/lite/micro/tools/make/downloads/kissfft already exists, skipping the download.\n",
      "tensorflow/lite/micro/tools/make/downloads/pigweed already exists, skipping the download.\n",
      "g++ -std=c++11 -fno-rtti -fno-exceptions -fno-threadsafe-statics -Werror -fno-unwind-tables -ffunction-sections -fdata-sections -fmessage-length=0 -DTF_LITE_STATIC_MEMORY -DTF_LITE_DISABLE_X86_NEON -Wsign-compare -Wdouble-promotion -Wshadow -Wunused-variable -Wmissing-field-initializers -Wunused-function -Wswitch -Wvla -Wall -Wextra -Wstrict-aliasing -Wno-unused-parameter  -DTF_LITE_USE_CTIME -Os -I. -Itensorflow/lite/micro/tools/make/downloads/gemmlowp -Itensorflow/lite/micro/tools/make/downloads/flatbuffers/include -Itensorflow/lite/micro/tools/make/downloads/ruy -Itensorflow/lite/micro/tools/make/gen/linux_x86_64_default/genfiles/ -Itensorflow/lite/micro/tools/make/downloads/kissfft -c tensorflow/lite/micro/tools/make/gen/linux_x86_64_default/genfiles/tensorflow/lite/micro/examples/magic_wand/magic_wand_model_data.cc -o tensorflow/lite/micro/tools/make/gen/linux_x86_64_default/obj/core/tensorflow/lite/micro/tools/make/gen/linux_x86_64_default/genfiles/tensorflow/lite/micro/examples/magic_wand/magic_wand_model_data.o\n",
      "g++ -std=c++11 -fno-rtti -fno-exceptions -fno-threadsafe-statics -Werror -fno-unwind-tables -ffunction-sections -fdata-sections -fmessage-length=0 -DTF_LITE_STATIC_MEMORY -DTF_LITE_DISABLE_X86_NEON -Wsign-compare -Wdouble-promotion -Wshadow -Wunused-variable -Wmissing-field-initializers -Wunused-function -Wswitch -Wvla -Wall -Wextra -Wstrict-aliasing -Wno-unused-parameter  -DTF_LITE_USE_CTIME -I. -Itensorflow/lite/micro/tools/make/downloads/gemmlowp -Itensorflow/lite/micro/tools/make/downloads/flatbuffers/include -Itensorflow/lite/micro/tools/make/downloads/ruy -Itensorflow/lite/micro/tools/make/gen/linux_x86_64_default/genfiles/ -Itensorflow/lite/micro/tools/make/downloads/kissfft -o tensorflow/lite/micro/tools/make/gen/linux_x86_64_default/bin/magic_wand_test tensorflow/lite/micro/tools/make/gen/linux_x86_64_default/obj/core/tensorflow/lite/micro/examples/magic_wand/magic_wand_test.o tensorflow/lite/micro/tools/make/gen/linux_x86_64_default/obj/core/tensorflow/lite/micro/examples/magic_wand/slope_micro_features_data.o tensorflow/lite/micro/tools/make/gen/linux_x86_64_default/obj/core/tensorflow/lite/micro/examples/magic_wand/ring_micro_features_data.o tensorflow/lite/micro/tools/make/gen/linux_x86_64_default/obj/core/tensorflow/lite/micro/tools/make/gen/linux_x86_64_default/genfiles/tensorflow/lite/micro/examples/magic_wand/magic_wand_model_data.o tensorflow/lite/micro/tools/make/gen/linux_x86_64_default/lib/libtensorflow-microlite.a -Wl,--fatal-warnings -Wl,--gc-sections -lm\n",
      "tensorflow/lite/micro/tools/make/gen/linux_x86_64_default/bin/magic_wand_test '~~~ALL TESTS PASSED~~~' linux\n",
      "Testing LoadModelAndPerformInference\n",
      "1536\n",
      "1/1 tests passed\n",
      "~~~ALL TESTS PASSED~~~\n",
      "\n"
     ]
    }
   ],
   "source": [
    "%cd /content/tensorflow-lite/\n",
    "\n",
    "! make -f tensorflow/lite/micro/tools/make/Makefile test_magic_wand_test"
   ]
  },
  {
   "cell_type": "markdown",
   "metadata": {
    "id": "VkAIwBSqQ5kI"
   },
   "source": [
    "### 9.3.2 가속도계 핸들러 (accelerometer_handler.h / accelerometer_handler.cc)\n",
    "\n",
    "- 장치의 가속도계 데이터를 입력 텐서에 채우는 역할\n",
    "  - 장치의 가속도계 작동 방식에 따라 개별 장치마다 다른 가속도계 핸들러 구현 필요\n",
    "\n",
    "- accelerometer_handler.h에는 2개의 함수 정의\n",
    "  - SetupAccelerometer()\n",
    "  - ReadAccelerometer() "
   ]
  },
  {
   "cell_type": "markdown",
   "metadata": {
    "id": "U8qzSRAVSXhs"
   },
   "source": [
    "```cpp\n",
    "extern TfLiteStatus SetupAccelerometer(tflite::ErrorReporter* error_reporter);\n",
    "```\n",
    "\n",
    "- 가속도계에서 값을 얻기 위해 필요한 일회성 설정을 수행\n",
    "- 매개변수 1개\n",
    "  - ErrorReporter 객체 포인터\n",
    "- 반환\n",
    "  - 설정 성공 여부를 나타내는 TfLiteStatus 값\n",
    "\n",
    "\n",
    "\n",
    "```cpp\n",
    "extern bool ReadAccelerometer(tflite::ErrorReporter* error_reporter,\n",
    "                              float* input, int length);\n",
    "```\n",
    "\n",
    "- 필요한 길이의 가속도계 값을 읽어 배열에 저장하는 과정을 수행\n",
    "- 매개변수 3개\n",
    "  - ErrorReporter 객체 포인터\n",
    "  - 가속도 데이터를 저장할 배열 \n",
    "  - 얻고자 하는 데이터 길이\n",
    "- 반환\n",
    "  - 필요한 길이의 데이터가 준비됐는지 여부를 나타내는 bool 값"
   ]
  },
  {
   "cell_type": "markdown",
   "metadata": {
    "id": "hk_th9XQU1cp"
   },
   "source": [
    "- accelerometer_handler.cc에는 더미 데이터를 반환하는 참조 코드가 구현되어 있음\n",
    "\n",
    "```cpp\n",
    "int begin_index = 0;\n",
    "\n",
    "TfLiteStatus SetupAccelerometer(tflite::ErrorReporter* error_reporter) {\n",
    "  return kTfLiteOk;\n",
    "}\n",
    "\n",
    "bool ReadAccelerometer(tflite::ErrorReporter* error_reporter, float* input,\n",
    "                       int length) {\n",
    "  begin_index += 3;\n",
    "  // Reset begin_index to simulate behavior of loop buffer\n",
    "  if (begin_index >= 600) begin_index = 0;\n",
    "  // Only return true after the function was called 100 times, simulating the\n",
    "  // desired behavior of a real implementation (which does not return data until\n",
    "  // a sufficient amount is available)\n",
    "  if (begin_index > 300) {\n",
    "    for (int i = 0; i < length; ++i) input[i] = 0;\n",
    "    return true;\n",
    "  } else {\n",
    "    return false;\n",
    "  }\n",
    "}\n",
    "```"
   ]
  },
  {
   "cell_type": "markdown",
   "metadata": {
    "id": "cuhFDc9mVDG0"
   },
   "source": [
    "#### 가속도계 핸들러 테스트\n",
    "\n",
    "- 가속도계 핸들러를 사용하는 방법\n",
    "  - accelerometer_handler_test.cc의 테스트 확인"
   ]
  },
  {
   "cell_type": "markdown",
   "metadata": {
    "id": "d6mkPOCDVUPx"
   },
   "source": [
    "```cpp\n",
    "TF_LITE_MICRO_TEST(TestSetup) {\n",
    "  tflite::MicroErrorReporter micro_error_reporter;\n",
    "  TfLiteStatus setup_status = SetupAccelerometer(&micro_error_reporter);\n",
    "  TF_LITE_MICRO_EXPECT_EQ(kTfLiteOk, setup_status);\n",
    "}\n",
    "```\n",
    "\n",
    "- MicroErrorReporter 객체를 생성하고 SetupAccelerometer() 함수 호출 시 포인터를 넘김\n",
    "- 함수 호출 결과 반환 값이 kTfLiteOk인지 확인\n",
    "\n"
   ]
  },
  {
   "cell_type": "markdown",
   "metadata": {
    "id": "TT45a2ewWNfx"
   },
   "source": [
    "```cpp\n",
    "TF_LITE_MICRO_TEST(TestAccelerometer) {\n",
    "  float input[384] = {0.0};\n",
    "  tflite::MicroErrorReporter micro_error_reporter;\n",
    "  // Test that the function returns false before insufficient data is available\n",
    "  bool inference_flag = ReadAccelerometer(&micro_error_reporter, input, 384);\n",
    "  TF_LITE_MICRO_EXPECT_EQ(inference_flag, false);\n",
    "```\n",
    "\n",
    "- 입력 텐서에 데이터를 채우는 방법을 확인할 수 있음\n",
    "\n",
    "- 입력 데이터를 저장할 배열 생성\n",
    "  - 입력 텐서를 시뮬레이션 하기 위한 float 배열\n",
    "  - 128개 가속도 데이터에 x, y, z 3개의 값이 있기 때문에 128 * 3을 계산하면 384가 되어 배열 크기는 384\n",
    "  - 배열의 모든 값을 0.0으로 초기화\n",
    "\n",
    "- MicroErrorRepoter 객체 생성\n",
    "\n",
    "- ReadAccelerometer() 함수 호출\n",
    "  - ReadAccelerometer() 함수가 호출되면 전달된 배열에 384개의 데이터를 쓰려고 시도함\n",
    "  - 가속도계가 방금 데이터 수집을 시작했다면 아직 전체 데이터를 사용할 수 없음\n",
    "  - 이 경우 함수는 false 값을 반환\n",
    "  - 따라서 사용 가능한 데이터가 없는 경우 추론 실행을 피할 수 있음\n"
   ]
  },
  {
   "cell_type": "markdown",
   "metadata": {
    "id": "3zgSC3FeXzfl"
   },
   "source": [
    "```cpp\n",
    "  // Test that the function returns true once sufficient data is available to\n",
    "  // fill the model's input buffer (128 sets of values)\n",
    "  for (int i = 1; i <= 128; i++) {\n",
    "    inference_flag = ReadAccelerometer(&micro_error_reporter, input, 384);\n",
    "  }\n",
    "  TF_LITE_MICRO_EXPECT_EQ(inference_flag, true);\n",
    "}\n",
    "```\n",
    "\n",
    "- 128번 ReadAccelerometer() 함수를 호출하면 필요한 가속도 데이터를 채울 수 있고 이 경우 true를 반환하게 될 것임"
   ]
  },
  {
   "cell_type": "code",
   "execution_count": null,
   "metadata": {
    "colab": {
     "base_uri": "https://localhost:8080/"
    },
    "id": "OSHlmOzpYRRv",
    "outputId": "9de03b91-65a6-4b34-ea8e-034606b95dce"
   },
   "outputs": [
    {
     "name": "stdout",
     "output_type": "stream",
     "text": [
      "find: ‘../google/’: No such file or directory\n",
      "tensorflow/lite/micro/tools/make/downloads/flatbuffers already exists, skipping the download.\n",
      "tensorflow/lite/micro/tools/make/downloads/kissfft already exists, skipping the download.\n",
      "tensorflow/lite/micro/tools/make/downloads/pigweed already exists, skipping the download.\n",
      "tensorflow/lite/micro/tools/make/gen/linux_x86_64_default/bin/gesture_accelerometer_handler_test '~~~ALL TESTS PASSED~~~' linux\n",
      "Testing TestSetup\n",
      "Testing TestAccelerometer\n",
      "2/2 tests passed\n",
      "~~~ALL TESTS PASSED~~~\n",
      "\n"
     ]
    }
   ],
   "source": [
    "! make -f tensorflow/lite/micro/tools/make/Makefile test_gesture_accelerometer_handler_test"
   ]
  },
  {
   "cell_type": "markdown",
   "metadata": {
    "id": "A9c0eQr_YMBW"
   },
   "source": [
    "### 9.3.3 제스처 예측기 (gesture_predictor.h / gesture_predictor.cc)\n",
    "\n",
    "- 제스처 예측기 역할\n",
    "  - 여러 번의 연속적인 추론 결과를 이용해 최종적으로 어떤 제스처가 발생했는지 결정함\n",
    "\n",
    "- 제스처 예측기가 필요한 이유\n",
    "  - 추론이 발생하면 어떤 제스처에 해당하는지 알려주는 확률이 출력 텐서에 채워지지만, 추론이 100% 정확하지 않기 때문에 단일 추론만으로 결론을 내리면 잘못된 제스처를 인식할 가능성이 있음\n",
    "  - 잘못된 인식 결과를 최소화하기 위해 적어도 일정한 수의 연속 추론으로 제스처가 감지되어야 해당 제스처가 발생했다고 인식하는 규칙을 만들 수 있음\n",
    "  - 초당 여러 번 추론이 실행된다면 결과가 유효한지 신속하게 확인할 수 있음\n",
    "\n",
    "- PredictGesture() 함수\n",
    "  - 제스처가 감지됐는지 확인하기 위해 다음 두 가지 작업을 수행함\n",
    "  - 1. 제스처 확률이 최소 임계값을 충족하는지 확인\n",
    "  - 2. 특정 제스처가 일관되게 최소 횟수 이상 감지됐는지 확인\n",
    "  - 함수 반환: 최종 결정된 제스처 인덱스"
   ]
  },
  {
   "cell_type": "markdown",
   "metadata": {
    "id": "GSDLeVnYr0Tw"
   },
   "source": [
    "```cpp\n",
    "namespace {\n",
    "// State for the averaging algorithm we're using.\n",
    "float prediction_history[kGestureCount][kPredictionHistoryLength] = {};\n",
    "int prediction_history_index = 0;\n",
    "int prediction_suppression_count = 0;\n",
    "}  // namespace\n",
    "```\n",
    "\n",
    "- 초기화\n",
    "  - prediction_history 배열: 각 제스처 인덱스 별 추론 확률을 저장\n",
    "  - prediction_history_index: 추론 확률을 저장하는 위치를 정하기 위한 인덱스\n",
    "  - prediction_suppression_count: 제스처 예측 결과를 낸 후 너무 일찍 다시 예측 결과를 내는 것을 방지하기 위한 카운트 값을 저장하는 용도"
   ]
  },
  {
   "cell_type": "markdown",
   "metadata": {
    "id": "MJKWAvsUspQJ"
   },
   "source": [
    "```cpp\n",
    "// Return the result of the last prediction\n",
    "// 0: wing(\"W\"), 1: ring(\"O\"), 2: slope(\"angle\"), 3: unknown\n",
    "int PredictGesture(float* output) {\n",
    "  // Record the latest predictions in our rolling history buffer.\n",
    "  for (int i = 0; i < kGestureCount; ++i) {\n",
    "    prediction_history[i][prediction_history_index] = output[i];\n",
    "  }\n",
    "```\n",
    "\n",
    "- PredictGesture() 함수가 호출되었을 때 처음 하는 작업은 output 배열에 저장된 확률 값을 prediction_history 배열에 저장\n",
    "  - output 배열은 모델 추론 결과 각 제스처 별 확률이 저장된 배열\n",
    "  - 인덱스 i는 각 제스처에 대한 인덱스를 의미"
   ]
  },
  {
   "cell_type": "markdown",
   "metadata": {
    "id": "0DxznQrFtF3X"
   },
   "source": [
    "```cpp\n",
    "  // Figure out which slot to put the next predictions into.\n",
    "  ++prediction_history_index;\n",
    "  if (prediction_history_index >= kPredictionHistoryLength) {\n",
    "    prediction_history_index = 0;\n",
    "  }\n",
    "```\n",
    "\n",
    " - prediction_history_index 값을 1 증가\n",
    " - 만약 이 값이 kPredictionHistoryLength보다 크면 0으로 초기화\n",
    "   - kPredctionHistoryLength는 지난 몇 번의 추론 결과를 보고 최종 결정을 내릴 것인지를 정하는 값 (5로 정의됨)\n",
    "  "
   ]
  },
  {
   "cell_type": "markdown",
   "metadata": {
    "id": "LpeYuRj2tcS1"
   },
   "source": [
    "```cpp\n",
    "  // Average the last n predictions for each gesture, and find which has the\n",
    "  // highest score.\n",
    "  int max_predict_index = -1;\n",
    "  float max_predict_score = 0.0f;\n",
    "  for (int i = 0; i < kGestureCount; i++) {\n",
    "    float prediction_sum = 0.0f;\n",
    "    for (int j = 0; j < kPredictionHistoryLength; ++j) {\n",
    "      prediction_sum += prediction_history[i][j];\n",
    "    }\n",
    "    const float prediction_average = prediction_sum / kPredictionHistoryLength;\n",
    "    if ((max_predict_index == -1) || (prediction_average > max_predict_score)) {\n",
    "      max_predict_index = i;\n",
    "      max_predict_score = prediction_average;\n",
    "    }\n",
    "  }\n",
    "```\n",
    "\n",
    "- prediction_history 배열에 저장된 각 제스처 별 확률의 평균을 계산\n",
    "- 평균값이 최대인 인덱스와 그 때 평균을 max_predict_index와 max_predict_score 변수에 저장"
   ]
  },
  {
   "cell_type": "markdown",
   "metadata": {
    "id": "HlC888q0BNmZ"
   },
   "source": [
    "```cpp\n",
    "  // If there's been a recent prediction, don't trigger a new one too soon.\n",
    "  if (prediction_suppression_count > 0) {\n",
    "    --prediction_suppression_count;\n",
    "  }\n",
    "  // If we're predicting no gesture, or the average score is too low, or there's\n",
    "  // been a gesture recognised too recently, return no gesture.\n",
    "  if ((max_predict_index == kNoGesture) ||\n",
    "      (max_predict_score < kDetectionThreshold) ||\n",
    "      (prediction_suppression_count > 0)) {\n",
    "    return kNoGesture;\n",
    "  } else {\n",
    "    // Reset the suppression counter so we don't come up with another prediction\n",
    "    // too soon.\n",
    "    prediction_suppression_count = kPredictionSuppressionDuration;\n",
    "    return max_predict_index;\n",
    "  }\n",
    "}\n",
    "```\n",
    "\n",
    "- prediction_suppression_count 변수 값 감소\n",
    "  - 예측을 한 후 바로 이어서 다음 예측 결과를 내지 않기 위해 사용하는 카운트 값\n",
    "\n",
    "- kNoGesture 반환\n",
    "  - 확률 평균이 최대인 제스처 인덱스(max_predict_index)가 kNoGesture와 같은 경우\n",
    "  - 최대 확률 평균값(max_predict_score)이 임계값(kDetectionThreshold)보다 작은 경우\n",
    "  - 최근 예측을 한 후 일정 시간이 경과하지 않은 경우 (prediction_suppression_count > 0)\n",
    "\n",
    "- 위 경우가 아니라면 max_predict_index 반환\n",
    "  - prediction_suppression_count 변수 값 할당"
   ]
  },
  {
   "cell_type": "markdown",
   "metadata": {
    "id": "vbIVDoxldi5g"
   },
   "source": [
    "#### 제스처 예측기 테스트\n",
    "\n",
    "- 제스처 예측기를 사용하는 방법\n",
    "  - gesture_predictor_test.cc의 테스트 확인\n",
    "  - 총 3개의 테스트가 있음"
   ]
  },
  {
   "cell_type": "markdown",
   "metadata": {
    "id": "JDFE0kPdeT9D"
   },
   "source": [
    "```cpp\n",
    "TF_LITE_MICRO_TEST(SuccessfulPrediction) {\n",
    "  // Use the threshold from the 0th gesture.\n",
    "  float probabilities[kGestureCount] = {kDetectionThreshold, 0.0, 0.0, 0.0};\n",
    "  int prediction;\n",
    "  // Loop just too few times to trigger a prediction.\n",
    "  for (int i = 0; i < kPredictionHistoryLength - 1; i++) {\n",
    "    prediction = PredictGesture(probabilities);\n",
    "    TF_LITE_MICRO_EXPECT_EQ(prediction, kNoGesture);\n",
    "  }\n",
    "  // Call once more, triggering a prediction\n",
    "  // for category 0.\n",
    "  prediction = PredictGesture(probabilities);\n",
    "  TF_LITE_MICRO_EXPECT_EQ(prediction, 0);\n",
    "}\n",
    "```\n",
    "\n",
    "- 첫 번째 테스트는 성공적인 예측을 보여줌\n",
    "  - 5번 연속 0번 제스처(날개 제스처)의 확률이 임계값 이상 되도록 하여 최종 결과 제스처 인덱스가 0으로 나오는지 확인\n",
    "  - probabilities 배열\n",
    "\n",
    "- 여기서 사용되는 몇 가지 상수는 constants.h에 정의됨\n",
    "  - kGestureCount: 4 (제스처 클래스 수)\n",
    "  - kDetectionThreshold: 0.8f (제스처 추론 확률 임계값)\n",
    "  - kPredictionHistoryLength: 5 (최종 결정을 내리기 위한 제스처 추론 횟수)\n",
    " \n",
    "```cpp\n",
    "// The expected accelerometer data sample frequency\n",
    "const float kTargetHz = 25;\n",
    "\n",
    "// What gestures are supported.\n",
    "constexpr int kGestureCount = 4;\n",
    "constexpr int kWingGesture = 0;\n",
    "constexpr int kRingGesture = 1;\n",
    "constexpr int kSlopeGesture = 2;\n",
    "constexpr int kNoGesture = 3;\n",
    "\n",
    "// These control the sensitivity of the detection algorithm. If you're seeing\n",
    "// too many false positives or not enough true positives, you can try tweaking\n",
    "// these thresholds. Often, increasing the size of the training set will give\n",
    "// more robust results though, so consider retraining if you are seeing poor\n",
    "// predictions.\n",
    "constexpr float kDetectionThreshold = 0.8f;\n",
    "constexpr int kPredictionHistoryLength = 5;\n",
    "constexpr int kPredictionSuppressionDuration = 25;\n",
    "```"
   ]
  },
  {
   "cell_type": "markdown",
   "metadata": {
    "id": "UPQ0-Pk4nJNF"
   },
   "source": [
    "```cpp\n",
    "TF_LITE_MICRO_TEST(FailPartWayThere) {\n",
    "  // Use the threshold from the 0th gesture.\n",
    "  float probabilities[kGestureCount] = {kDetectionThreshold, 0.0, 0.0, 0.0};\n",
    "  int prediction;\n",
    "  // Loop just too few times to trigger a prediction.\n",
    "  for (int i = 0; i <= kPredictionHistoryLength - 1; i++) {\n",
    "    prediction = PredictGesture(probabilities);\n",
    "    TF_LITE_MICRO_EXPECT_EQ(prediction, kNoGesture);\n",
    "  }\n",
    "  // Call with a different prediction, triggering a failure.\n",
    "  probabilities[0] = 0.0;\n",
    "  probabilities[2] = 1.0;\n",
    "  prediction = PredictGesture(probabilities);\n",
    "  TF_LITE_MICRO_EXPECT_EQ(prediction, kNoGesture);\n",
    "}\n",
    "```\n",
    "\n",
    "- 제스처 인식 실패 경우 (일관된 제스처 추론을 충족 못 함)\n",
    "  - 이전 4번의 추론은 0번 제스처가 임계값 이상으로 PredictGesture() 함수를 호출한 상황\n",
    "  - 마지막 1번의 추론에서 2번 제스처가 임계값 이상인 상태로 PredictGesture() 함수를 호출하게 됨\n",
    "  - 최종 결과는 kNoGesture"
   ]
  },
  {
   "cell_type": "markdown",
   "metadata": {
    "id": "kjxTKIN3oycd"
   },
   "source": [
    "```cpp\n",
    "TF_LITE_MICRO_TEST(InsufficientProbability) {\n",
    "  // Just below the detection threshold.\n",
    "  float probabilities[kGestureCount] = {kDetectionThreshold - 0.1f, 0.0, 0.0,\n",
    "                                        0.0};\n",
    "  int prediction;\n",
    "  // Loop the exact right number of times\n",
    "  for (int i = 0; i <= kPredictionHistoryLength; i++) {\n",
    "    prediction = PredictGesture(probabilities);\n",
    "    TF_LITE_MICRO_EXPECT_EQ(prediction, kNoGesture);\n",
    "  }\n",
    "}\n",
    "```\n",
    "\n",
    "- 제스처 인식 실패 경우 (제스처 추론 확률이 임계값을 넘지 못 함)\n",
    "  - probabilities 배열 값을 보면 추론 결과 각 클래스의 확률이 임계값 이상인 것이 하나도 없는 상태\n",
    "  - 최종 결과는 kNoGesture"
   ]
  },
  {
   "cell_type": "code",
   "execution_count": null,
   "metadata": {
    "colab": {
     "base_uri": "https://localhost:8080/"
    },
    "id": "cZSJz6y4drq0",
    "outputId": "826322e3-5443-4c27-94ea-8b5058024cfa"
   },
   "outputs": [
    {
     "name": "stdout",
     "output_type": "stream",
     "text": [
      "find: ‘../google/’: No such file or directory\n",
      "tensorflow/lite/micro/tools/make/downloads/flatbuffers already exists, skipping the download.\n",
      "tensorflow/lite/micro/tools/make/downloads/kissfft already exists, skipping the download.\n",
      "tensorflow/lite/micro/tools/make/downloads/pigweed already exists, skipping the download.\n",
      "tensorflow/lite/micro/tools/make/gen/linux_x86_64_default/bin/gesture_predictor_test '~~~ALL TESTS PASSED~~~' linux\n",
      "Testing SuccessfulPrediction\n",
      "Testing FailPartWayThere\n",
      "Testing InsufficientProbability\n",
      "3/3 tests passed\n",
      "~~~ALL TESTS PASSED~~~\n",
      "\n"
     ]
    }
   ],
   "source": [
    "! make -f tensorflow/lite/micro/tools/make/Makefile test_gesture_predictor_test"
   ]
  },
  {
   "cell_type": "markdown",
   "metadata": {
    "id": "lxGv_1POCTbi"
   },
   "source": [
    "### 9.3.4 출력 핸들러 (output_handler.h / output_handler.cc)\n",
    "\n",
    "- 출력 핸들러 역할\n",
    "  - PredictGesture()에서 반환한 예측 제스처 클래스 인덱스 값을 이용해서 결과를 표시함\n",
    "  - HandleOutput() 함수\n",
    " \n",
    "- 출력 핸들러는 각 장치에 따라 재정의되도록 설계됨"
   ]
  },
  {
   "cell_type": "markdown",
   "metadata": {
    "id": "OIdlto1VDUhe"
   },
   "source": [
    "```cpp\n",
    "void HandleOutput(tflite::ErrorReporter* error_reporter, int kind);\n",
    "```\n",
    "\n",
    "- HandleOutput() 함수 정의\n",
    "- 2개의 매개변수\n",
    "  - ErrorReporter 객체 포인터\n",
    "  - 제스처 인덱스"
   ]
  },
  {
   "cell_type": "markdown",
   "metadata": {
    "id": "9pBNAHsxDhhm"
   },
   "source": [
    "```cpp\n",
    "void HandleOutput(tflite::ErrorReporter* error_reporter, int kind) {\n",
    "  // light (red: wing, blue: ring, green: slope)\n",
    "  if (kind == 0) {\n",
    "    TF_LITE_REPORT_ERROR(\n",
    "        error_reporter,\n",
    "        \"WING:\\n\\r*         *         *\\n\\r *       * *       \"\n",
    "        \"*\\n\\r  *     *   *     *\\n\\r   *   *     *   *\\n\\r    * *       \"\n",
    "        \"* *\\n\\r     *         *\\n\\r\");\n",
    "  } else if (kind == 1) {\n",
    "    TF_LITE_REPORT_ERROR(\n",
    "        error_reporter,\n",
    "        \"RING:\\n\\r          *\\n\\r       *     *\\n\\r     *         *\\n\\r \"\n",
    "        \"   *           *\\n\\r     *         *\\n\\r       *     *\\n\\r      \"\n",
    "        \"    *\\n\\r\");\n",
    "  } else if (kind == 2) {\n",
    "    TF_LITE_REPORT_ERROR(\n",
    "        error_reporter,\n",
    "        \"SLOPE:\\n\\r        *\\n\\r       *\\n\\r      *\\n\\r     *\\n\\r    \"\n",
    "        \"*\\n\\r   *\\n\\r  *\\n\\r * * * * * * * *\\n\\r\");\n",
    "  }\n",
    "}\n",
    "```\n",
    "\n",
    "- output_handler.cc에는 단순히 인식된 제스처 인덱스에 따라 해당 제스처의 형태를 출력하도록 구현됨"
   ]
  },
  {
   "cell_type": "markdown",
   "metadata": {
    "id": "yNoUydggD-eD"
   },
   "source": [
    "#### 출력 핸들러 테스트\n",
    "\n",
    "- 테스트 코드\n",
    " - output_handler_test.cc"
   ]
  },
  {
   "cell_type": "markdown",
   "metadata": {
    "id": "dIm5dffcEJuJ"
   },
   "source": [
    "```cpp\n",
    "TF_LITE_MICRO_TEST(TestCallability) {\n",
    "  tflite::MicroErrorReporter micro_error_reporter;\n",
    "  tflite::ErrorReporter* error_reporter = &micro_error_reporter;\n",
    "  HandleOutput(error_reporter, 0);\n",
    "  HandleOutput(error_reporter, 1);\n",
    "  HandleOutput(error_reporter, 2);\n",
    "  HandleOutput(error_reporter, 3);\n",
    "}\n",
    "```\n",
    "\n",
    "- HandleOutput() 함수를 호출하면서 가능한 제스처 인덱스 값(0, 1, 2, 3)을 넘겨주고 있음"
   ]
  },
  {
   "cell_type": "code",
   "execution_count": null,
   "metadata": {
    "colab": {
     "base_uri": "https://localhost:8080/"
    },
    "id": "p13IeOTOEabX",
    "outputId": "f215f58e-e78a-48f4-bc42-55f3b7bc5ee4"
   },
   "outputs": [
    {
     "name": "stdout",
     "output_type": "stream",
     "text": [
      "find: ‘../google/’: No such file or directory\n",
      "tensorflow/lite/micro/tools/make/downloads/flatbuffers already exists, skipping the download.\n",
      "tensorflow/lite/micro/tools/make/downloads/kissfft already exists, skipping the download.\n",
      "tensorflow/lite/micro/tools/make/downloads/pigweed already exists, skipping the download.\n",
      "tensorflow/lite/micro/tools/make/gen/linux_x86_64_default/bin/gesture_output_handler_test '~~~ALL TESTS PASSED~~~' linux\n",
      "Testing TestCallability\n",
      "WING:\n",
      "*         *         *\n",
      " *       * *       *\n",
      "  *     *   *     *\n",
      "   *   *     *   *\n",
      "    * *       * *\n",
      "     *         *\n",
      "\n",
      "RING:\n",
      "          *\n",
      "       *     *\n",
      "     *         *\n",
      "    *           *\n",
      "     *         *\n",
      "       *     *\n",
      "          *\n",
      "\n",
      "SLOPE:\n",
      "        *\n",
      "       *\n",
      "      *\n",
      "     *\n",
      "    *\n",
      "   *\n",
      "  *\n",
      " * * * * * * * *\n",
      "\n",
      "1/1 tests passed\n",
      "~~~ALL TESTS PASSED~~~\n",
      "\n"
     ]
    }
   ],
   "source": [
    "! make -f tensorflow/lite/micro/tools/make/Makefile test_gesture_output_handler_test"
   ]
  },
  {
   "cell_type": "markdown",
   "metadata": {
    "id": "E1OSTLZvE9eq"
   },
   "source": [
    "## 9.4 제스처 감지\n",
    "\n",
    "#### 주요 코드\n",
    " \n",
    "- main_functions.h / main_fuctions.cc\n",
    "  - 프로그램의 핵심인 setup(), loop() 함수를 정의\n",
    "\n",
    "- main.cc\n",
    "  - 여기에 정의된 main() 함수에서 setup(), loop() 함수 호출"
   ]
  },
  {
   "cell_type": "markdown",
   "metadata": {
    "id": "Uy_RNSG5Fc2K"
   },
   "source": [
    "#### 초기화"
   ]
  },
  {
   "cell_type": "markdown",
   "metadata": {
    "id": "qmNeiJ9SHKyp"
   },
   "source": [
    "```cpp\n",
    "// Globals, used for compatibility with Arduino-style sketches.\n",
    "namespace {\n",
    "tflite::ErrorReporter* error_reporter = nullptr;\n",
    "const tflite::Model* model = nullptr;\n",
    "tflite::MicroInterpreter* interpreter = nullptr;\n",
    "TfLiteTensor* model_input = nullptr;\n",
    "int input_length;\n",
    "\n",
    "// Create an area of memory to use for input, output, and intermediate arrays.\n",
    "// The size of this will depend on the model you're using, and may need to be\n",
    "// determined by experimentation.\n",
    "constexpr int kTensorArenaSize = 60 * 1024;\n",
    "uint8_t tensor_arena[kTensorArenaSize];\n",
    "}  // namespace\n",
    "```\n",
    "\n",
    "- 전역 변수 선언\n",
    "  - ErrorReporter, Model, MicroInterpreter, TfLiteTensor(입력 텐서), input_length (입력 데이터 길이)\n",
    "  - 텐서 아레나 생성"
   ]
  },
  {
   "cell_type": "markdown",
   "metadata": {
    "id": "gYoO2YiyHjTA"
   },
   "source": [
    "#### setup() 함수"
   ]
  },
  {
   "cell_type": "markdown",
   "metadata": {
    "id": "7eybhOSgHl6Q"
   },
   "source": [
    "```cpp\n",
    "// The name of this function is important for Arduino compatibility.\n",
    "void setup() {\n",
    "  // Set up logging. Google style is to avoid globals or statics because of\n",
    "  // lifetime uncertainty, but since this has a trivial destructor it's okay.\n",
    "  static tflite::MicroErrorReporter micro_error_reporter;  // NOLINT\n",
    "  error_reporter = &micro_error_reporter;\n",
    "\n",
    "  // Map the model into a usable data structure. This doesn't involve any\n",
    "  // copying or parsing, it's a very lightweight operation.\n",
    "  model = tflite::GetModel(g_magic_wand_model_data);\n",
    "  if (model->version() != TFLITE_SCHEMA_VERSION) {\n",
    "    TF_LITE_REPORT_ERROR(error_reporter,\n",
    "                         \"Model provided is schema version %d not equal \"\n",
    "                         \"to supported version %d.\",\n",
    "                         model->version(), TFLITE_SCHEMA_VERSION);\n",
    "    return;\n",
    "  }\n",
    "```\n",
    "\n",
    "- ErrorReporter 객체 생성\n",
    "- Model 객체 생성\n",
    "  - 제스처 감지 모델 데이터는 g_magic_wand_model_data 배열에 저장됨"
   ]
  },
  {
   "cell_type": "markdown",
   "metadata": {
    "id": "IxdWQd9fH10J"
   },
   "source": [
    "```cpp\n",
    "  // Pull in only the operation implementations we need.\n",
    "  // This relies on a complete list of all the ops needed by this graph.\n",
    "  // An easier approach is to just use the AllOpsResolver, but this will\n",
    "  // incur some penalty in code space for op implementations that are not\n",
    "  // needed by this graph.\n",
    "  static tflite::MicroOpResolver<5> micro_op_resolver;  // NOLINT\n",
    "  micro_op_resolver.AddBuiltin(\n",
    "      tflite::BuiltinOperator_DEPTHWISE_CONV_2D,\n",
    "      tflite::ops::micro::Register_DEPTHWISE_CONV_2D());\n",
    "  micro_op_resolver.AddBuiltin(tflite::BuiltinOperator_MAX_POOL_2D,\n",
    "                               tflite::ops::micro::Register_MAX_POOL_2D());\n",
    "  micro_op_resolver.AddBuiltin(tflite::BuiltinOperator_CONV_2D,\n",
    "                               tflite::ops::micro::Register_CONV_2D());\n",
    "  micro_op_resolver.AddBuiltin(tflite::BuiltinOperator_FULLY_CONNECTED,\n",
    "                               tflite::ops::micro::Register_FULLY_CONNECTED());\n",
    "  micro_op_resolver.AddBuiltin(tflite::BuiltinOperator_SOFTMAX,\n",
    "                               tflite::ops::micro::Register_SOFTMAX());\n",
    "```\n",
    "\n",
    "- 모델 실행에 필요한 연산을 로드하기 위해 MicroOpResolver 객체 생성\n"
   ]
  },
  {
   "cell_type": "markdown",
   "metadata": {
    "id": "Y2XnWkWfIBIS"
   },
   "source": [
    "```cpp\n",
    "  // Build an interpreter to run the model with.\n",
    "  static tflite::MicroInterpreter static_interpreter(\n",
    "      model, micro_op_resolver, tensor_arena, kTensorArenaSize, error_reporter);\n",
    "  interpreter = &static_interpreter;\n",
    "\n",
    "  // Allocate memory from the tensor_arena for the model's tensors.\n",
    "  interpreter->AllocateTensors();\n",
    "```\n",
    "\n",
    "- MicroInterpreter 객체 생성\n",
    "- 인터프리터에서 모델 실행을 위해 사용할 텐서 메모리 할당"
   ]
  },
  {
   "cell_type": "markdown",
   "metadata": {
    "id": "VmS-x80MITia"
   },
   "source": [
    "```cpp\n",
    "  // Obtain pointer to the model's input tensor.\n",
    "  model_input = interpreter->input(0);\n",
    "  if ((model_input->dims->size != 4) || (model_input->dims->data[0] != 1) ||\n",
    "      (model_input->dims->data[1] != 128) ||\n",
    "      (model_input->dims->data[2] != kChannelNumber) ||\n",
    "      (model_input->type != kTfLiteFloat32)) {\n",
    "    TF_LITE_REPORT_ERROR(error_reporter,\n",
    "                         \"Bad input tensor parameters in model\");\n",
    "    return;\n",
    "  }\n",
    "\n",
    "  input_length = model_input->bytes / sizeof(float);\n",
    "```\n",
    "\n",
    "- 입력 텐서의 포인터를 model_input 변수에 저장\n",
    "- 입력 텐서의 형태가 올바른지 확인\n",
    "  - 차원 4\n",
    "  - (1, 128, 3, 1) 형태\n",
    "  - 데이터 타입은 32비트 부동소수점\n",
    "\n",
    "- input_length 값 계산"
   ]
  },
  {
   "cell_type": "markdown",
   "metadata": {
    "id": "xM71BV6zItMs"
   },
   "source": [
    "```cpp\n",
    "  TfLiteStatus setup_status = SetupAccelerometer(error_reporter);\n",
    "  if (setup_status != kTfLiteOk) {\n",
    "    TF_LITE_REPORT_ERROR(error_reporter, \"Set up failed\\n\");\n",
    "  }\n",
    "}\n",
    "```\n",
    "\n",
    "- 가속도계 데이터를 얻기 위해 필요한 설정 수행\n",
    "  - SetupAccelerometer() 함수 호출"
   ]
  },
  {
   "cell_type": "markdown",
   "metadata": {
    "id": "0ZNyu7JDJIBH"
   },
   "source": [
    "#### loop() 함수"
   ]
  },
  {
   "cell_type": "markdown",
   "metadata": {
    "id": "znBh_ZgxJLCW"
   },
   "source": [
    "```cpp\n",
    "void loop() {\n",
    "  // Attempt to read new data from the accelerometer.\n",
    "  bool got_data =\n",
    "      ReadAccelerometer(error_reporter, model_input->data.f, input_length);\n",
    "  // If there was no new data, wait until next time.\n",
    "  if (!got_data) return;\n",
    "```\n",
    "\n",
    "- 가속도계 데이터 읽어서 입력 텐서에 저장\n",
    "  - ReadAccelerometer() 함수 호출\n",
    "  - 반환값이 false이면 이후 실행하지 않고 return\n",
    "\n"
   ]
  },
  {
   "cell_type": "markdown",
   "metadata": {
    "id": "oTuZESoIJmZY"
   },
   "source": [
    "```cpp\n",
    "  // Run inference, and report any error.\n",
    "  TfLiteStatus invoke_status = interpreter->Invoke();\n",
    "  if (invoke_status != kTfLiteOk) {\n",
    "    TF_LITE_REPORT_ERROR(error_reporter, \"Invoke failed on index: %d\\n\",\n",
    "                         begin_index);\n",
    "    return;\n",
    "  }\n",
    "```\n",
    "\n",
    "- 인터프리터를 실행하여 모델의 출력 결과를 생성"
   ]
  },
  {
   "cell_type": "markdown",
   "metadata": {
    "id": "qruMqrx0JtoG"
   },
   "source": [
    "```cpp\n",
    "  // Analyze the results to obtain a prediction\n",
    "  int gesture_index = PredictGesture(interpreter->output(0)->data.f);\n",
    "```\n",
    "\n",
    "- 인터프리터 실행 결과가 저장된 출력 텐서 데이터를 이용하여 제스처 예측 수행\n",
    "  - PredictGesture() 함수 호출\n",
    " "
   ]
  },
  {
   "cell_type": "markdown",
   "metadata": {
    "id": "85iRrFetJ5p2"
   },
   "source": [
    "```cpp\n",
    "  // Produce an output\n",
    "  HandleOutput(error_reporter, gesture_index);\n",
    "}\n",
    "```\n",
    "\n",
    "- 제스처 예측 결과를 이용하여 출력 처리\n",
    "  - HandleOutput() 함수 호출\n",
    " "
   ]
  },
  {
   "cell_type": "markdown",
   "metadata": {
    "id": "b070OgmIKEv6"
   },
   "source": [
    "#### 애플리케이션 실행\n",
    "\n",
    "- 애플리케이션 빌드 수행\n"
   ]
  },
  {
   "cell_type": "code",
   "execution_count": null,
   "metadata": {
    "colab": {
     "base_uri": "https://localhost:8080/"
    },
    "id": "FeForg17KJKy",
    "outputId": "423fe82d-9866-4e26-e5ca-2621fd04e0b3"
   },
   "outputs": [
    {
     "name": "stdout",
     "output_type": "stream",
     "text": [
      "find: ‘../google/’: No such file or directory\n",
      "tensorflow/lite/micro/tools/make/downloads/flatbuffers already exists, skipping the download.\n",
      "tensorflow/lite/micro/tools/make/downloads/kissfft already exists, skipping the download.\n",
      "tensorflow/lite/micro/tools/make/downloads/pigweed already exists, skipping the download.\n",
      "g++ -std=c++11 -fno-rtti -fno-exceptions -fno-threadsafe-statics -Werror -fno-unwind-tables -ffunction-sections -fdata-sections -fmessage-length=0 -DTF_LITE_STATIC_MEMORY -DTF_LITE_DISABLE_X86_NEON -Wsign-compare -Wdouble-promotion -Wshadow -Wunused-variable -Wmissing-field-initializers -Wunused-function -Wswitch -Wvla -Wall -Wextra -Wstrict-aliasing -Wno-unused-parameter  -DTF_LITE_USE_CTIME -Os -I. -Itensorflow/lite/micro/tools/make/downloads/gemmlowp -Itensorflow/lite/micro/tools/make/downloads/flatbuffers/include -Itensorflow/lite/micro/tools/make/downloads/ruy -Itensorflow/lite/micro/tools/make/gen/linux_x86_64_default/genfiles/ -Itensorflow/lite/micro/tools/make/downloads/kissfft -c tensorflow/lite/micro/tools/make/gen/linux_x86_64_default/genfiles/tensorflow/lite/micro/examples/magic_wand/magic_wand_model_data.cc -o tensorflow/lite/micro/tools/make/gen/linux_x86_64_default/obj/core/tensorflow/lite/micro/tools/make/gen/linux_x86_64_default/genfiles/tensorflow/lite/micro/examples/magic_wand/magic_wand_model_data.o\n",
      "g++ -std=c++11 -fno-rtti -fno-exceptions -fno-threadsafe-statics -Werror -fno-unwind-tables -ffunction-sections -fdata-sections -fmessage-length=0 -DTF_LITE_STATIC_MEMORY -DTF_LITE_DISABLE_X86_NEON -Wsign-compare -Wdouble-promotion -Wshadow -Wunused-variable -Wmissing-field-initializers -Wunused-function -Wswitch -Wvla -Wall -Wextra -Wstrict-aliasing -Wno-unused-parameter  -DTF_LITE_USE_CTIME -I. -Itensorflow/lite/micro/tools/make/downloads/gemmlowp -Itensorflow/lite/micro/tools/make/downloads/flatbuffers/include -Itensorflow/lite/micro/tools/make/downloads/ruy -Itensorflow/lite/micro/tools/make/gen/linux_x86_64_default/genfiles/ -Itensorflow/lite/micro/tools/make/downloads/kissfft -o tensorflow/lite/micro/tools/make/gen/linux_x86_64_default/bin/magic_wand tensorflow/lite/micro/tools/make/gen/linux_x86_64_default/obj/core/tensorflow/lite/micro/examples/magic_wand/main.o tensorflow/lite/micro/tools/make/gen/linux_x86_64_default/obj/core/tensorflow/lite/micro/examples/magic_wand/main_functions.o tensorflow/lite/micro/tools/make/gen/linux_x86_64_default/obj/core/tensorflow/lite/micro/examples/magic_wand/accelerometer_handler.o tensorflow/lite/micro/tools/make/gen/linux_x86_64_default/obj/core/tensorflow/lite/micro/examples/magic_wand/gesture_predictor.o tensorflow/lite/micro/tools/make/gen/linux_x86_64_default/obj/core/tensorflow/lite/micro/examples/magic_wand/output_handler.o tensorflow/lite/micro/tools/make/gen/linux_x86_64_default/obj/core/tensorflow/lite/micro/tools/make/gen/linux_x86_64_default/genfiles/tensorflow/lite/micro/examples/magic_wand/magic_wand_model_data.o tensorflow/lite/micro/tools/make/gen/linux_x86_64_default/lib/libtensorflow-microlite.a -Wl,--fatal-warnings -Wl,--gc-sections -lm\n"
     ]
    }
   ],
   "source": [
    "! make -f tensorflow/lite/micro/tools/make/Makefile magic_wand"
   ]
  },
  {
   "cell_type": "markdown",
   "metadata": {
    "id": "s7G_-DxFKTcm"
   },
   "source": [
    "- 애플리케이션 실행\n",
    " - 사용 가능한 가속도계 데이터가 없기 때문에 프로그램이 출력을 생성하지는 못 함"
   ]
  },
  {
   "cell_type": "code",
   "execution_count": null,
   "metadata": {
    "colab": {
     "base_uri": "https://localhost:8080/"
    },
    "id": "kW0_wv2GKTov",
    "outputId": "387f0c2e-6e6d-4354-eda8-1f4d5a2e648e"
   },
   "outputs": [
    {
     "name": "stdout",
     "output_type": "stream",
     "text": [
      "/content/tflite-micro\n",
      "^C\n"
     ]
    }
   ],
   "source": [
    "% cd /content/tflite-micro/\n",
    "\n",
    "! ./tensorflow/lite/micro/tools/make/gen/linux_x86_64_default/bin/magic_wand"
   ]
  },
  {
   "cell_type": "markdown",
   "metadata": {
    "id": "QlmugLwDLKr5"
   },
   "source": [
    "## 9.5 마이크로컨트롤러에 배포하기\n",
    "\n",
    "- 장치별 버전\n",
    "  - 가속도 데이터를 읽기 위해 accelerometer_handler.cc를 별도로 구현해야 함\n",
    "  - 출력도 마찬가지로 output_handler.cc도 장치별 버전이 필요함\n",
    "\n",
    "- 아두이노(아두이노 나노 33 BLE 센스)용 코드\n",
    "  - arduino_accelerometer_handler.cpp\n",
    "  - arduino_output_handler.cpp\n",
    "  - arduino_main.cpp\n"
   ]
  },
  {
   "cell_type": "markdown",
   "metadata": {
    "id": "-KHySVlzMkv4"
   },
   "source": [
    "- 가속도 센서를 사용하기 위해 필요한 라이브러리 설치\n",
    "  - Arduino_LSM9DS1 라이브러리\n",
    "\n",
    "- Arduino IDE에서 툴 > 라이브러리 관리 메뉴 선택 후 라이브러리 매니저 창에서 Arduino_LSM9DS1 검색 후 설치"
   ]
  },
  {
   "cell_type": "markdown",
   "metadata": {
    "id": "v1Ei8ef2NzoG"
   },
   "source": [
    "#### 아두이노에서 애플리케이션 실행\n",
    "\n",
    "- Arduino IDE 파일 > 예제 > Arduino_TensorFlowLite > magic_wand 선택하여 예제 열기\n",
    "\n",
    "- 업로드 버튼을 클릭하여 예제 애플리케이션 컴파일 후 아두이노에 설치\n",
    "\n",
    "- 툴 > 시리얼 모니터를 실행하여 출력되는 결과 확인\n",
    "\n",
    "- 아두이노의 방향을 아래와 같이 한 상태로 제스처를 수행\n"
   ]
  },
  {
   "cell_type": "markdown",
   "metadata": {
    "id": "CVuVHBh6Tvtz"
   },
   "source": [
    "```cpp\n",
    "    // Write samples to our buffer, converting to milli-Gs and rotating the axis\n",
    "    // order for compatibility with model (sensor orientation is different on\n",
    "    // Arduino Nano BLE Sense compared with SparkFun Edge).\n",
    "    // The expected orientation of the Arduino on the wand is with the USB port\n",
    "    // facing down the shaft towards the user's hand, with the reset button\n",
    "    // pointing at the user's face:\n",
    "    //\n",
    "    //                  ____\n",
    "    //                 |    |<- Arduino board\n",
    "    //                 |    |\n",
    "    //                 | () |  <- Reset button\n",
    "    //                 |    |\n",
    "    //                  -TT-   <- USB port\n",
    "    //                   ||\n",
    "    //                   ||<- Wand\n",
    "    //                  ....\n",
    "    //                   ||\n",
    "    //                   ||\n",
    "    //                   ()\n",
    "    //\n",
    "```"
   ]
  }
 ],
 "metadata": {
  "colab": {
   "collapsed_sections": [],
   "name": "09.마이크로컨트롤러용_제스처_감지_애플리케이션.ipynb",
   "provenance": []
  },
  "kernelspec": {
   "display_name": "Python 3",
   "language": "python",
   "name": "python3"
  },
  "language_info": {
   "codemirror_mode": {
    "name": "ipython",
    "version": 3
   },
   "file_extension": ".py",
   "mimetype": "text/x-python",
   "name": "python",
   "nbconvert_exporter": "python",
   "pygments_lexer": "ipython3",
   "version": "3.8.5"
  }
 },
 "nbformat": 4,
 "nbformat_minor": 1
}
