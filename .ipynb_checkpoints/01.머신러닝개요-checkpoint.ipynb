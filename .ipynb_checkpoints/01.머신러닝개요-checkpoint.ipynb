{
 "cells": [
  {
   "cell_type": "markdown",
   "metadata": {
    "id": "yDGQpA4WBvDU"
   },
   "source": [
    "# **지능형 IoT 응용** \n",
    "#### 한국기술교육대학교 컴퓨터공학부 스마트 IoT 트랙\n",
    "\n",
    "\n",
    "---\n"
   ]
  },
  {
   "cell_type": "markdown",
   "metadata": {
    "id": "41KQaWB5B_tO"
   },
   "source": [
    "# 01. 머신러닝 개요"
   ]
  },
  {
   "cell_type": "markdown",
   "metadata": {
    "id": "fr7M87WBBvDW"
   },
   "source": [
    "---\n",
    "\n",
    "### Acknowledgement\n",
    "\n",
    "\n",
    "이 자료는 다음 서적의 내용을 바탕으로 작성되었음\n",
    "- 딥러닝 입문 with 텐서플로우 2.x, 조휘용 지음, 로드북\n",
    "- 초소형 머신러닝 TinyML, 피트 워든, 대니얼 시투나야케 지음, 맹윤호, 임지순 옮김, 한빛미디어\n",
    "- 딥러닝 텐서플로 교과서, 서지영 지음, 길벗\n",
    "- 모두의 딥러닝 (개정2판), 조태호 지음, 길벗\n",
    "- 핸즈온 머신러닝, 오렐리앙 제롱 지음, 박해선 옮김, 한빛미디어 \n",
    "\n",
    "\n",
    "---"
   ]
  },
  {
   "cell_type": "markdown",
   "metadata": {
    "id": "UmK3xu6nBvDY"
   },
   "source": [
    "### 1.1 인공지능, 머신러닝, 딥러닝\n",
    "\n",
    "* 인공지능\n",
    " - 인간의 지능을 모방하여 사람이 하는 일을 컴퓨터(기계)가 할 수 있도록 하는 기술\n",
    " \n",
    "\n",
    "* 머신러닝\n",
    " - 인공지능 기술의 한 가지\n",
    " - 데이터를 기반으로 컴퓨터가(머신러닝 알고리즘이) 데이터의 규칙을 스스로 찾아 모델을 구축하고 이용하기 위한 기술\n",
    " - “명시적인 프로그래밍 없이 컴퓨터가 학습하는 능력을 갖추게 하는 연구 분야다.” – 아서 사무엘, 1959\n",
    " \n",
    " \n",
    "* 딥러닝\n",
    " - 머신러닝 기술의 한 가지\n",
    " - 많은 수의 은닉층으로 이루어진 인공신경망을 학습하여 이용하기 위한 기술\n",
    " \n"
   ]
  },
  {
   "cell_type": "markdown",
   "metadata": {
    "id": "G9PO7GLLBvDZ"
   },
   "source": [
    "#### 1.1.1 일반적인 프로그램과 머신러닝 프로그램의 차이\n",
    "\n",
    "- 일반적인 프로그램\n",
    " - 입력을 받고 다양한 규칙을 적용하여 출력을 반환하는 알고리즘을 프로그래머가 설계함\n",
    " - 알고리즘의 내부 작업을 계획하고 코드를 통해 명시적으로 구현함\n",
    " - 예를 들어, 공장 기계의 고장을 예측하는 코드를 작성한다고 하면, 프로그래머가 기계 작동에 관련한 여러 가지 데이터(생산 속도, 온도, 진동량 등) 중 어떤 측정치가 문제를 나타내는지 이해한 후 이를 점검하는 코드를 작성해야 함\n",
    " - 하지만 기계 고장의 징후가 될 수 있는 생산 속도, 온도, 진동량의 정확한 조합을 파악하는 것은 쉽지 않음\n",
    "\n",
    "\n",
    "- 머신러닝 프로그램\n",
    " - 프로그래머는 데이터를 알고리즘에 공급하고 알고리즘이 스스로 규칙을 찾게 함\n",
    " - 머신러닝 알고리즘은 훈련(training, 학습)이라는 과정을 통해 알고리즘에 제공한 데이터를 기반으로 시스템의 모델을 구축함\n",
    " - 모델이 완성되면 여기에 새로운 데이터를 공급하여 예측을 수행 (이 과정을 추론이라고 함)\n",
    " \n",
    " \n",
    " <img src=\"./01.머신러닝개요/01-1.ml.png\" width=\"60%\" height=\"60%\">\n"
   ]
  },
  {
   "cell_type": "markdown",
   "metadata": {
    "id": "J2cHKXBOBvDa"
   },
   "source": [
    "#### 1.1.2 머신러닝 학습 과정\n",
    "\n",
    "- 2단계\n",
    " - 학습/훈련 단계(learning, training): 학습 데이터를 대상으로 머신러닝 알고리즘을 적용하여 학습시키고 모델을 생성\n",
    " - 예측/추론 단계(prediction, inference): 생성된 모델에 새로운 데이터를 적용해 결과를 예측\n",
    " \n",
    " <img src=\"./01.머신러닝개요/01-2.ml-process.png\" width=\"60%\" height=\"60%\">\n",
    " "
   ]
  },
  {
   "cell_type": "markdown",
   "metadata": {
    "id": "QdU8__taBvDb"
   },
   "source": [
    "### 1.2 머신러닝 종류\n",
    "\n",
    "\n",
    "\n"
   ]
  },
  {
   "cell_type": "markdown",
   "metadata": {
    "id": "zSu-NdkCCTQu"
   },
   "source": [
    "#### 1.2.1 분류 기준에 따른 머신러닝 방법\n",
    "- 사람의 감독 하에 훈련하는 것인지 그렇지 않은 것인지\n",
    " - 지도 학습 (supervised learning)\n",
    " - 비지도 학습 (unsupervised learning)\n",
    " - 준지도 학습 (semi-supervised learning)\n",
    " - 강화 학습 (reinforcement learning)\n",
    "\n",
    "- 실시간으로 점진적인 학습을 하는지 아닌지\n",
    " - 온라인 학습 (online learning)\n",
    " - 배치 학습 (batch learning) – offline learning\n",
    "\n",
    "- 단순하게 알고 있는 데이터 포인트와 새 데이터 포인트를 비교하는 것인지 아니면 훈련 데이터셋에서 패턴을 발견하여 예측 모델을 만드는지\n",
    " - 사례 기반 학습  (instance-based learning)\n",
    " - 모델 기반 학습 (model-based learning)"
   ]
  },
  {
   "cell_type": "markdown",
   "metadata": {
    "id": "5WtVXW7rBvDc"
   },
   "source": [
    "#### 1.2.2 지도 학습\n",
    "- 알고리즘에 주입하는 훈련 데이터에 레이블(label)이라는 답이 포함됨\n",
    "- 대표적인 지도 학습 알고리즘\n",
    " - k-최근접 이웃 (k-nearest neighbors)\n",
    " - 서포트 벡터 머신 (support vector machine, SVM)\n",
    " - 결정 트리 (decision tree), 랜덤 포레스트 (random forest)\n",
    " - 신경망 (neural network)\n",
    " - 선형 회귀 (linear regression)\n",
    " - 로지스틱 회귀 (logistic regression)\n",
    "\n",
    "\n",
    "- 분류 (classification)\n",
    " - 레이블에 여러 범주(class)가 있고 주어진 데이터가 어느 범주에 속하는지 분류하는 것\n",
    " - 예: 스팸 필터, 숫자 판별, 개/고양이 이미지 분류\n",
    "\n",
    "- 회귀 (regression)\n",
    " - 예측 변수라 부르는 특성/특징(feature)를 사용해 연속적인 숫자로 이루어진 정답을 예측하는 것\n",
    " - 예: 중고차 가격, 영화 관객 수, 주식 가격 등\n",
    " \n"
   ]
  },
  {
   "cell_type": "markdown",
   "metadata": {
    "id": "cgG2O4VtBvDd"
   },
   "source": [
    "#### 1.2.3 비지도 학습\n",
    "- 훈련 데이터에 레이블이 없음\n",
    "- 대표적인 비지도 학습 알고리즘\n",
    "\n",
    "- 군집 (clustering)\n",
    " - K-평균 (k-means clustering)\n",
    " - 계층 군집 (hierarchical clustering)\n",
    " - 기댓값 최대화 (expectation maximization)\n",
    "\n",
    "- 시각화 (visualization)와 차원 축소 (dimensionality reduction)\n",
    " - 주성분 분석 (principal component analysis, PCA)\n",
    " - 커널 PCA\n",
    " - 지역적 선형 임베딩 (locally-linear embedding, LLE)\n",
    "\n",
    "- 연관 규칙 학습 (association rule learning)\n"
   ]
  },
  {
   "cell_type": "markdown",
   "metadata": {
    "id": "wN_EPRjLBvDe"
   },
   "source": [
    "### 1.3 머신러닝의 일반적인 과정\n",
    "\n",
    "- 문제/목표 설정\n",
    "- 데이터 준비\n",
    "- 데이터 분석\n",
    " - 데이터 시각화 과정 포함\n",
    "- 모델 선택\n",
    " - 어떤 머신 러닝 알고리즘을 이용하여 학습을 할 것인가\n",
    "- 훈련 데이터로 모델을 훈련(학습)\n",
    " - 학습 알고리즘이 비용(손실) 함수를 최소화하는 모델 파라미터를 찾음\n",
    "- 새로운 데이터에 모델을 적용해 예측을 하고 평가\n"
   ]
  },
  {
   "cell_type": "markdown",
   "metadata": {
    "id": "09PNS2YtBvDf"
   },
   "source": [
    "### 1.4 선형 회귀 (Linear regression)\n",
    "\n",
    "\n",
    "머신러닝의 기본적인 원리를 이해하기 위해 간단한 선형 회귀 문제의 예를 살펴보자\n",
    "\n",
    "\n",
    "- 다음과 같은 문장을 생각해보자\n",
    "\n",
    "\n",
    "\"학생들의 중간고사 성적이 [     ]에 따라 다 다르다\"\n",
    "\n",
    "\n",
    "- [  ] 부분에 시험 성적에 영향을 미칠 수 있는 다양한 원인이 들어갈 수 있음\n",
    " - 공부한 시간\n",
    " - 시험 당일 컨디션\n",
    " - 학습 태도\n",
    " - ...\n",
    "- [  ]에 들어갈 내용을 정보라고 함\n",
    "- 적당한 정보를 정확히 준비해 놓으면 성적을 예측하는 방정식을 만들 수 있음\n",
    "\n",
    "\n",
    "이를 좀 더 수학적인 언어로 표현한다면, \n",
    "\n",
    "- 성적을 변하게 하는 '정보' 요소를 x라고 하고, 이 x 값에 따라 변하는 '성적'을 y라 하자\n",
    " - 'x 값이 변함에 따라 y 값도 변한다'는 이 정의 하에서, 독립적으로 변할 수 있는 값 x를 독립 변수라고 함\n",
    " - 이 독립 변수에 따라 종속적으로 변하는 y를 종속 변수라고 함\n",
    " \n",
    " \n",
    "- **선형 회귀**란 독립 변수 x를 사용해 종속 변수 y의 움직임을 예측하고 설명하는 작업을 말함\n",
    " - 단순 선형 회귀 (simple linear regression): 하나의 x 값만으로도 y 값을 설명할 수 있을 때의 선형 회귀\n",
    " - 다중 선형 회귀 (multiple linear regression): 여러 개의 독립 변수(x1, x2, x3, ...)를 이용하여 y 값을 설명할 수 있을 때의 선형 회귀"
   ]
  },
  {
   "cell_type": "markdown",
   "metadata": {
    "id": "b16_JWIYBvDf"
   },
   "source": [
    "### 1.5 선형 회귀를 이용한 지도 학습의 예\n",
    "\n",
    "- 1인당 GDP로 삶의 만족도를 예측할 수 있을까?\n",
    " - 어떤 나라의 GDP가 주어졌을 때 그 나라 사람들의 삶의 만족도 수치를 예측할 수 있나\n",
    " \n",
    " \n",
    "<img src=\"./01.머신러닝개요/01-3.life-satisfaction.png\" width=\"60%\" height=\"60%\">\n",
    "\n",
    "    "
   ]
  },
  {
   "cell_type": "markdown",
   "metadata": {
    "id": "r_lM9InDCgZi"
   },
   "source": [
    "  \n",
    "#### 1.5.1 간단한 선형 모델\n",
    "- 삶의 만족도(종속 변수 y)를 1인당 GDP(독립 변수 x)에 따라 변하는 1차 함수로 모델링 (단순 선형 회귀 모델)\n",
    " - 1차 함수: y = ax + b의 형태로 표현 가능\n",
    "\n",
    "\n",
    "삶의_만족도 = 𝜃_0 + 𝜃_1 × 1인당_GDP\n",
    "  \n",
    "  \n",
    "- 2개의 모델 파라미터 존재\n",
    " - 𝜃_0\n",
    " - 𝜃_1\n",
    " \n",
    "\n",
    "주어진 데이터에 대해서 가장 정확한 삶의 만족도 예측치를 낼 수 있는 모델 파라미터 값은 얼마가 되어야 할까?\n",
    "- 이 질문에 대한 답을 찾는 것이 머신러닝 알고리즘 학습의 목표\n",
    " \n",
    "<img src=\"./01.머신러닝개요/01-4.linear-model.png\" width=\"60%\" height=\"60%\">"
   ]
  },
  {
   "cell_type": "markdown",
   "metadata": {
    "id": "Cwhn-D9IBvDg"
   },
   "source": [
    "- 훈련 데이터를 이용하여 가장 적합한 파라미터를 찾음\n",
    " - 선형 모델의 예측치와 훈련 데이터 레이블 사이의 거리를 이용하는 비용(손실) 함수를 사용 \n",
    " - 학습의 목표: 비용(손실) 최소화\n",
    "\n",
    "<img src=\"./01.머신러닝개요/01-5.linear-fit.png\" width=\"60%\" height=\"60%\">\n",
    "\n",
    "\n",
    "- 훈련 데이터에 없는 키프로스 사람들의 삶의 만족도는 얼마일까?\n",
    " - 키프로스의 1인당 GDP: 22,587 달러\n",
    " - 4.85 + 22,587 * 4.91*10(-5) = 5.96"
   ]
  },
  {
   "cell_type": "markdown",
   "metadata": {
    "id": "zbfUMLt7BvDg"
   },
   "source": [
    "### 1.6 단순 선형 회귀 모델의 학습\n",
    "\n",
    "시험 성적의 예를 가지고 선형 회귀 모델의 학습 과정을 살펴보자\n",
    "- 여기서는 시험 성적에 영향을 미치는 여러 요소 중 '공부한 시간' 한 가지만 가지고 생각\n",
    "- 4명의 학생의 성적과 공부한 시간은 다음 표와 같다고 하자\n",
    "\n",
    "| 공부한 시간 | 2시간 | 4시간 | 6시간 | 8시간 |\n",
    "|---|---|---|---|---|\n",
    "| 성적        | 81점 | 93점 | 91점 | 97점 |\n",
    "\n",
    "공부한 시간을 x, 성적을 y라 할 때 집합 X와 Y를 다음과 같이 표현할 수 있음\n",
    "\n",
    "X = {2, 4, 6, 8}\n",
    "\n",
    "\n",
    "Y = {81, 93, 91, 97}\n",
    "\n"
   ]
  },
  {
   "cell_type": "code",
   "execution_count": 1,
   "metadata": {
    "id": "q54A3a4xBvDh",
    "outputId": "50acd380-7693-4436-9538-ac17f7957426"
   },
   "outputs": [
    {
     "data": {
      "image/png": "[encoded data removed]",
      "text/plain": [
       "<Figure size 432x288 with 1 Axes>"
      ]
     },
     "metadata": {
      "needs_background": "light"
     },
     "output_type": "display_data"
    }
   ],
   "source": [
    "# Matplotlib Tutorial - https://wikidocs.net/book/5011\n",
    "\n",
    "\n",
    "import matplotlib.pylab as plt\n",
    "from matplotlib import rc\n",
    "\n",
    "rc('font', family='Malgun Gothic') # font로 맑은 고딕 폰트를 설정 - 여기서는 영문으로 사용해야 함\n",
    "\n",
    "x = [2, 4, 6, 8]\n",
    "y = [81, 93, 91, 97]\n",
    "\n",
    "plt.scatter(x, y)\n",
    "plt.ylim(75, 100) # y축 범위 지정\n",
    "plt.xlabel('공부한 시간', size=14)\n",
    "plt.ylabel('시험 성적', size=14)\n",
    "plt.title('공부한 시간에 따른 시험 점수 그래프', size=16)\n",
    "plt.show()"
   ]
  },
  {
   "cell_type": "markdown",
   "metadata": {
    "id": "qZHGplVxBvDi"
   },
   "source": [
    "- 위 그래프를 보면 왼쪽이 아래를 향하고 오른쪽이 위를 향하는 일종의 선형(직선으로 표시될 만한 형태)를 보임\n",
    "- 이는 직선, 즉 1차 함수 그래프로 표현될 수 있고 y = wx + b 같은 식으로 표현 가능\n",
    " - x는 독립 변수, y는 종속 변수\n",
    " - 일반적으로 수학에서는 y = ax + b 형태로 쓰지만, 머신러닝/딥러닝에서 가중치(weight)라는 용어를 사용하기 때문에 w를 사용함\n",
    " \n",
    " \n",
    "- 선형 회귀는 정확한 직선을 그려내는 과정이고, 이것은 결국 최적의 w, b 값을 찾아내는 작업\n",
    " - 최적의 w, b를 구하고 나면, 위의 4명의 데이터가 아닌 다른 학생의 공부 시간을 안다고 할 때 성적을 예측할 수 있음\n",
    " \n",
    " \n",
    "- 그럼 어떻게 최적의 w, b 값을 찾아낼까? \n",
    " - '일단 그리고 조금씩 수정해 나가기' 방식을 취함 \n",
    " - 임의의 선을 그리고 난 후(즉, 임의의 w, b 값을 설정한 후), 이 선이 얼마나 잘 그려졌는지를 평가하여 조금씩 수정해 가는 방법을 사용 \n",
    "  \n",
    " \n",
    "- 선이 얼마나 잘 그려졌는지는 어떻게 평가하는가?\n",
    " - 오차 평가 방법이 필요 (오차, 비용, 손실 같은 용어가 비슷한 의미로 사용됨)\n",
    " - 오차는 기본적으로 예측 값과 실제 값의 차이를 말함\n",
    " - 평균 제곱 오차(Mean Square Error, MSE)를 많이 사용\n",
    " \n",
    " \n",
    " <img src=\"./01.머신러닝개요/01-6.mse.png\" width=\"20%\" height=\"20%\">\n",
    " \n",
    " \n",
    "- **평균 제곱 오차를 가장 작게 만들어 주는 w, b를 찾아가는 작업**이라고 할 수 있음\n",
    " - 1. 선택된 w, b에 대해 평균 제곱 오차 값을 구함\n",
    " - 2. 이 오차 값보다 더 작은 오차 값이 나올 수 있는 방향으로 w와 b를 조금 수정함\n",
    " - 3. 평균 제곱 오차의 최소값에 다다를 때까지 1, 2의 과정을 반복함\n",
    " "
   ]
  },
  {
   "cell_type": "code",
   "execution_count": 2,
   "metadata": {
    "id": "bPYQthT6BvDj",
    "outputId": "e5aae241-490f-483c-a5cd-3327bcda901e"
   },
   "outputs": [
    {
     "data": {
      "image/png": "[encoded data removed]",
      "text/plain": [
       "<Figure size 432x288 with 1 Axes>"
      ]
     },
     "metadata": {
      "needs_background": "light"
     },
     "output_type": "display_data"
    }
   ],
   "source": [
    "import matplotlib.pyplot as plt\n",
    "import numpy as np\n",
    "from matplotlib import rc\n",
    "\n",
    "rc('font', family='Malgun Gothic') # font로 맑은 고딕 폰트를 설정 - 여기서는 영문으로 사용해야 함\n",
    "\n",
    "x = [2, 4, 6, 8]\n",
    "y = [81, 93, 91, 97]\n",
    "\n",
    "x2 = np.arange(2.0, 8.0, 0.01)\n",
    "y2 = x2 + 80\n",
    "\n",
    "x3 = x2\n",
    "y3 = 2*x3 + 75\n",
    "\n",
    "x4 = x2\n",
    "y4 = 3*x4 + 75\n",
    "\n",
    "plt.scatter(x, y)\n",
    "plt.plot(x2, y2, label='w=1, b=80')\n",
    "plt.plot(x3, y3, label='w=2, b=75')\n",
    "plt.plot(x4, y4, label='w=3, b=75')\n",
    "\n",
    "plt.legend()\n",
    "\n",
    "plt.ylim(75, 100) # y축 범위 지정\n",
    "plt.xlabel('공부한 시간', size=14)\n",
    "plt.ylabel('시험 성적', size=14)\n",
    "plt.title('공부한 시간에 따른 시험 점수 그래프', size=16)\n",
    "plt.show()"
   ]
  },
  {
   "cell_type": "markdown",
   "metadata": {
    "id": "CDT9B1JrBvDj"
   },
   "source": [
    "#### 1.6.1 실습\n",
    "\n",
    "위 성적 예제에서 몇 가지 w, b 값을 정해서 이에 대한 MSE 값을 계산하는 코드를 작성해보고, 가장 작은 MSE 값을 내는 w, b 값이 무엇인지 알아보자\n",
    "\n",
    "- w: 1, b: 80 >> y = x + 80 일 때,\n",
    "| 공부한 시간 | 2시간 | 4시간 | 6시간 | 8시간 |\n",
    "|---|---|---|---|---|\n",
    "| 성적 실제 값        | 81점 | 93점 | 91점 | 97점 |\n",
    "| 성적 예측 값        |  |  |  |  |\n",
    "| 오차                |  |  |  |  |\n",
    "| MSE                 |           |   \n",
    "\n",
    "\n",
    "- w: 2, b: 75 >> y = 2x + 75 일 때,\n",
    "| 공부한 시간 | 2시간 | 4시간 | 6시간 | 8시간 |\n",
    "|---|---|---|---|---|\n",
    "| 성적 실제 값        | 81점 | 93점 | 91점 | 97점 |\n",
    "| 성적 예측 값        |  |  |  |  |\n",
    "| 오차                |  |  |  |  |\n",
    "| MSE                 |           |       \n",
    "\n",
    "\n",
    "- w: 3, b: 75 >> y = 3x + 75 일 때,\n",
    "| 공부한 시간 | 2시간 | 4시간 | 6시간 | 8시간 |\n",
    "|---|---|---|---|---|\n",
    "| 성적 실제 값        | 81점 | 93점 | 91점 | 97점 |\n",
    "| 성적 예측 값        |  |  |  |  |\n",
    "| 오차                |  |  |  |  |\n",
    "| MSE                 |           |    \n",
    "\n",
    "\n",
    "\n",
    "- 위 세 가지 중 MSE가 최소인 w, b는 얼마인가?\n",
    "\n",
    "\n",
    "\n",
    "\n",
    "---"
   ]
  },
  {
   "cell_type": "markdown",
   "metadata": {
    "id": "UUPTwud2BvDj"
   },
   "source": [
    "### 1.7 경사 하강법 (Gradient Descent)\n",
    "\n",
    "\n",
    "위의 예제처럼 여러 가지 w, b에 대해서 MSE를 계산해보면서 MSE를 최소화하는 w, b를 찾아나갈 수 있지만, 무작위로 w, b를 정하게 되면 MSE가 꾸준히 감소하는 것이 아니라 감소했다 증가했다를 반복하면서 최적의 w, b 값을 찾는 과정이 끝나지 않을 수도 있음 > 즉, 학습이 이루어지지 않는 것\n",
    "\n",
    "\n",
    "문제는 **w, b의 값을 어떻게 조절해야 MSE를 점점 더 작게 만드는 방향으로 갈 수 있는지** 아는 것임 \n",
    "\n",
    "\n",
    "MSE가 최소가 되는 w, b의 값을 정하는 문제: 보통 이런 문제를 최적화(optimization) 문제라고도 함\n",
    "\n",
    "\n",
    "경사 하강법이 이 문제에 대한 해결책을 제시해줌\n",
    "\n",
    "---\n",
    "\n",
    "MSE 식을 다시 살펴보자\n",
    "\n",
    "<img src=\"./01.머신러닝개요/01-6.mse.png\" width=\"20%\" height=\"20%\">\n",
    "\n",
    "위의 MSE 식에서 예측 값은 설정된 w, b에 대해서 변수 x가 xi일 때 계산된 값이므로 다음과 같이 바꾸어 쓸 수 있음\n",
    "\n",
    "<img src=\"./01.머신러닝개요/01-7.mse-2.png\" width=\"25%\" height=\"25%\">\n",
    "\n",
    "여기서 xi, yi는 우리가 가지고 있는 데이터에서 주어진 고정된 값이므로 MSE는 w와 b의 변화에 따라 바뀌고, w와 b의 2차 함수로 표현될 수 있다는 것을 알 수 있음\n",
    "\n",
    "\n",
    "설명의 단순화를 위해 b를 0이라고 가정하고 주어진 데이터에 대해서 MSE를 w에 대한 2차 함수로 표현해보자\n",
    "\n",
    "<img src=\"./01.머신러닝개요/01-8.mse-example.png\" width=\"80%\" height=\"80%\">\n",
    "\n",
    "이에 대한 2차 함수 그래프를 그려보면 다음과 같다\n",
    "\n",
    "\n"
   ]
  },
  {
   "cell_type": "code",
   "execution_count": 3,
   "metadata": {
    "id": "Znwyy3qOBvDj",
    "outputId": "86c7b683-6637-4110-a113-aed1a26e24d1"
   },
   "outputs": [
    {
     "data": {
      "image/png": "[encoded data removed]",
      "text/plain": [
       "<Figure size 432x288 with 1 Axes>"
      ]
     },
     "metadata": {
      "needs_background": "light"
     },
     "output_type": "display_data"
    }
   ],
   "source": [
    "import matplotlib.pyplot as plt\n",
    "import numpy as np\n",
    "from matplotlib import rc\n",
    "\n",
    "rc('font', family='Malgun Gothic')\n",
    "\n",
    "w = np.arange(0.0, 30.0, 0.1)\n",
    "mse = 30*w*w - 928*w + 8225\n",
    "\n",
    "plt.plot(w, mse)\n",
    "\n",
    "plt.xlabel('w')\n",
    "plt.ylabel('MSE')\n",
    "plt.show()"
   ]
  },
  {
   "cell_type": "markdown",
   "metadata": {
    "id": "MFkt8sZzBvDk"
   },
   "source": [
    "- 위 결과에서 알 수 있는 것\n",
    " - w가 0에서 15로 증가할 때 MSE는 점점 작아짐\n",
    " - MSE는 w가 약 15일 때 최소가 됨 (정확히는 15.466666666...) >> 이때는 2차 함수의 접선의 기울기가 0이 되는 때임 >> 미분 값이 0\n",
    " - w가 16에서 30으로 증가할 때 MSE는 점점 커짐\n",
    " - 최소의 MSE 방향으로 가기 위해서는 w가 15.46보다 작을 때는 w를 점점 증가해야 하고, w가 15.47보다 클 때는 w를 점점 감소해야 함\n",
    " \n",
    " \n",
    "그렇다면 컴퓨터는 언제 w를 증가해야 하고 언제 w를 감소해야 하는지 어떻게 알 수 있는가?\n",
    "\n",
    "\n",
    "아래 그래프를 보면서 생각해보자\n",
    "\n"
   ]
  },
  {
   "cell_type": "markdown",
   "metadata": {
    "id": "elDqXphkBvDk"
   },
   "source": [
    "<img src=\"./01.머신러닝개요/01-9.gradient.jpg\" width=\"50%\" height=\"50%\">\n"
   ]
  },
  {
   "cell_type": "markdown",
   "metadata": {
    "id": "8pcyE8g8BvDk"
   },
   "source": [
    "- 주어진 w 값에서의 접선의 기울기가 0보다 크면 w 감소\n",
    " - 그래프에서 w가 20, 25일 때를 보자\n",
    "- 접선의 기울기가 0보다 작으면 w 증가 \n",
    " - 그래프에서 w가 5, 10일 때를 보자\n",
    "\n",
    "\n",
    "즉, 기울기(경사, gradient)가 점차 감소하는 방향(descent)으로 w를 조절해야 한다 >> 경사 하강법 (gradient descent algorithm)\n",
    "- 기울기는 미분을 통해서 구할 수 있음\n",
    "\n",
    "최종적으로 접선의 기울기가 0이 되는 지점에서 w가 우리가 찾는 값"
   ]
  },
  {
   "cell_type": "markdown",
   "metadata": {
    "id": "W_rCyGQWBvDl"
   },
   "source": [
    "#### 1.7.1 경사 하강법 과정\n",
    "\n",
    "<img src=\"./01.머신러닝개요/01-10.gd.jpg\" width=\"40%\" height=\"40%\">\n",
    "\n",
    "1. 임의의 w 값 w1에서 기울기(미분)을 구한다\n",
    "2. 구해진 기울기의 반대 방향(기울기가 0보다 크면 음의 방향, 0보다 작으면 양의 방향)으로 얼마간 w 값을 변경하고, 변경된 w 값에서 미분을 구한다\n",
    " - 변경된 w = w1 - (c * 기울기)\n",
    "3. 위에서 구한 미분 값이 0이 아니면 위 과정을 반복한다\n",
    "\n",
    "\n",
    "\n",
    "<img src=\"https://img1.daumcdn.net/thumb/R1280x0/?scode=mtistory2&fname=http%3A%2F%2Fcfile9.uf.tistory.com%2Fimage%2F99D2E64B5AEE45A50CEEE2\">\n",
    "<center> (이미지 출처: https://itchipmunk.tistory.com/150) </center>\n"
   ]
  },
  {
   "cell_type": "markdown",
   "metadata": {
    "id": "isYDGhTcBvDl"
   },
   "source": [
    "#### 1.7.2 학습률 (learing rate)\n",
    "\n",
    "w 값을 얼마만큼 변경할지 정하기 위한 값\n",
    "\n",
    "- 적절한 학습률의 중요성\n",
    " - 너무 조금만 변경하면 m까지 도달하기 위해 너무 많은 반복을 해야 함 (학습 속도가 느려짐)\n",
    " - 너무 많이 변경하면 m에 도달하지 못 하고 계속 널뛰기만 할 수 있음 (학습이 이루어지지 않음) \n",
    "  \n",
    " \n",
    "학습률이 너무 큰 경우 수렴하지 못 하고 발산함 \n",
    "- 아래 그림 참고\n",
    " <img src=\"https://img1.daumcdn.net/thumb/R720x0.q80/?scode=mtistory2&fname=http%3A%2F%2Fcfile21.uf.tistory.com%2Fimage%2F226EAA3457F51043072291\" width=\"50%\" height=\"50%\">\n",
    "<center> (이미지 출처: https://bcho.tistory.com/1141) </center>"
   ]
  },
  {
   "cell_type": "markdown",
   "metadata": {
    "id": "GTVwPsXIBvDl"
   },
   "source": [
    "#### 1.7.3 경사 하강법 구현\n",
    "\n",
    "w와 b의 2차 함수로 표현된 MSE 식을 다시 살펴보자\n",
    "\n",
    "<img src=\"./01.머신러닝개요/01-11.mse-w-b.png\" width=\"30%\" height=\"30%\">\n",
    "\n",
    "\n",
    "위에서는 w에 대해서만 간략화해서 봤는데, b에 대해서도 동일한 방식이 적용됨\n",
    "- w값이 변함에 따라 발생하는 MSE의 변화는 MSE를 w에 대해서 미분함으로써 알 수 있음\n",
    "- 마찬가지로 b값이 변함에 따라 발생하는 MSE의 변화는 MSE를 b에 대해서 미분함으로써 알 수 있음\n",
    "\n",
    "MSE의 w에 대한 편미분과 b에 대한 편미분을 각각 구해야 함\n",
    "\n",
    "- w에 대한 편미분\n",
    "<img src=\"./01.머신러닝개요/01-12.mse-w-gradient.png\" width=\"45%\" height=\"45%\">\n",
    "\n",
    "- b에 대한 편미분\n",
    "<img src=\"./01.머신러닝개요/01-13.mse-b-gradient.png\" width=\"45%\" height=\"45%\">\n"
   ]
  },
  {
   "cell_type": "code",
   "execution_count": 4,
   "metadata": {
    "id": "cQe1-xZ2BvDl",
    "outputId": "f9456011-27ff-435c-da69-ef4a6e7a718d"
   },
   "outputs": [
    {
     "data": {
      "image/png": "[encoded data removed]",
      "text/plain": [
       "<Figure size 432x288 with 1 Axes>"
      ]
     },
     "metadata": {
      "needs_background": "light"
     },
     "output_type": "display_data"
    },
    {
     "name": "stdout",
     "output_type": "stream",
     "text": [
      "epoch=0, w=27.8400, b=5.4300\n",
      "epoch=100, w=7.0739, b=50.5117\n",
      "epoch=200, w=4.0960, b=68.2822\n",
      "epoch=300, w=2.9757, b=74.9678\n",
      "epoch=400, w=2.5542, b=77.4830\n",
      "epoch=500, w=2.3956, b=78.4293\n",
      "epoch=600, w=2.3360, b=78.7853\n",
      "epoch=700, w=2.3135, b=78.9192\n",
      "epoch=800, w=2.3051, b=78.9696\n",
      "epoch=900, w=2.3019, b=78.9886\n",
      "epoch=1000, w=2.3007, b=78.9957\n",
      "epoch=1100, w=2.3003, b=78.9984\n",
      "epoch=1200, w=2.3001, b=78.9994\n",
      "epoch=1300, w=2.3000, b=78.9998\n",
      "epoch=1400, w=2.3000, b=78.9999\n",
      "epoch=1500, w=2.3000, b=79.0000\n",
      "epoch=1600, w=2.3000, b=79.0000\n",
      "epoch=1700, w=2.3000, b=79.0000\n",
      "epoch=1800, w=2.3000, b=79.0000\n",
      "epoch=1900, w=2.3000, b=79.0000\n",
      "epoch=2000, w=2.3000, b=79.0000\n"
     ]
    },
    {
     "data": {
      "image/png": "[encoded data removed]",
      "text/plain": [
       "<Figure size 432x288 with 1 Axes>"
      ]
     },
     "metadata": {
      "needs_background": "light"
     },
     "output_type": "display_data"
    }
   ],
   "source": [
    "import numpy as np\n",
    "import matplotlib.pyplot as plt\n",
    "\n",
    "# 공부 시간과 성적 데이터 그래프로 나타내기\n",
    "x = [2, 4, 6, 8]\n",
    "y = [81, 93, 91, 97]\n",
    "\n",
    "plt.scatter(x, y)\n",
    "plt.show()\n",
    "\n",
    "# 선형 회귀 학습을 위한 초기화\n",
    "\n",
    "# 학습용 x, y 데이터 (numpy 배열로 만들기)\n",
    "x_data = np.array(x)\n",
    "y_data = np.array(y)\n",
    "\n",
    "# w, b 초기값 설정\n",
    "w = 0\n",
    "b = 0\n",
    "\n",
    "# 학습률 설정\n",
    "lr = 0.03\n",
    "\n",
    "# 반복 횟수\n",
    "epochs = 2001\n",
    "\n",
    "# 경사 하강법 시작\n",
    "for i in range(epochs): # 에폭 수만큼 반복\n",
    "    y_pred = w * x_data + b # 예측 값 구하기\n",
    "    error = y_data - y_pred # 오차\n",
    "    \n",
    "    # MSE의 w에 대한 편미분 계산\n",
    "    w_diff = -2/len(x_data) * sum(error*x_data)\n",
    "    \n",
    "    # MSE의 b에 대한 편미분 계산\n",
    "    b_diff = -2/len(x_data) * sum(error)\n",
    "    \n",
    "    # 기존의 w, b 변경\n",
    "    w = w - (lr * w_diff)\n",
    "    b = b - (lr * b_diff)\n",
    "    \n",
    "    if i % 100 == 0:\n",
    "        print(\"epoch=%d, w=%0.04f, b=%0.04f\" %(i, w, b))\n",
    "        \n",
    "# 경사 하강법을 통해 구한 w, b를 이용해 예측 값 그래프 그리기\n",
    "y_pred = w * x_data + b\n",
    "plt.scatter(x, y)\n",
    "plt.plot([min(x_data), max(x_data)], [min(y_pred), max(y_pred)])\n",
    "plt.show()\n",
    "\n"
   ]
  },
  {
   "cell_type": "markdown",
   "metadata": {
    "id": "DckD19nPBvDm"
   },
   "source": [
    "### 1.8 실습\n",
    "\n",
    "위의 예제 코드에서 학습률과 반복 횟수(epochs)를 여러 가지 다른 값으로 변경하면서 결과가 어떻게 나오는지 확인해보자\n",
    "- 학습률을 현재의 1/100, 1/10, 10, 100 배로 변경\n",
    "- epoch 수를 현재의 1/5, 1/2, 2, 5, 10 배로 변경"
   ]
  },
  {
   "cell_type": "markdown",
   "metadata": {
    "id": "aikT34zFBvDm"
   },
   "source": [
    "### 정리\n",
    "\n",
    "위에서 간단한 단순 선형 회귀 문제를 살펴봤지만, 다른 머신러닝(지도학습)의 경우도 근본적으로는 주어진 데이터를 적합하게 표현할 수 있는 모델을 만들기 위해서 정답과 예측 값 사이의 오차를 최소화 할 수 있는 모델 파라미터(가중치)를 찾는 것이라는 것은 동일함\n",
    "\n",
    "\n",
    "학습을 한다는 것은 결국 최적의 모델 파라미터를 데이터를 기반으로 결정하는 것이라고 볼 수 있음\n",
    "\n",
    "\n",
    "최적의 모델 파라미터를 찾는 방법의 기본 원리는 경사하강법"
   ]
  },
  {
   "cell_type": "code",
   "execution_count": null,
   "metadata": {
    "id": "8QDTGEhjBvDm"
   },
   "outputs": [],
   "source": []
  }
 ],
 "metadata": {
  "colab": {
   "collapsed_sections": [],
   "name": "01.머신러닝개요.ipynb",
   "provenance": [],
   "toc_visible": true
  },
  "kernelspec": {
   "display_name": "Python 3",
   "language": "python",
   "name": "python3"
  },
  "language_info": {
   "codemirror_mode": {
    "name": "ipython",
    "version": 3
   },
   "file_extension": ".py",
   "mimetype": "text/x-python",
   "name": "python",
   "nbconvert_exporter": "python",
   "pygments_lexer": "ipython3",
   "version": "3.8.5"
  }
 },
 "nbformat": 4,
 "nbformat_minor": 1
}
