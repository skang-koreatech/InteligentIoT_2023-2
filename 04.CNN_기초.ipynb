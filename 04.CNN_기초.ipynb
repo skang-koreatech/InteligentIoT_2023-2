{
 "cells": [
  {
   "cell_type": "markdown",
   "metadata": {
    "id": "uSsZcEyqhyS6"
   },
   "source": [
    "# **지능형 IoT 응용** \n",
    "#### 한국기술교육대학교 컴퓨터공학부 스마트 IoT 트랙\n",
    "\n",
    "\n",
    "---"
   ]
  },
  {
   "cell_type": "markdown",
   "metadata": {
    "id": "o977IjdChyS9"
   },
   "source": [
    "# 04. CNN 기초"
   ]
  },
  {
   "cell_type": "markdown",
   "metadata": {
    "id": "rdr7pd1KhyTA"
   },
   "source": [
    "---\n",
    "\n",
    "### Acknowledgement\n",
    "\n",
    "\n",
    "이 자료는 다음 서적의 내용을 바탕으로 작성되었음\n",
    "- 밑바닥부터 시작하는 딥러닝 (Deep Learning from Scratch), 사이토 고키 지음, 개잎맵시 옮김, 한빛미디어\n",
    "- 딥러닝 텐서플로 교과서, 서지영 지음, 길벗\n",
    "- 딥러닝 입문 with 텐서플로우 2.x, 조휘용 지음, 로드북\n",
    "\n",
    "---"
   ]
  },
  {
   "cell_type": "markdown",
   "metadata": {
    "id": "IJzPNcEJhyTC"
   },
   "source": [
    "## 4.1 CNN (Convolutional Neural Network)\n",
    "\n",
    "- CNN은 이미지 인식과 음성 인식 등 다양한 응용에 사용되는 신경망\n",
    "- 특히 이미지 인식 분야에서 딥러닝을 활용한 기법은 대부분 CNN을 기초로 함\n",
    "\n",
    "### CNN 구조\n",
    "\n",
    "- 이전에 우리가 본 신경망은 완전연결 계층(fully-connected layer)으로 구성된 신경망\n",
    "  - 완전연결(fully-connected layer) 계층: 신경망의 인접하는 계층의 모든 뉴런 사이에 연결이 존재. Dense layer, Affine layer이라고도 함\n",
    " \n",
    "<img src=\"04.CNN_기초/04-1.fclayer.png\" width=\"90%\" height=\"90%\">\n",
    "<center>완전연결 계층으로 이루어진 네트워크의 예</center>\n",
    "\n",
    " \n",
    "- CNN의 경우 새롭게 합성곱 계층(Convolution layer), 풀링 계층(Pooling layer)이 추가됨\n",
    "\n",
    "- 일반적인 CNN 계층 구조\n",
    "  - 입력층\n",
    "  - 합성곱층\n",
    "  - 풀링층\n",
    "  - 완전연결층\n",
    "  - 출력층\n",
    " \n",
    "<img src=\"04.CNN_기초/04-2.convlayer.png\" width=\"90%\" height=\"90%\"> \n",
    "<center>CNN으로 이루어진 네트워크의 예</center> \n",
    "\n",
    "- Affine-ReLU 연결이 Conv-ReLU-(Pooling)으로 변경된 것으로 볼 수 있음\n",
    "- 풀링 계층은 생략되기 도 함\n",
    "- 출력에 가까운 층에서는 Affine-ReLU 구성을 사용함\n",
    "- 마지막 출력층에서는 Affine-Softmax 조합을 그대로 사용함"
   ]
  },
  {
   "cell_type": "markdown",
   "metadata": {
    "id": "dPNwTXOBhyTF"
   },
   "source": [
    "## 4.2 합성곱 계층 (Convolution layer)\n",
    "\n",
    "### 4.2.1 완전연결 계층의 문제점\n",
    "\n",
    "- 완전연결 계층에서는 인접하는 계층의 뉴런이 모두 연결되고 출력의 수는 임의로 정할 수 있음\n",
    "\n",
    "- 완전연결 계층의 문제점: **데이터의 형상이 무시된다는 점, 즉 데이터에 존재하는 공간적인 정보가 활용될 수 없음**\n",
    "  - 입력 데이터가 이미지인 경우 이미지는 세로,가로,채널(색상)으로 구성된 3차원 데이터임\n",
    "  - 3차원 데이터에는 공간적 정보가 담겨 있음. 예를 들어, 공간적으로 가까운 픽셀은 값이 비슷하거나 거리가 먼 픽셀끼리는 별 연관이 없고, RGB의 각 채널은 서로 밀접하게 관련되어 있는 등의 특성이 있음\n",
    " \n",
    "  - 하지만 완전연결 계층에 입력할 때는 3차원 데이터를 평평한 1차원 데이터로 평탄화(flatten) 해줘야 함\n",
    "  - MNIST 데이터셋을 사용할 예제에서는 형상이 (1, 28, 28)인 이미지(1채널, 세로 28픽셀, 가로 28픽셀)를 1줄로 세운 784개의 데이터를 첫 Affine 계층에 입력했음\n",
    " \n",
    "  - 이렇게 되면 네트워크에서 입력 데이터가 처리될 때 3차원 데이터에 존재하는 공간 정보는 고려되지 않고 학습이 이루어짐\n",
    " \n",
    "\n",
    "### 4.2.2 합성곱 연산\n",
    "\n",
    "- 합성곱 계층은 입력 데이터의 형상을 유지함\n",
    "  - 3차원 이미지 데이터를 그대로 입력으로 받고 다음 계층에도 3차원 데이터로 전달함\n",
    "  - 3차원 데이터에 담긴 공간적 특징 정보가 사용될 수 있어서 데이터를 제대로 이해할 가능성이 높음\n",
    "\n",
    "- 합성곱 계층은 입력 데이터에서 특징(feature)을 추출하는 역할을 수행\n",
    "  - 합성곱 계층의 입출력 데이터를 특징 맵(feature map)이라고도 함\n",
    " \n",
    "- 합성곱 연산 (Convolution)\n",
    "  - 입력 데이터에 필터(filter)를 적용하여 결과를 계산 (필터를 커널(kernel)이라고도 함)\n",
    "  - 입력 데이터와 필터를 포개 놓고 대응되는 숫자끼리 곱한 후 모두 더함\n",
    "  - 필터의 윈도우를 일정 간격으로 이동해가며 입력 데이터에 적용\n",
    " \n",
    " \n",
    "<img src=\"04.CNN_기초/04-3.conv.png\" width=\"60%\" height=\"60%\"> \n",
    "<center>2차원 합성곱 연산의 예</center> \n",
    "\n",
    "- 예제 데이터와 필터의 형상(shape)\n",
    "  - 입력 데이터 (4,4)\n",
    "  - 필터 (3,3)\n",
    "  - 출력 데이터 (2,2)\n",
    " \n",
    " \n",
    "- 완전연결 신경망에서 가중치 매개변수와 편향이 존재하는데, CNN에서는 필터의 매개변수가 신경망의 '가중치'에 해당\n",
    "- 그리고 CNN에도 편향이 존재함\n",
    "  - 편향은 항상 하나(1,1)만 존재하여, 하나의 값을 필터를 적용한 모든 원소에 더하는 것임\n",
    "- 필터를 적용한 결과에 각 원소마다 편향을 더하면 최종 출력 데이터가 됨\n",
    "  - 위의 예제에서 편향이 3이라면 출력 데이터는 왼쪽 상단부터 차례로 18, 19, 9, 18이 될 것임"
   ]
  },
  {
   "cell_type": "markdown",
   "metadata": {
    "id": "Hq_BBHdHhyTH"
   },
   "source": [
    "### 4.2.3 패딩 (Padding)\n",
    "\n",
    "- 합성곱 연산을 수행하기 전 입력 데이터 주변을 특정 값(예컨대 0)으로 채우는 것\n",
    "- 주로 출력 크기를 조정할 목적으로 사용함\n",
    "  - 예를 들어 (4,4) 입력 데이터에 (3,3) 필터를 적용하면 출력은 (2,2)가 되어 입력보다 2만큼 줄어듬\n",
    "  - 이는 합성곱 연산을 여러 번 되풀이하는 심층 신경망에서 문제가 될 수 있음\n",
    "  - 합성곱 연산을 거칠 때마다 크기가 작아지면서 어느 시점에서는 출력 크기가 1이 되어버려서 더 이상 합성곱 연산을 적용할 수 없게 될 수 있음\n",
    "  - 이러한 문제를 막기 위해 패딩을 사용\n",
    " \n",
    "<img src=\"04.CNN_기초/04-4.padding.png\" width=\"60%\" height=\"60%\"> \n",
    "<center>패딩을 추가한 예</center>  \n",
    "\n",
    "- 위 예에서는 폭 1인 패딩을 적용\n",
    "  - 패딩 값은 0으로 채움\n",
    "- (4,4)인 입력 데이터에 패딩이 추가되어 (6,6)이 됨\n",
    "- 이 입력에 (3,3) 크기의 필터를 적용하면 (4,4) 크기의 출력 데이터가 생성\n",
    "- 패딩 폭을 2, 3 등 원하는 정수로 설정할 수 있음\n",
    "  - 패딩 폭을 2로 하면 입력 데이터의 크기는 (8,8)이 되고, 3으로 하면 (10,10)이 됨\n"
   ]
  },
  {
   "cell_type": "markdown",
   "metadata": {
    "id": "AMs9LU4AhyTJ"
   },
   "source": [
    "### 4.2.4 스트라이드 (Stride)\n",
    "\n",
    "- 스트라이드\n",
    "  - 필터를 적용하는 위치의 간격\n",
    "  - 위에서 본 예에서는 모두 스트라이드가 1\n",
    "  - 스트라이드를 2로 하면 필터를 적용하는 윈도우가 두 칸씩 이동함\n",
    " \n",
    " \n",
    "<img src=\"04.CNN_기초/04-5.stride.png\" width=\"60%\" height=\"60%\"> \n",
    "<center>스트라이드 2인 합성곱 연산</center>  \n",
    "\n",
    "- (7,7) 입력에 (3,3) 필터를 적용하고 스트라이드를 2로 하면 출력은 (3,3)\n",
    "- 스트라이드를 키우면 출력의 크기는 작아짐\n",
    "- 패딩을 크게 하면 출력 크기가 커진 것과 반대\n"
   ]
  },
  {
   "cell_type": "markdown",
   "metadata": {
    "id": "Tw64Cvn5hyTL"
   },
   "source": [
    "### 4.2.5 출력 크기 계산\n",
    "\n",
    "- 아래와 같이 입력 크기, 필터 크기, 패딩, 스트라이드가 주어졌을 때 출력 크기(OH,OW)를 계산할 수 있음\n",
    "  - 입력 크기 (H,W)\n",
    "  - 필터 크기 (FH,FW)\n",
    "  - 패딩 P\n",
    "  - 스트라이드 S\n",
    "\n",
    "\n",
    "- OH = (H + 2P - FH) / S + 1\n",
    "- OW = (W + 2P - FW) / S + 1\n",
    "\n",
    "\n",
    "#### 계산 예\n",
    "- 입력 (4,4), 패딩 1, 스트라이드 1, 필터 (3,3) \n",
    "  - OH = (4 + 2 - 3) / 1 + 1 = 4\n",
    "  - OW = (4 + 2 - 3) / 1 + 1 = 4\n",
    " \n",
    "- 입력 (7,7), 패딩 0, 스트라이드 2, 필터 (3,3)\n",
    "  - OH = (7 + 0 - 3) / 2 + 1 = 3\n",
    "  - OW = (7 + 0 - 3) / 2 + 1 = 3\n",
    " \n",
    "- 주의할 점은 (H + 2P - FH) / S, (W + 2P - FW) / S 계산 결과는 정수로 나와야 함"
   ]
  },
  {
   "cell_type": "markdown",
   "metadata": {
    "id": "hfG_EA45hyTN"
   },
   "source": [
    "### 4.2.6 3차원 데이터의 합성곱 연산\n",
    "\n",
    "- 3차원 데이터의 경우 채널이 여러 개 존재\n",
    "  - 필터도 입력 데이터와 동일하게 여러 개 채널에 대해서 존재\n",
    "    \n",
    "- 입력 데이터와 필터의 합성곱 연산을 채널마다 수행하고 그 결과를 더해서 하나의 출력을 만들어 냄\n",
    "\n",
    "- 주의할 점\n",
    "  - 입력 데이터의 채널 수와 필터의 채널 수가 동일해야 함 (아래 예에서 채널 수는 3)\n",
    "  - 필터의 크기는 원하는 값으로 설정할 수 있지만 모든 채널의 필터가 같은 크기여야 함\n",
    " \n",
    " \n",
    "<img src=\"https://media.vlpt.us/post-images/dscwinterstudy/4d744a50-4199-11ea-8bd7-d9eb4a57ded4/fig-7-9.png\" width=\"70%\" height=\"70%\"> \n",
    "<center>3차원 데이터 합성곱 연산의 예</center> \n",
    "<center>(이미지 출처: https://velog.io/@dscwinterstudy/2020-01-28-1501-%EC%9E%91%EC%84%B1%EB%90%A8-8zk5xihhpz)</center>   \n",
    "\n",
    "\n",
    "<img src=\"https://blog.kakaocdn.net/dn/edHwPa/btqyQLhReJx/dNLWwlxr5Pz84I0NVe1BlK/img.jpg\" width=\"70%\" height=\"70%\">\n",
    "<center>(이미지 출처: https://mindsee-ai.tistory.com/17)</center>\n",
    "\n",
    "\n"
   ]
  },
  {
   "cell_type": "markdown",
   "metadata": {
    "id": "kD56H2-EhyTQ"
   },
   "source": [
    "### 4.2.7 블록으로 생각하기\n",
    "\n",
    "- 위의 예처럼 3차원 데이터를 채널 3개인 필터 하나로 합성곱을 수행하면 출력 데이터는 2차원 데이터가 됨\n",
    "  - 채널이 1개인 특징 맵\n",
    " \n",
    "- 입력 데이터와 필터를 직육면체 블록이라 생각하면 다음과 같은 형상으로 표현됨\n",
    "  - 채널 수 C, 높이 H, 너비 W인 데이터의 형상을 (C,H,W)\n",
    "  - 채널 수 C, 필터 높이 FH, 필터 너비 FW의 경우 (C, FH, FW)\n",
    "  - 이때 출력 데이터는 (1,OH,OW)의 형상을 가짐\n",
    " \n",
    "<img src=\"04.CNN_기초/04-6.block.png\" width=\"60%\" height=\"60%\"> \n",
    "\n",
    "\n",
    "- 출력 데이터도 여러 개의 채널이 존재하도록 하려면 어떻게 해야 하나?\n",
    "  - 필터를 여러 개 사용\n",
    "  - 필터를 FN개 적용하면 출력 맵도 FN개 생성됨\n",
    "  - FN개의 맵을 모으면 형상이 (FN,OH,OW)인 블록이 완성됨\n",
    " \n",
    "<img src=\"04.CNN_기초/04-7.filters.png\" width=\"60%\" height=\"60%\">  \n",
    " "
   ]
  },
  {
   "cell_type": "markdown",
   "metadata": {
    "id": "lbGzKbBIhyTT"
   },
   "source": [
    "## 4.3 풀링 계층\n",
    "\n",
    "- 풀링(Pooling)은 세로,가로 방향의 공간을 줄이는 연산 (다운 샘플링하는 효과)\n",
    "  - 연산량을 감소시키고 주요한 특성 벡터를 추출하여 학습을 효과적으로 할 수 있게 함\n",
    "\n",
    "- 일정한 영역(예를 들어 2x2 영역)을 원소 하나로 집약하여 크기를 줄임\n",
    "  - 최대 풀링 (Max pooling): 영역의 최대값을 취함\n",
    "  - 평균 풀링 (Average pooling): 영역의 평균값을 취함\n",
    "  - 최소 풀링 (Min pooling): 영역의 최소값을 취함\n",
    " \n",
    "- CNN에서는 주로 최대 풀링 사용\n",
    "\n",
    "\n",
    "<img src=\"04.CNN_기초/04-8.pooling.png\" width=\"80%\" height=\"80%\">  \n",
    "<center>최대 풀링의 예</center>\n",
    "\n",
    "\n",
    "- 위 예에서는 2x2 최대 풀링을 스트라이드 2로 처리\n",
    "  - 2x2는 대상 영역의 크기를 의미\n",
    "  - 2x2 크기의 영역에서 가장 큰 원소 하나를 취함\n",
    "  - 스트라이드가 2이므로 2x2 윈도우가 2칸 간격으로 이동함\n",
    "  - 일반적으로 풀링의 윈도우 크기와 스트라이드는 같은 값으로 설정\n",
    " "
   ]
  },
  {
   "cell_type": "markdown",
   "metadata": {
    "id": "KLLgCwMoi6eH"
   },
   "source": [
    "### 4.3.1 풀링 계층의 특징\n",
    "\n",
    "- 학습해야 할 매개변수가 없음\n",
    "  - 합성곱 계층의 필터 매개변수처럼 학습할 매개변수가 없음\n",
    "  - 풀링은 대상 영역에서 최대값, 평균값을 취하는 명확한 연산이므로 학습할 것이 없음\n",
    "\n",
    "\n",
    "- 채널 수가 변하지 않음\n",
    "  - 입력 데이터의 채널 수 그대로 출력 데이터로 내보냄\n",
    "  - 풀링 연산은 채널마다 독립적으로 계산\n",
    "\n",
    "\n",
    "- 입력의 변화에 영향을 적게 받음 (강건함)\n",
    "  - 입력 데이터가 조금 변해도 풀링의 결과는 잘 변하지 않음"
   ]
  },
  {
   "cell_type": "markdown",
   "metadata": {
    "id": "t7Uj30rdjABq"
   },
   "source": [
    "### 4.3.2 풀링 계층 출력 데이터 크기\n",
    "\n",
    "- 입력 데이터 (C,H,W)\n",
    "- 풀링 윈도우 크기 F\n",
    "- 스트라이드 S\n",
    "- 출력 데이터 (C,OH,OW)\n",
    "  - OH = (H - F) / S + 1\n",
    "  - OW = (W - F) / S + 1"
   ]
  },
  {
   "cell_type": "markdown",
   "metadata": {
    "id": "2x7TJOtxh5h8"
   },
   "source": [
    "## 4.4 Keras API 기반 CNN 구현 및 테스트\n",
    "\n",
    "MLP(완전연결 신경망)와 CNN(합성곱 신경망)을 구현하고 MNIST 데이터와 비슷한 Fashion-MNIST 데이터를 이용하여 성능을 비교해보자\n",
    "\n",
    "\n",
    "---\n",
    "Notice\n",
    "- 아래 코드는 Colab에서 실행할 수 있음\n",
    "---"
   ]
  },
  {
   "cell_type": "markdown",
   "metadata": {
    "id": "UVXa_LxijDtu"
   },
   "source": [
    "### 4.4.1 Fashion-MNIST 데이터\n",
    "- 운동화, 셔츠, 샌들과 같은 패션 품목 이미지 데이터셋\n",
    "  - 기본 MNIST 데이터셋처럼 열 가지 분류 항목이 있음\n",
    "  - 28×28 픽셀의 이미지 70,000개로 이루어져 있음\n",
    "\n",
    " "
   ]
  },
  {
   "cell_type": "markdown",
   "metadata": {
    "id": "ltF2IVLojOEa"
   },
   "source": [
    "##### Fashion-MNIST 데이터셋 다운"
   ]
  },
  {
   "cell_type": "code",
   "execution_count": null,
   "metadata": {
    "colab": {
     "base_uri": "https://localhost:8080/"
    },
    "id": "e0wSgHWZjLy6",
    "outputId": "db7dd0c0-b9e8-4804-c976-1f917ba2f129"
   },
   "outputs": [
    {
     "name": "stdout",
     "output_type": "stream",
     "text": [
      "(60000, 28, 28) (10000, 28, 28)\n"
     ]
    }
   ],
   "source": [
    "from tensorflow.keras.datasets.fashion_mnist import load_data\n",
    "\n",
    "# Fashion-MNIST 데이터 다운\n",
    "(x_train, y_train), (x_test, y_test) = load_data()\n",
    "print(x_train.shape, x_test.shape)"
   ]
  },
  {
   "cell_type": "markdown",
   "metadata": {
    "id": "uj99NEC7jtmx"
   },
   "source": [
    "##### 데이터 그려보기"
   ]
  },
  {
   "cell_type": "code",
   "execution_count": null,
   "metadata": {
    "colab": {
     "base_uri": "https://localhost:8080/",
     "height": 317
    },
    "id": "Q70PkP3Nj05y",
    "outputId": "0943b7f8-b930-4b77-a243-6cb9b53783b9"
   },
   "outputs": [
    {
     "data": {
      "image/png": "[encoded data removed]",
      "text/plain": [
       "<Figure size 360x360 with 9 Axes>"
      ]
     },
     "metadata": {},
     "output_type": "display_data"
    }
   ],
   "source": [
    "import matplotlib.pyplot as plt\n",
    "import numpy as np\n",
    "np.random.seed(777)\n",
    "\n",
    "class_names = ['T-shirt/top', 'Trouser', 'Pullover', 'Dress', 'Coast', 'Sandal', \n",
    "               'Shirt', 'Sneaker', 'Bag', 'Ankle boot']\n",
    "\n",
    "sample_size = 9\n",
    "random_idx = np.random.randint(60000, size=sample_size)\n",
    "\n",
    "plt.figure(figsize=(5,5))\n",
    "for i, idx in enumerate(random_idx):\n",
    "  plt.subplot(3,3,i+1)\n",
    "  plt.xticks([])\n",
    "  plt.yticks([])\n",
    "  plt.imshow(x_train[i], cmap='gray')\n",
    "  plt.xlabel(class_names[y_train[i]])\n",
    "plt.show()"
   ]
  },
  {
   "cell_type": "markdown",
   "metadata": {
    "id": "2X-JtbCFj6k_"
   },
   "source": [
    "##### 데이터 전처리 및 검증 데이터셋 만들기"
   ]
  },
  {
   "cell_type": "code",
   "execution_count": null,
   "metadata": {
    "id": "RmPTGaB4j-ca"
   },
   "outputs": [],
   "source": [
    "# 0-1 범위로 만들기\n",
    "x_train = x_train / 255\n",
    "x_test = x_test / 255\n",
    "\n",
    "from tensorflow.keras.utils import to_categorical\n",
    "\n",
    "# 각 데이터의 레이블을 범주형 형태로 변경\n",
    "y_train = to_categorical(y_train)\n",
    "y_test = to_categorical(y_test)\n",
    "\n",
    "# 검증 데이터셋 만들기\n",
    "\n",
    "from sklearn.model_selection import train_test_split\n",
    "\n",
    "# 학습/테스트 데이터를 0.7/0.3의 비율로 분리\n",
    "x_train, x_val, y_train, y_val = train_test_split(x_train, y_train, \n",
    "                                                  test_size=0.3, random_state=777)\n"
   ]
  },
  {
   "cell_type": "markdown",
   "metadata": {
    "id": "r7jbbnEmkDbR"
   },
   "source": [
    "### 4.4.2 완전연결 신경망"
   ]
  },
  {
   "cell_type": "markdown",
   "metadata": {
    "id": "LPmtM54bkeZi"
   },
   "source": [
    "##### 모델 구성\n",
    "\n",
    "\n"
   ]
  },
  {
   "cell_type": "code",
   "execution_count": null,
   "metadata": {
    "id": "_Q4sRqIbkci7"
   },
   "outputs": [],
   "source": [
    "from tensorflow.keras.models import Sequential\n",
    "from tensorflow.keras.layers import Dense, Flatten\n",
    "\n",
    "first_model = Sequential()\n",
    "\n",
    "first_model.add(Flatten(input_shape=(28,28))) \n",
    "# 입력 데이터의 형태를 꼭 명시 (28, 28) -> (28*28) \n",
    "first_model.add(Dense(64, activation='relu')) # 64개의 출력을 가지는 Dense 층\n",
    "first_model.add(Dense(32, activation='relu')) # 32개의 출력을 가지는 Dense 층\n",
    "first_model.add(Dense(10, activation='softmax')) # 10개의 출력을 가지는 Dense 층"
   ]
  },
  {
   "cell_type": "code",
   "execution_count": null,
   "metadata": {
    "colab": {
     "base_uri": "https://localhost:8080/"
    },
    "id": "g_EI3zwItNou",
    "outputId": "35ee48f8-0c71-4690-99d4-ecabf87e2e0e"
   },
   "outputs": [
    {
     "name": "stdout",
     "output_type": "stream",
     "text": [
      "Model: \"sequential_3\"\n",
      "_________________________________________________________________\n",
      "Layer (type)                 Output Shape              Param #   \n",
      "=================================================================\n",
      "flatten_3 (Flatten)          (None, 784)               0         \n",
      "_________________________________________________________________\n",
      "dense_7 (Dense)              (None, 64)                50240     \n",
      "_________________________________________________________________\n",
      "dense_8 (Dense)              (None, 32)                2080      \n",
      "_________________________________________________________________\n",
      "dense_9 (Dense)              (None, 10)                330       \n",
      "=================================================================\n",
      "Total params: 52,650\n",
      "Trainable params: 52,650\n",
      "Non-trainable params: 0\n",
      "_________________________________________________________________\n"
     ]
    }
   ],
   "source": [
    "first_model.summary()"
   ]
  },
  {
   "cell_type": "markdown",
   "metadata": {
    "id": "SkkvAERUkmOR"
   },
   "source": [
    "##### 학습 과정 설정 및 학습"
   ]
  },
  {
   "cell_type": "code",
   "execution_count": null,
   "metadata": {
    "colab": {
     "base_uri": "https://localhost:8080/"
    },
    "id": "GbWGcfd5kqBW",
    "outputId": "1fba5109-c9cd-42e1-c5ad-9302d8298521"
   },
   "outputs": [
    {
     "name": "stdout",
     "output_type": "stream",
     "text": [
      "Epoch 1/30\n",
      "329/329 [==============================] - 2s 4ms/step - loss: 0.6881 - acc: 0.7629 - val_loss: 0.4814 - val_acc: 0.8368\n",
      "Epoch 2/30\n",
      "329/329 [==============================] - 1s 3ms/step - loss: 0.4443 - acc: 0.8440 - val_loss: 0.4364 - val_acc: 0.8508\n",
      "Epoch 3/30\n",
      "329/329 [==============================] - 1s 4ms/step - loss: 0.3992 - acc: 0.8588 - val_loss: 0.3912 - val_acc: 0.8650\n",
      "Epoch 4/30\n",
      "329/329 [==============================] - 1s 3ms/step - loss: 0.3770 - acc: 0.8663 - val_loss: 0.3797 - val_acc: 0.8668\n",
      "Epoch 5/30\n",
      "329/329 [==============================] - 1s 4ms/step - loss: 0.3584 - acc: 0.8707 - val_loss: 0.3717 - val_acc: 0.8698\n",
      "Epoch 6/30\n",
      "329/329 [==============================] - 1s 4ms/step - loss: 0.3462 - acc: 0.8756 - val_loss: 0.3613 - val_acc: 0.8716\n",
      "Epoch 7/30\n",
      "329/329 [==============================] - 1s 3ms/step - loss: 0.3282 - acc: 0.8819 - val_loss: 0.3595 - val_acc: 0.8691\n",
      "Epoch 8/30\n",
      "329/329 [==============================] - 1s 3ms/step - loss: 0.3173 - acc: 0.8843 - val_loss: 0.3426 - val_acc: 0.8794\n",
      "Epoch 9/30\n",
      "329/329 [==============================] - 1s 3ms/step - loss: 0.3044 - acc: 0.8893 - val_loss: 0.3515 - val_acc: 0.8738\n",
      "Epoch 10/30\n",
      "329/329 [==============================] - 1s 4ms/step - loss: 0.2975 - acc: 0.8915 - val_loss: 0.3343 - val_acc: 0.8789\n",
      "Epoch 11/30\n",
      "329/329 [==============================] - 1s 3ms/step - loss: 0.2886 - acc: 0.8935 - val_loss: 0.3321 - val_acc: 0.8831\n",
      "Epoch 12/30\n",
      "329/329 [==============================] - 1s 4ms/step - loss: 0.2817 - acc: 0.8960 - val_loss: 0.3228 - val_acc: 0.8857\n",
      "Epoch 13/30\n",
      "329/329 [==============================] - 1s 3ms/step - loss: 0.2697 - acc: 0.9010 - val_loss: 0.3362 - val_acc: 0.8782\n",
      "Epoch 14/30\n",
      "329/329 [==============================] - 1s 3ms/step - loss: 0.2689 - acc: 0.9008 - val_loss: 0.3494 - val_acc: 0.8759\n",
      "Epoch 15/30\n",
      "329/329 [==============================] - 1s 3ms/step - loss: 0.2618 - acc: 0.9035 - val_loss: 0.3436 - val_acc: 0.8766\n",
      "Epoch 16/30\n",
      "329/329 [==============================] - 1s 3ms/step - loss: 0.2565 - acc: 0.9064 - val_loss: 0.3148 - val_acc: 0.8883\n",
      "Epoch 17/30\n",
      "329/329 [==============================] - 1s 4ms/step - loss: 0.2498 - acc: 0.9073 - val_loss: 0.3234 - val_acc: 0.8849\n",
      "Epoch 18/30\n",
      "329/329 [==============================] - 1s 3ms/step - loss: 0.2442 - acc: 0.9098 - val_loss: 0.3362 - val_acc: 0.8819\n",
      "Epoch 19/30\n",
      "329/329 [==============================] - 1s 4ms/step - loss: 0.2426 - acc: 0.9103 - val_loss: 0.3287 - val_acc: 0.8846\n",
      "Epoch 20/30\n",
      "329/329 [==============================] - 1s 3ms/step - loss: 0.2338 - acc: 0.9142 - val_loss: 0.3234 - val_acc: 0.8860\n",
      "Epoch 21/30\n",
      "329/329 [==============================] - 1s 3ms/step - loss: 0.2316 - acc: 0.9136 - val_loss: 0.3256 - val_acc: 0.8842\n",
      "Epoch 22/30\n",
      "329/329 [==============================] - 1s 4ms/step - loss: 0.2252 - acc: 0.9178 - val_loss: 0.3287 - val_acc: 0.8836\n",
      "Epoch 23/30\n",
      "329/329 [==============================] - 1s 4ms/step - loss: 0.2248 - acc: 0.9175 - val_loss: 0.3271 - val_acc: 0.8853\n",
      "Epoch 24/30\n",
      "329/329 [==============================] - 1s 4ms/step - loss: 0.2182 - acc: 0.9189 - val_loss: 0.3341 - val_acc: 0.8843\n",
      "Epoch 25/30\n",
      "329/329 [==============================] - 1s 3ms/step - loss: 0.2178 - acc: 0.9191 - val_loss: 0.3508 - val_acc: 0.8775\n",
      "Epoch 26/30\n",
      "329/329 [==============================] - 1s 4ms/step - loss: 0.2074 - acc: 0.9224 - val_loss: 0.3328 - val_acc: 0.8845\n",
      "Epoch 27/30\n",
      "329/329 [==============================] - 1s 3ms/step - loss: 0.2072 - acc: 0.9219 - val_loss: 0.3248 - val_acc: 0.8875\n",
      "Epoch 28/30\n",
      "329/329 [==============================] - 1s 4ms/step - loss: 0.2061 - acc: 0.9234 - val_loss: 0.3271 - val_acc: 0.8854\n",
      "Epoch 29/30\n",
      "329/329 [==============================] - 1s 4ms/step - loss: 0.1991 - acc: 0.9254 - val_loss: 0.3333 - val_acc: 0.8871\n",
      "Epoch 30/30\n",
      "329/329 [==============================] - 1s 3ms/step - loss: 0.1973 - acc: 0.9261 - val_loss: 0.3267 - val_acc: 0.8908\n"
     ]
    }
   ],
   "source": [
    "first_model.compile(optimizer='adam', loss='categorical_crossentropy',\n",
    "                    metrics=['acc'])\n",
    "\n",
    "first_history = first_model.fit(x_train, y_train, epochs=30, batch_size=128, \n",
    "                                validation_data=(x_val, y_val))"
   ]
  },
  {
   "cell_type": "markdown",
   "metadata": {
    "id": "_luWblw4k5Cv"
   },
   "source": [
    "##### 학습 결과\n",
    "\n",
    "- 10 에폭 전후로 오버피팅이 되기 시작하는 것으로 보임\n",
    "- 30 에폭 기준 validation accuracy 89%\n",
    "\n"
   ]
  },
  {
   "cell_type": "markdown",
   "metadata": {
    "id": "2Faxj1aEq82s"
   },
   "source": [
    "##### 모델 평가"
   ]
  },
  {
   "cell_type": "code",
   "execution_count": null,
   "metadata": {
    "colab": {
     "base_uri": "https://localhost:8080/"
    },
    "id": "rG6WRL_Kq2aL",
    "outputId": "7e049754-3a81-4b33-d1c6-cf8fad1e4966"
   },
   "outputs": [
    {
     "name": "stdout",
     "output_type": "stream",
     "text": [
      "313/313 [==============================] - 0s 1ms/step - loss: 0.3702 - acc: 0.8795\n"
     ]
    },
    {
     "data": {
      "text/plain": [
       "[0.3701864182949066, 0.8794999718666077]"
      ]
     },
     "execution_count": 21,
     "metadata": {},
     "output_type": "execute_result"
    }
   ],
   "source": [
    "first_model.evaluate(x_test, y_test)"
   ]
  },
  {
   "cell_type": "markdown",
   "metadata": {
    "id": "NpcsixBbtGNd"
   },
   "source": [
    "- 테스트 accuracy는 88%"
   ]
  },
  {
   "cell_type": "markdown",
   "metadata": {
    "id": "fncw1uh6lwmC"
   },
   "source": [
    "### 4.4.3 CNN\n"
   ]
  },
  {
   "cell_type": "markdown",
   "metadata": {
    "id": "osZFSWGanSvY"
   },
   "source": [
    "##### 데이터 준비"
   ]
  },
  {
   "cell_type": "code",
   "execution_count": null,
   "metadata": {
    "id": "mnfzBpYVnUSw"
   },
   "outputs": [],
   "source": [
    "from tensorflow.keras.datasets import fashion_mnist\n",
    "\n",
    "# 데이터 다운\n",
    "(x_train, y_train), (x_test, y_test) = fashion_mnist.load_data()\n",
    "\n",
    "np.random.seed(777)\n",
    "\n",
    "# 데이터를 0~1 범위로 만들고 shape을 적절한 형태로 만들어줌\n",
    "x_train = np.reshape(x_train / 255, (-1, 28, 28, 1)) \n",
    "# (batch_size, rows, cols, channels) -1의 의미는 배열 크기로부터 자동으로 값을 추정\n",
    "x_test = np.reshape(x_test / 255, (-1, 28, 28, 1))\n",
    "\n",
    "# 각 데이터의 레이블을 범주형 형태로 변경\n",
    "from tensorflow.keras.utils import to_categorical\n",
    "y_train = to_categorical(y_train)\n",
    "y_test = to_categorical(y_test)\n",
    "\n",
    "# 검증 데이터셋 만들기\n",
    "from sklearn.model_selection import train_test_split\n",
    "# 학습 데이터를 7/3 비율로 분리\n",
    "x_train, x_val, y_train, y_val = train_test_split(x_train, y_train, \n",
    "                                                  test_size=0.3, random_state=777)\n"
   ]
  },
  {
   "cell_type": "markdown",
   "metadata": {
    "id": "DrdMzbeBlzUm"
   },
   "source": [
    "##### 모델 구성"
   ]
  },
  {
   "cell_type": "code",
   "execution_count": null,
   "metadata": {
    "id": "lnx39vCvmgBk"
   },
   "outputs": [],
   "source": [
    "\n",
    "from tensorflow.keras.models import Sequential\n",
    "from tensorflow.keras.layers import Conv2D, MaxPool2D, Dense, Flatten\n",
    "\n",
    "model = Sequential([\n",
    "                    Conv2D(filters=16, kernel_size=3, padding='same', \n",
    "                           activation='relu', input_shape=(28,28,1)),\n",
    "                    MaxPool2D(pool_size=(2,2), strides=2, padding='same'),\n",
    "                    Conv2D(filters=32, kernel_size=3, padding='same', \n",
    "                           activation='relu'),\n",
    "                    MaxPool2D(pool_size=(2,2), strides=2, padding='same'),\n",
    "                    Conv2D(filters=64, kernel_size=3, padding='same', \n",
    "                           activation='relu'),\n",
    "                    MaxPool2D(pool_size=(2,2), strides=2, padding='same'),\n",
    "                    Flatten(),\n",
    "                    Dense(64, activation='relu'),\n",
    "                    Dense(10, activation='softmax')\n",
    "])"
   ]
  },
  {
   "cell_type": "markdown",
   "metadata": {
    "id": "AxSP_f6Wm8aN"
   },
   "source": [
    "- Conv2D: 2D convolution layer \n",
    " - filters: Convolution 필터 개수\n",
    " - kernel_size: 필터(커널) 크기, 3: 3x3\n",
    " - padding: 패딩 방법 ('valid' 또는 'same'), 'same': 출력 데이터 크기가 입력 데이터 크기와 동일하도록 0 패딩 추가. 'valid': 패딩 사용하지 않음\n",
    " - activation: 활성화 함수\n",
    " - input_shape: 입력 데이터 형상\n",
    " - https://keras.io/api/layers/convolution_layers/convolution2d/\n",
    " - 예제 코드에는 없지만 strides 매개변수는 스트라이드 크기를 지정. 기본값은 (1,1), kernel_size와 같이 하나의 숫자로 설정 가능\n",
    "\n",
    "\n",
    "- MaxPool2D: 2D 데이터에 대한 max pooling layer\n",
    " - pool_size: 풀링 영역 크기 (풀링층 커널 크기)\n",
    " - strides: 풀링 연산 적용 간격\n",
    " - padding: 패딩 방법 ('valid' 또는 'same')\n",
    " - https://keras.io/api/layers/pooling_layers/max_pooling2d/\n",
    "\n"
   ]
  },
  {
   "cell_type": "code",
   "execution_count": null,
   "metadata": {
    "colab": {
     "base_uri": "https://localhost:8080/"
    },
    "id": "Qc_QhHmIpqg8",
    "outputId": "47e30c98-edbb-4bcc-d0a1-9ef1ad5d0750"
   },
   "outputs": [
    {
     "name": "stdout",
     "output_type": "stream",
     "text": [
      "Model: \"sequential_2\"\n",
      "_________________________________________________________________\n",
      "Layer (type)                 Output Shape              Param #   \n",
      "=================================================================\n",
      "conv2d_3 (Conv2D)            (None, 28, 28, 16)        160       \n",
      "_________________________________________________________________\n",
      "max_pooling2d_3 (MaxPooling2 (None, 14, 14, 16)        0         \n",
      "_________________________________________________________________\n",
      "conv2d_4 (Conv2D)            (None, 14, 14, 32)        4640      \n",
      "_________________________________________________________________\n",
      "max_pooling2d_4 (MaxPooling2 (None, 7, 7, 32)          0         \n",
      "_________________________________________________________________\n",
      "conv2d_5 (Conv2D)            (None, 7, 7, 64)          18496     \n",
      "_________________________________________________________________\n",
      "max_pooling2d_5 (MaxPooling2 (None, 4, 4, 64)          0         \n",
      "_________________________________________________________________\n",
      "flatten_2 (Flatten)          (None, 1024)              0         \n",
      "_________________________________________________________________\n",
      "dense_5 (Dense)              (None, 64)                65600     \n",
      "_________________________________________________________________\n",
      "dense_6 (Dense)              (None, 10)                650       \n",
      "=================================================================\n",
      "Total params: 89,546\n",
      "Trainable params: 89,546\n",
      "Non-trainable params: 0\n",
      "_________________________________________________________________\n"
     ]
    }
   ],
   "source": [
    "model.summary()"
   ]
  },
  {
   "cell_type": "markdown",
   "metadata": {
    "id": "_1tp3-5dmpSv"
   },
   "source": [
    "##### 학습 과정 설정 및 학습"
   ]
  },
  {
   "cell_type": "code",
   "execution_count": null,
   "metadata": {
    "colab": {
     "base_uri": "https://localhost:8080/"
    },
    "id": "UGVuI4ShmrjL",
    "outputId": "f238005d-14cd-4edd-f8ef-858cc689de22"
   },
   "outputs": [
    {
     "name": "stdout",
     "output_type": "stream",
     "text": [
      "Epoch 1/30\n",
      "329/329 [==============================] - 35s 105ms/step - loss: 0.6586 - acc: 0.7630 - val_loss: 0.4377 - val_acc: 0.8391\n",
      "Epoch 2/30\n",
      "329/329 [==============================] - 34s 104ms/step - loss: 0.4040 - acc: 0.8532 - val_loss: 0.4046 - val_acc: 0.8492\n",
      "Epoch 3/30\n",
      "329/329 [==============================] - 35s 106ms/step - loss: 0.3443 - acc: 0.8745 - val_loss: 0.3409 - val_acc: 0.8765\n",
      "Epoch 4/30\n",
      "329/329 [==============================] - 35s 106ms/step - loss: 0.3103 - acc: 0.8882 - val_loss: 0.3136 - val_acc: 0.8863\n",
      "Epoch 5/30\n",
      "329/329 [==============================] - 35s 106ms/step - loss: 0.2861 - acc: 0.8960 - val_loss: 0.3120 - val_acc: 0.8845\n",
      "Epoch 6/30\n",
      "329/329 [==============================] - 35s 107ms/step - loss: 0.2683 - acc: 0.9024 - val_loss: 0.2698 - val_acc: 0.9028\n",
      "Epoch 7/30\n",
      "329/329 [==============================] - 34s 102ms/step - loss: 0.2468 - acc: 0.9087 - val_loss: 0.3097 - val_acc: 0.8849\n",
      "Epoch 8/30\n",
      "329/329 [==============================] - 35s 105ms/step - loss: 0.2361 - acc: 0.9133 - val_loss: 0.2588 - val_acc: 0.9059\n",
      "Epoch 9/30\n",
      "329/329 [==============================] - 35s 105ms/step - loss: 0.2226 - acc: 0.9181 - val_loss: 0.2775 - val_acc: 0.9032\n",
      "Epoch 10/30\n",
      "329/329 [==============================] - 35s 106ms/step - loss: 0.2121 - acc: 0.9220 - val_loss: 0.2678 - val_acc: 0.8998\n",
      "Epoch 11/30\n",
      "329/329 [==============================] - 35s 107ms/step - loss: 0.1999 - acc: 0.9276 - val_loss: 0.2630 - val_acc: 0.9087\n",
      "Epoch 12/30\n",
      "329/329 [==============================] - 35s 107ms/step - loss: 0.1881 - acc: 0.9312 - val_loss: 0.2421 - val_acc: 0.9152\n",
      "Epoch 13/30\n",
      "329/329 [==============================] - 34s 103ms/step - loss: 0.1794 - acc: 0.9327 - val_loss: 0.2360 - val_acc: 0.9179\n",
      "Epoch 14/30\n",
      "329/329 [==============================] - 34s 102ms/step - loss: 0.1710 - acc: 0.9375 - val_loss: 0.2542 - val_acc: 0.9126\n",
      "Epoch 15/30\n",
      "329/329 [==============================] - 35s 106ms/step - loss: 0.1591 - acc: 0.9419 - val_loss: 0.2413 - val_acc: 0.9148\n",
      "Epoch 16/30\n",
      "329/329 [==============================] - 35s 105ms/step - loss: 0.1552 - acc: 0.9428 - val_loss: 0.2451 - val_acc: 0.9166\n",
      "Epoch 17/30\n",
      "329/329 [==============================] - 33s 101ms/step - loss: 0.1423 - acc: 0.9478 - val_loss: 0.2768 - val_acc: 0.9056\n",
      "Epoch 18/30\n",
      "329/329 [==============================] - 33s 101ms/step - loss: 0.1355 - acc: 0.9493 - val_loss: 0.2357 - val_acc: 0.9206\n",
      "Epoch 19/30\n",
      "329/329 [==============================] - 33s 102ms/step - loss: 0.1249 - acc: 0.9541 - val_loss: 0.2501 - val_acc: 0.9176\n",
      "Epoch 20/30\n",
      "329/329 [==============================] - 34s 102ms/step - loss: 0.1196 - acc: 0.9558 - val_loss: 0.2581 - val_acc: 0.9136\n",
      "Epoch 21/30\n",
      "329/329 [==============================] - 34s 103ms/step - loss: 0.1114 - acc: 0.9585 - val_loss: 0.2658 - val_acc: 0.9164\n",
      "Epoch 22/30\n",
      "329/329 [==============================] - 34s 102ms/step - loss: 0.1102 - acc: 0.9588 - val_loss: 0.2650 - val_acc: 0.9167\n",
      "Epoch 23/30\n",
      "329/329 [==============================] - 34s 103ms/step - loss: 0.0998 - acc: 0.9639 - val_loss: 0.2678 - val_acc: 0.9186\n",
      "Epoch 24/30\n",
      "329/329 [==============================] - 34s 103ms/step - loss: 0.0902 - acc: 0.9664 - val_loss: 0.2855 - val_acc: 0.9166\n",
      "Epoch 25/30\n",
      "329/329 [==============================] - 34s 103ms/step - loss: 0.0874 - acc: 0.9677 - val_loss: 0.2866 - val_acc: 0.9176\n",
      "Epoch 26/30\n",
      "329/329 [==============================] - 34s 102ms/step - loss: 0.0768 - acc: 0.9720 - val_loss: 0.2901 - val_acc: 0.9165\n",
      "Epoch 27/30\n",
      "329/329 [==============================] - 34s 104ms/step - loss: 0.0718 - acc: 0.9740 - val_loss: 0.2941 - val_acc: 0.9178\n",
      "Epoch 28/30\n",
      "329/329 [==============================] - 35s 105ms/step - loss: 0.0639 - acc: 0.9765 - val_loss: 0.3205 - val_acc: 0.9189\n",
      "Epoch 29/30\n",
      "329/329 [==============================] - 35s 106ms/step - loss: 0.0630 - acc: 0.9766 - val_loss: 0.3356 - val_acc: 0.9136\n",
      "Epoch 30/30\n",
      "329/329 [==============================] - 35s 105ms/step - loss: 0.0592 - acc: 0.9790 - val_loss: 0.3305 - val_acc: 0.9184\n"
     ]
    },
    {
     "data": {
      "text/plain": [
       "<keras.callbacks.History at 0x7faf894cc210>"
      ]
     },
     "execution_count": 11,
     "metadata": {},
     "output_type": "execute_result"
    }
   ],
   "source": [
    "model.compile(optimizer='adam', loss='categorical_crossentropy', metrics=['acc'])\n",
    "\n",
    "model.fit(x_train, y_train, epochs=30, batch_size=128, \n",
    "          validation_data=(x_val, y_val))"
   ]
  },
  {
   "cell_type": "markdown",
   "metadata": {
    "id": "KKaAPsdcsAdN"
   },
   "source": [
    "##### 학습 결과\n",
    "\n",
    "- 이전과 비슷하게 10 에폭 근처에서 오버피팅이 되기 시작하는 것으로 보임\n",
    " - 에폭 수를 줄여서 학습을 해도 됨\n",
    "- 30 에폭 기준 validation accuracy 92%\n",
    "- MLP보다 3% 높음"
   ]
  },
  {
   "cell_type": "markdown",
   "metadata": {
    "id": "QYhROyEusC8d"
   },
   "source": [
    "##### 모델 평가"
   ]
  },
  {
   "cell_type": "code",
   "execution_count": null,
   "metadata": {
    "colab": {
     "base_uri": "https://localhost:8080/"
    },
    "id": "vZHn6mUhsEba",
    "outputId": "8ccc4662-d14e-4a97-e3b8-acb8fcba9403"
   },
   "outputs": [
    {
     "name": "stdout",
     "output_type": "stream",
     "text": [
      "313/313 [==============================] - 3s 10ms/step - loss: 0.3558 - acc: 0.9120\n"
     ]
    },
    {
     "data": {
      "text/plain": [
       "[0.3558122217655182, 0.9120000004768372]"
      ]
     },
     "execution_count": 13,
     "metadata": {},
     "output_type": "execute_result"
    }
   ],
   "source": [
    "model.evaluate(x_test, y_test)"
   ]
  },
  {
   "cell_type": "markdown",
   "metadata": {
    "id": "rOxLbnqasiSW"
   },
   "source": [
    "- 테스트 accuracy는 91.2%\n",
    "- MLP보다 3% 향상"
   ]
  },
  {
   "cell_type": "markdown",
   "metadata": {
    "id": "IgF_gwa8uksI"
   },
   "source": [
    "---\n",
    "\n",
    "### 실습해보기\n",
    "\n",
    "- CNN에서 네트워크의 구조를 변경하여 학습을 다시 하고 결과를 비교해보자\n",
    " - 층 개수\n",
    " - 필터 개수\n",
    "\n",
    "- Conv 층의 파라미터 개수를 직접 계산해보고 model.summary() 실행 결과와 일치하는지 확인해보자 "
   ]
  }
 ],
 "metadata": {
  "colab": {
   "collapsed_sections": [],
   "name": "06.CNN_기초.ipynb",
   "provenance": [],
   "toc_visible": true
  },
  "kernelspec": {
   "display_name": "Python 3",
   "language": "python",
   "name": "python3"
  },
  "language_info": {
   "codemirror_mode": {
    "name": "ipython",
    "version": 3
   },
   "file_extension": ".py",
   "mimetype": "text/x-python",
   "name": "python",
   "nbconvert_exporter": "python",
   "pygments_lexer": "ipython3",
   "version": "3.6.10"
  }
 },
 "nbformat": 4,
 "nbformat_minor": 1
}
